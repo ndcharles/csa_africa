{
 "cells": [
  {
   "cell_type": "markdown",
   "id": "e81899e2",
   "metadata": {},
   "source": [
    "In today's exercises, we'll practice the material that was covered in this morning's lecture.\n",
    "\n",
    "Some problems at the end of the exercise notebook are marked as _optional_. Your progress on those problems won't be assessed: these problems have been provided as an additional challenge for people that have found the earlier problems straightforward."
   ]
  },
  {
   "cell_type": "markdown",
   "id": "aadb7cfa",
   "metadata": {},
   "source": [
    "## 1. Fix the names\n",
    "\n",
    "Write a function, `fix_names`, that takes a list of names, and returns the names properly formatted. A name is properly formatted if it has a capital letter at the beginning of each separate word.\n",
    "\n",
    "For example, if `names = [\"bob\", \"sofiat\", \"fionnuaLA\", \"aNgus\"]`, then `fix_names(names) == [\"Bob\", \"Sofiat\", \"Fionnuala\", \"Angus\"]`.\n",
    "\n",
    "You should use functional programming techniques to solve this problem."
   ]
  },
  {
   "cell_type": "code",
   "execution_count": 90,
   "id": "0230410f-8819-4ea9-a358-e99941194f51",
   "metadata": {},
   "outputs": [],
   "source": [
    "names = [\"bob\", \"sofiat\", \"fionnuaLA\", \"aNgus\"]"
   ]
  },
  {
   "cell_type": "code",
   "execution_count": 91,
   "id": "f1cb2b7d-b5da-49d8-8122-6671cfb7cdfc",
   "metadata": {},
   "outputs": [],
   "source": [
    "#lambda function version\n",
    "def fix_names(name):\n",
    "    return list(map(lambda x: x.capitalize(), name))"
   ]
  },
  {
   "cell_type": "code",
   "execution_count": 92,
   "id": "ecf748ae-dbdf-4c1a-a061-a963f20bc155",
   "metadata": {},
   "outputs": [
    {
     "data": {
      "text/plain": [
       "['Bob', 'Sofiat', 'Fionnuala', 'Angus']"
      ]
     },
     "execution_count": 92,
     "metadata": {},
     "output_type": "execute_result"
    }
   ],
   "source": [
    "fix_names(names)"
   ]
  },
  {
   "cell_type": "markdown",
   "id": "b961fb75",
   "metadata": {},
   "source": [
    "## 2. pi\n",
    "\n",
    "Write a function, `pi_to_n`, that returns a list of _n_ values of pi, with increasing numbers of decimal places, starting with 3.14.\n",
    "\n",
    "For example, `pi_to_n(3) == [3.14, 3.142, 3.1416]`.\n",
    "\n",
    "You should use functional programming techniques to solve this problem.\n",
    "\n",
    "_Hint: math.pi will give you the value of pi._"
   ]
  },
  {
   "cell_type": "code",
   "execution_count": 93,
   "id": "bbd9ec5e",
   "metadata": {},
   "outputs": [],
   "source": [
    "import math\n",
    "def pi_to_n(n):\n",
    "    return list(map(lambda n: round(math.pi, n), range(2, n+1)))"
   ]
  },
  {
   "cell_type": "code",
   "execution_count": 94,
   "id": "741a57d3-8de7-468f-8730-8f755c364298",
   "metadata": {},
   "outputs": [
    {
     "data": {
      "text/plain": [
       "[3.14, 3.142]"
      ]
     },
     "execution_count": 94,
     "metadata": {},
     "output_type": "execute_result"
    }
   ],
   "source": [
    "pi_to_n(3)"
   ]
  },
  {
   "cell_type": "markdown",
   "id": "6998e2a3",
   "metadata": {},
   "source": [
    "## 3. zip\n",
    "\n",
    "Write a function, `zip_the_lists`, that takes two lists, of the same length, and returns a single list, where each element is a tuple containing elements from the same position in each list.\n",
    "\n",
    "For example, `zip_the_lists([1, 2, 3], [4, 5, 6]) == [(1, 4), (2, 5), (3, 6)]`.\n",
    "\n",
    "You should use functional programming techniques to solve this problem."
   ]
  },
  {
   "cell_type": "code",
   "execution_count": 4,
   "id": "be675cff-9605-4b5b-9dd5-d559210c0416",
   "metadata": {},
   "outputs": [],
   "source": [
    "def zip_the_lists(list_a, list_b):\n",
    "    result = zip(list_a, list_b)\n",
    "    return list(result)"
   ]
  },
  {
   "cell_type": "code",
   "execution_count": 5,
   "id": "5169af34-1d94-48f7-9874-34f2c88afb6e",
   "metadata": {},
   "outputs": [],
   "source": [
    "list_a = [1, 2, 3]\n",
    "list_b = [4, 5, 6]"
   ]
  },
  {
   "cell_type": "code",
   "execution_count": 6,
   "id": "8e7ec4b3-578b-49ad-87c3-044c3d03f955",
   "metadata": {},
   "outputs": [
    {
     "data": {
      "text/plain": [
       "[(1, 4), (2, 5), (3, 6)]"
      ]
     },
     "execution_count": 6,
     "metadata": {},
     "output_type": "execute_result"
    }
   ],
   "source": [
    "zip_the_lists(list_a, list_b)"
   ]
  },
  {
   "cell_type": "code",
   "execution_count": 32,
   "id": "d5a4a9ed-5bc5-4518-89a4-2c34d3810520",
   "metadata": {},
   "outputs": [],
   "source": [
    "# lambda and map\n",
    "def zip_the_list(x, y):\n",
    "    return list(map(lambda x, y: (x, y), x, y))"
   ]
  },
  {
   "cell_type": "code",
   "execution_count": 31,
   "id": "b208dbba-0932-4e2b-857f-a5f2c67c7f68",
   "metadata": {},
   "outputs": [
    {
     "data": {
      "text/plain": [
       "[(1, 4), (2, 5), (3, 6)]"
      ]
     },
     "execution_count": 31,
     "metadata": {},
     "output_type": "execute_result"
    }
   ],
   "source": [
    "zip_the_list(list_a, list_b)"
   ]
  },
  {
   "cell_type": "markdown",
   "id": "34afee26",
   "metadata": {},
   "source": [
    "## 4. Even numbers\n",
    "\n",
    "Write a program that prints the first 200 even numbers.\n",
    "\n",
    "You should use functional programming techniques to solve this problem."
   ]
  },
  {
   "cell_type": "code",
   "execution_count": 64,
   "id": "ad137ab4",
   "metadata": {},
   "outputs": [],
   "source": [
    "def first_two_hun():\n",
    "    two_hun = [i for i in range(2,402) if i%2 == 0]\n",
    "    return print(two_hun[:202])"
   ]
  },
  {
   "cell_type": "code",
   "execution_count": 65,
   "id": "0028a8b3-738d-48a0-8a87-37bbff4a36c9",
   "metadata": {},
   "outputs": [
    {
     "name": "stdout",
     "output_type": "stream",
     "text": [
      "[2, 4, 6, 8, 10, 12, 14, 16, 18, 20, 22, 24, 26, 28, 30, 32, 34, 36, 38, 40, 42, 44, 46, 48, 50, 52, 54, 56, 58, 60, 62, 64, 66, 68, 70, 72, 74, 76, 78, 80, 82, 84, 86, 88, 90, 92, 94, 96, 98, 100, 102, 104, 106, 108, 110, 112, 114, 116, 118, 120, 122, 124, 126, 128, 130, 132, 134, 136, 138, 140, 142, 144, 146, 148, 150, 152, 154, 156, 158, 160, 162, 164, 166, 168, 170, 172, 174, 176, 178, 180, 182, 184, 186, 188, 190, 192, 194, 196, 198, 200, 202, 204, 206, 208, 210, 212, 214, 216, 218, 220, 222, 224, 226, 228, 230, 232, 234, 236, 238, 240, 242, 244, 246, 248, 250, 252, 254, 256, 258, 260, 262, 264, 266, 268, 270, 272, 274, 276, 278, 280, 282, 284, 286, 288, 290, 292, 294, 296, 298, 300, 302, 304, 306, 308, 310, 312, 314, 316, 318, 320, 322, 324, 326, 328, 330, 332, 334, 336, 338, 340, 342, 344, 346, 348, 350, 352, 354, 356, 358, 360, 362, 364, 366, 368, 370, 372, 374, 376, 378, 380, 382, 384, 386, 388, 390, 392, 394, 396, 398, 400]\n"
     ]
    }
   ],
   "source": [
    "first_two_hun()"
   ]
  },
  {
   "cell_type": "code",
   "execution_count": 109,
   "id": "f4d8aa29-4d9e-4968-aa9d-7766364f4297",
   "metadata": {},
   "outputs": [
    {
     "name": "stdout",
     "output_type": "stream",
     "text": [
      "[2, 4, 6, 8, 10, 12, 14, 16, 18, 20, 22, 24, 26, 28, 30, 32, 34, 36, 38, 40, 42, 44, 46, 48, 50, 52, 54, 56, 58, 60, 62, 64, 66, 68, 70, 72, 74, 76, 78, 80, 82, 84, 86, 88, 90, 92, 94, 96, 98, 100, 102, 104, 106, 108, 110, 112, 114, 116, 118, 120, 122, 124, 126, 128, 130, 132, 134, 136, 138, 140, 142, 144, 146, 148, 150, 152, 154, 156, 158, 160, 162, 164, 166, 168, 170, 172, 174, 176, 178, 180, 182, 184, 186, 188, 190, 192, 194, 196, 198, 200, 202, 204, 206, 208, 210, 212, 214, 216, 218, 220, 222, 224, 226, 228, 230, 232, 234, 236, 238, 240, 242, 244, 246, 248, 250, 252, 254, 256, 258, 260, 262, 264, 266, 268, 270, 272, 274, 276, 278, 280, 282, 284, 286, 288, 290, 292, 294, 296, 298, 300, 302, 304, 306, 308, 310, 312, 314, 316, 318, 320, 322, 324, 326, 328, 330, 332, 334, 336, 338, 340, 342, 344, 346, 348, 350, 352, 354, 356, 358, 360, 362, 364, 366, 368, 370, 372, 374, 376, 378, 380, 382, 384, 386, 388, 390, 392, 394, 396, 398]\n"
     ]
    }
   ],
   "source": [
    "def first_two_hundred():\n",
    "    print(list(filter(lambda x: x%2 == 0, range(2, 400))))\n",
    "\n",
    "first_two_hundred()"
   ]
  },
  {
   "cell_type": "code",
   "execution_count": null,
   "id": "a9510ebd-e234-41c3-bddb-6ce229055808",
   "metadata": {},
   "outputs": [],
   "source": []
  },
  {
   "cell_type": "markdown",
   "id": "728a12d9",
   "metadata": {},
   "source": [
    "## 5. Sum odd, sum even\n",
    "\n",
    "Write a function, `sum_odd_sum_even`, that takes a list of integers, and returns a tuple that contains two values. The first value should be the sum of all of the even numbers in the list, and the second value should be the sum of all of the odd numbers in the list.\n",
    "\n",
    "For example, `sum_odd_sum_even([5, 8, 32, 3, 2]) == (8, 42)`.\n",
    "\n",
    "You should use functional programming techniques to solve this problem."
   ]
  },
  {
   "cell_type": "code",
   "execution_count": 3,
   "id": "4e920063",
   "metadata": {},
   "outputs": [],
   "source": [
    "def sum_odd_sum_even(take_list):\n",
    "    \n",
    "    odd_numbers = 0\n",
    "    even_numbers = 0\n",
    "    \n",
    "    for i in take_list:\n",
    "        if i%2 == 0:\n",
    "            even_numbers += i\n",
    "        else:\n",
    "            odd_numbers += i\n",
    "    return (odd_numbers, even_numbers)"
   ]
  },
  {
   "cell_type": "code",
   "execution_count": 4,
   "id": "43b00f76-4b27-49cc-84bd-30bcc8960491",
   "metadata": {
    "tags": []
   },
   "outputs": [
    {
     "data": {
      "text/plain": [
       "(8, 42)"
      ]
     },
     "execution_count": 4,
     "metadata": {},
     "output_type": "execute_result"
    }
   ],
   "source": [
    "sum_odd_sum_even([5, 8, 32, 3, 2])"
   ]
  },
  {
   "cell_type": "markdown",
   "id": "980c4e7c-86b3-4aa5-a45b-52112d8eda15",
   "metadata": {},
   "source": [
    "#### The Lambda part in class"
   ]
  },
  {
   "cell_type": "code",
   "execution_count": 77,
   "id": "f20fe7f8-e2c3-4a85-8432-08a120f8328d",
   "metadata": {},
   "outputs": [],
   "source": [
    "from functools import reduce"
   ]
  },
  {
   "cell_type": "code",
   "execution_count": 111,
   "id": "8fc31c4d-d7a1-4676-b3d1-4d1becef7abc",
   "metadata": {},
   "outputs": [],
   "source": [
    "def sum_even_sum_odd(take_list):\n",
    "    even = reduce(lambda x, y: y + x, list(filter(lambda x: x%2 == 0, take_list)))\n",
    "    odd = reduce(lambda x, y: y + x, list(filter(lambda x: x%2 != 0, take_list)))\n",
    "    return (even, odd)"
   ]
  },
  {
   "cell_type": "code",
   "execution_count": 112,
   "id": "6a4311c9-df6d-4ff6-bca2-111d7650d0bf",
   "metadata": {},
   "outputs": [
    {
     "data": {
      "text/plain": [
       "(42, 8)"
      ]
     },
     "execution_count": 112,
     "metadata": {},
     "output_type": "execute_result"
    }
   ],
   "source": [
    "sum_even_sum_odd([5, 8, 32, 3, 2])"
   ]
  },
  {
   "cell_type": "markdown",
   "id": "a6fd44da",
   "metadata": {},
   "source": [
    "## 6. join\n",
    "\n",
    "Write a function, `join_the_strings`, that takes a list of strings and a character, and returns a single string that has joined the strings together, separated by the character.\n",
    "\n",
    "For example, `join_the_strings([\"hello\", \"my\", \"name\", \"is\", \"bob\"], '+') == \"hello+my+name+is+bob\"`.\n",
    "\n",
    "You should use functional programming techniques to solve this problem."
   ]
  },
  {
   "cell_type": "code",
   "execution_count": 53,
   "id": "200117af-e009-4798-b879-ff895d65224e",
   "metadata": {},
   "outputs": [],
   "source": [
    "def join_the_string(string, xter):\n",
    "    return xter.join(string)"
   ]
  },
  {
   "cell_type": "code",
   "execution_count": 54,
   "id": "4cb2c748-3d50-4907-9c8e-3ba89490ecf9",
   "metadata": {},
   "outputs": [
    {
     "data": {
      "text/plain": [
       "'hello+my+name+is+bob'"
      ]
     },
     "execution_count": 54,
     "metadata": {},
     "output_type": "execute_result"
    }
   ],
   "source": [
    "join_the_string([\"hello\", \"my\", \"name\", \"is\", \"bob\"], '+')"
   ]
  },
  {
   "cell_type": "markdown",
   "id": "feebd41a-4a31-4b24-a7a3-d9d210e38eec",
   "metadata": {},
   "source": [
    "#### The Lambda part not done yet"
   ]
  },
  {
   "cell_type": "code",
   "execution_count": 115,
   "id": "511eb22f-849c-4fd3-8a6e-359161da83cd",
   "metadata": {},
   "outputs": [],
   "source": [
    "# lambda version\n",
    "def join_the_strings(string, xter):\n",
    "    return reduce(lambda x,y: f\"{x}{xter}{y}\", string)"
   ]
  },
  {
   "cell_type": "code",
   "execution_count": 116,
   "id": "16f49e46-c3f7-4fcd-8413-61718405d06f",
   "metadata": {},
   "outputs": [
    {
     "data": {
      "text/plain": [
       "'hello+my+name+is+bob'"
      ]
     },
     "execution_count": 116,
     "metadata": {},
     "output_type": "execute_result"
    }
   ],
   "source": [
    "join_the_strings([\"hello\", \"my\", \"name\", \"is\", \"bob\"], '+')"
   ]
  },
  {
   "cell_type": "markdown",
   "id": "34254557",
   "metadata": {},
   "source": [
    "## Optional: 7. Managing workshop participants\n",
    "\n",
    "Let's imagine that you've decided to host a workshop to teach Python. You've decided to store participant information in a list of dictionaries, structured like this:\n",
    "\n",
    "```\n",
    "participants = [{\"first_name\": \"Hester\", \"last_name\": \"Macdonald\", \"track\": 1},\n",
    "                {\"first_name\": \"Dorian\", \"last_name\": \"Foster\", \"track\": 2},\n",
    "                {\"first_name\": \"Conal\", \"last_name\": \"Delgado\", \"track\": 2},\n",
    "                {\"first_name\": \"Aisha\", \"last_name\": \"Torres\", \"track\": 2},\n",
    "                {\"first_name\": \"Adeline\", \"last_name\": \"Mcdougall\", \"track\": 1},\n",
    "                {\"first_name\": \"Lola\", \"last_name\": \"Delaney\", \"track\": 1},\n",
    "                {\"first_name\": \"Saim\", \"last_name\": \"Bone\", \"track\": 2},\n",
    "                {\"first_name\": \"Jobe\", \"last_name\": \"Wills\", \"track\": 1},\n",
    "                {\"first_name\": \"June\", \"last_name\": \"Rush\", \"track\": 2},\n",
    "                {\"first_name\": \"Winifred\", \"last_name\": \"John\", \"track\": 1}]\n",
    "```\n",
    "\n",
    "### 7.1 Mail merge\n",
    "\n",
    "You want to send a message to all of the participants. You want the message to include their full name. To do this, you need to generate a list of all of the participants full names. Write a function that does this, using functional programming techniques.\n",
    "\n",
    "For example, using the data above, you would produce this list: `[\"Hester Macdonald\", \"Dorian Foster\", \"Conal Delgado\", \"Aisha Torres\", \"Adeline Mcdougall\", \"Lola Delaney\", \"Saim Bone\", \"Jobe Wills\", \"June Rush\", \"Winifred John\"]`."
   ]
  },
  {
   "cell_type": "code",
   "execution_count": 95,
   "id": "b331e378-2521-4d21-a2b3-4f63612dd628",
   "metadata": {},
   "outputs": [],
   "source": [
    "participants = [{\"first_name\": \"Hester\", \"last_name\": \"Macdonald\", \"track\": 1},\n",
    "                {\"first_name\": \"Dorian\", \"last_name\": \"Foster\", \"track\": 2},\n",
    "                {\"first_name\": \"Conal\", \"last_name\": \"Delgado\", \"track\": 2},\n",
    "                {\"first_name\": \"Aisha\", \"last_name\": \"Torres\", \"track\": 2},\n",
    "                {\"first_name\": \"Adeline\", \"last_name\": \"Mcdougall\", \"track\": 1},\n",
    "                {\"first_name\": \"Lola\", \"last_name\": \"Delaney\", \"track\": 1},\n",
    "                {\"first_name\": \"Saim\", \"last_name\": \"Bone\", \"track\": 2},\n",
    "                {\"first_name\": \"Jobe\", \"last_name\": \"Wills\", \"track\": 1},\n",
    "                {\"first_name\": \"June\", \"last_name\": \"Rush\", \"track\": 2},\n",
    "                {\"first_name\": \"Winifred\", \"last_name\": \"John\", \"track\": 1}]"
   ]
  },
  {
   "cell_type": "code",
   "execution_count": 101,
   "id": "559d6c5b",
   "metadata": {},
   "outputs": [
    {
     "ename": "AttributeError",
     "evalue": "'function' object has no attribute 'dict'",
     "output_type": "error",
     "traceback": [
      "\u001b[1;31m---------------------------------------------------------------------------\u001b[0m",
      "\u001b[1;31mAttributeError\u001b[0m                            Traceback (most recent call last)",
      "Input \u001b[1;32mIn [101]\u001b[0m, in \u001b[0;36m<cell line: 6>\u001b[1;34m()\u001b[0m\n\u001b[0;32m      3\u001b[0m     \u001b[38;5;28;01mfor\u001b[39;00m key,value \u001b[38;5;129;01min\u001b[39;00m data\u001b[38;5;241m.\u001b[39mitems():\n\u001b[0;32m      4\u001b[0m         \u001b[38;5;28mprint\u001b[39m(key,value)\n\u001b[1;32m----> 6\u001b[0m \u001b[43mparticipants\u001b[49m\u001b[43m(\u001b[49m\u001b[43mparticipants\u001b[49m\u001b[43m)\u001b[49m\n",
      "Input \u001b[1;32mIn [101]\u001b[0m, in \u001b[0;36mparticipants\u001b[1;34m(dictionary)\u001b[0m\n\u001b[0;32m      1\u001b[0m \u001b[38;5;28;01mdef\u001b[39;00m \u001b[38;5;21mparticipants\u001b[39m(dictionary):\n\u001b[1;32m----> 2\u001b[0m     data \u001b[38;5;241m=\u001b[39m \u001b[43mdictionary\u001b[49m\u001b[38;5;241;43m.\u001b[39;49m\u001b[43mdict\u001b[49m()\n\u001b[0;32m      3\u001b[0m     \u001b[38;5;28;01mfor\u001b[39;00m key,value \u001b[38;5;129;01min\u001b[39;00m data\u001b[38;5;241m.\u001b[39mitems():\n\u001b[0;32m      4\u001b[0m         \u001b[38;5;28mprint\u001b[39m(key,value)\n",
      "\u001b[1;31mAttributeError\u001b[0m: 'function' object has no attribute 'dict'"
     ]
    }
   ],
   "source": [
    "def participants(dictionary):\n",
    "    for key,value in data.items():\n",
    "        print(key,value)\n",
    "\n",
    "participants(participants)"
   ]
  },
  {
   "cell_type": "code",
   "execution_count": 121,
   "id": "dab22d06-5304-44f2-b2ff-edbf0827b486",
   "metadata": {},
   "outputs": [
    {
     "ename": "SyntaxError",
     "evalue": "f-string: unmatched '[' (2227239730.py, line 2)",
     "output_type": "error",
     "traceback": [
      "\u001b[1;36m  Input \u001b[1;32mIn [121]\u001b[1;36m\u001b[0m\n\u001b[1;33m    return f\"({participants[\"first_name\"]} {participants[\"last_name\"]})\"\u001b[0m\n\u001b[1;37m                             ^\u001b[0m\n\u001b[1;31mSyntaxError\u001b[0m\u001b[1;31m:\u001b[0m f-string: unmatched '['\n"
     ]
    }
   ],
   "source": [
    "def full_name(participants):\n",
    "    return f\"({participants[\"first_name\"]} {participants[\"last_name\"]})\"\n",
    "\n",
    "print(full_name({\"first_name\": \"Hester\", \"last_name\": \"Macdonald\", \"track\": 1}))"
   ]
  },
  {
   "cell_type": "code",
   "execution_count": null,
   "id": "8bb5de68-7d9a-4d66-9949-6ccd20b3c575",
   "metadata": {},
   "outputs": [],
   "source": [
    "#lambda function \n"
   ]
  },
  {
   "cell_type": "markdown",
   "id": "944efa5c",
   "metadata": {},
   "source": [
    "### 7.2 Group creator\n",
    "\n",
    "Next, you want to split your participants into groups. Groups are allocated based on the first letter of each participant's name: a group will only contain participants whose names start with the same letter. To help with this, you need to generate a dictionary. The dictionary will contain a key corresponding to each letter of the alphabet, where the values are lists of participants assigned to the group.\n",
    "\n",
    "For example, using the data above, you'd create a dictionary that included this key, value pair:\n",
    "```\n",
    "{ ..\n",
    "  'J' : [\"Jobe Wills\", \"June Rush\"],\n",
    "  ..\n",
    "}\n",
    "```\n",
    "\n",
    "You should use functional programming techniques to solve this problem. Some groups might be empty, or include only one person -- that's OK for this exercise."
   ]
  },
  {
   "cell_type": "code",
   "execution_count": null,
   "id": "5bb16e04",
   "metadata": {},
   "outputs": [],
   "source": [
    "def add_participants(participant_name):\n",
    "    if participant_name[0] not in groups:\n",
    "        groups[particpant]"
   ]
  },
  {
   "cell_type": "markdown",
   "id": "806816a7",
   "metadata": {},
   "source": [
    "## Optional: 8. Number swap\n",
    "\n",
    "Write a function, `number_swap`, that takes two numbers, `a` and `b`. The function should swap digits in the first number with digits from the second, such that it generates the largest possible numbers. \n",
    "\n",
    "For example, `number_swap(6423, 551) == 6553`. Here, the 4 in the first number is swapped with a 5 from the second number. 2 in the first number is swapped for the other 5 in the second.\n",
    "\n",
    "Note: we're only allowed to use each digit in the second number at most once. \n",
    "\n",
    "_You do not need to use functional programming techniques to solve this problem._"
   ]
  },
  {
   "cell_type": "code",
   "execution_count": 156,
   "id": "b2aa7408",
   "metadata": {},
   "outputs": [],
   "source": [
    "def number_swap(list1, list2):\n",
    "    new_list = []\n",
    "    for i in str(list1):\n",
    "        for j in str(list2):\n",
    "            if j[0] > i[0]:\n",
    "                new_list.append(j)\n",
    "            else:\n",
    "                new_list.append(i)\n",
    "    return new_list"
   ]
  },
  {
   "cell_type": "code",
   "execution_count": 157,
   "id": "b7488d68-77ef-4211-ae7c-4802cc385d19",
   "metadata": {},
   "outputs": [
    {
     "data": {
      "text/plain": [
       "['6', '6', '6', '5', '5', '4', '5', '5', '2', '5', '5', '3']"
      ]
     },
     "execution_count": 157,
     "metadata": {},
     "output_type": "execute_result"
    }
   ],
   "source": [
    "number_swap(6423, 551)"
   ]
  },
  {
   "cell_type": "code",
   "execution_count": 168,
   "id": "26934a6c-1dea-4658-a36b-0aa973c38226",
   "metadata": {},
   "outputs": [
    {
     "data": {
      "text/plain": [
       "['6', '5', '5', '3']"
      ]
     },
     "execution_count": 168,
     "metadata": {},
     "output_type": "execute_result"
    }
   ],
   "source": [
    "def number_swap(a, b):\n",
    "    a = list(str(a))\n",
    "    b = sorted(list(str(b)), reverse = True)\n",
    "    #print(a,b)\n",
    "    \n",
    "    position_a = 0\n",
    "    position_b = 0\n",
    "    \n",
    "    for position_a in range(len(a)):\n",
    "        if a[position_a] < b[position_b]:\n",
    "            a[position_a] = b[position_b]\n",
    "            position_b += 1\n",
    "            if position_b >= len(b):\n",
    "                break\n",
    "    return a\n",
    "\n",
    "number_swap(6423, 551)"
   ]
  },
  {
   "cell_type": "code",
   "execution_count": null,
   "id": "60408812-7c6d-4e54-8be7-22a773075c10",
   "metadata": {},
   "outputs": [],
   "source": []
  }
 ],
 "metadata": {
  "kernelspec": {
   "display_name": "Python 3 (ipykernel)",
   "language": "python",
   "name": "python3"
  },
  "language_info": {
   "codemirror_mode": {
    "name": "ipython",
    "version": 3
   },
   "file_extension": ".py",
   "mimetype": "text/x-python",
   "name": "python",
   "nbconvert_exporter": "python",
   "pygments_lexer": "ipython3",
   "version": "3.10.4"
  }
 },
 "nbformat": 4,
 "nbformat_minor": 5
}
