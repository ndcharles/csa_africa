{
 "cells": [
  {
   "cell_type": "markdown",
   "id": "dramatic-desperate",
   "metadata": {
    "slideshow": {
     "slide_type": "slide"
    }
   },
   "source": [
    "# Day 4: Functional programming\n",
    "\n",
    "In today's tutorial, we'll cover:\n",
    "- An introduction to _functional programming_, and how it differs from other language paradigms;\n",
    "- Functions as first-class objects;\n",
    "- Lambda functions;\n",
    "- `map`, `filter`, and `reduce`.\n",
    "\n",
    "A set of exercises that will allow you to test your learning of this tutorial will also be made available.  "
   ]
  },
  {
   "cell_type": "markdown",
   "id": "broken-realtor",
   "metadata": {
    "slideshow": {
     "slide_type": "notes"
    }
   },
   "source": [
    "## Functional programming\n",
    "\n",
    "Programming languages are designed to let us express a solution to a given problem. Of course, different languages can support this in different ways. Most of the common programming languages let us describe our solution using a list of steps, or instructions, that are worked through one-by-one, in order: these are _procedural_ languages. For the most part, the Python code that you'll have written is likely to be in the procedural style. Python also allows us to write _object-oriented_ programs, where we instantiate objects, and manipulate them. This is another way of expressing a solution to a problem that we want to solve.\n",
    "\n",
    "In addition, there are _declarative_ languages, where we describe the problem that needs to be solved, and leave it to the programming language implementation to solve it. For example, you might have used SQL if you've worked with databases. In that language, we would specify a query in terms of the results we want. The SQL implementation then figures out how best to deliver those results.\n",
    "\n",
    "Finally, there is the _functional programming_ paradigm. As the name suggests, functional programs are composed of a set of functions. These functions take input, and produce output, and don't maintain state. Some languages enforce these restrictions strictly: these are _pure_ functional languages. Pure languages have the benefit of producing programs that can be formally proven to be correct: that is, we _could_ construct a mathematical proof that demonstrates that the program is accurate.\n",
    "\n",
    "Other languages, like Python, let us combine some aspects of the functional style with other paradigms, like procedural and object-oriented. This lets us benefit from some of the other advantages to this style. Breaking our programs down into functions, for example, often makes it easier to solve the problem: writing small functions is easier than writing large programs. These small functions can be combined together to solve the bigger problem, and they're often easier to test and debug.\n",
    "\n",
    "To enable us to write functional programs, Python treats functions as _first-class objects_. In essence, this means that we can treat functions as we would other values of other types. So, we can assign a function to a variable:"
   ]
  },
  {
   "cell_type": "code",
   "execution_count": null,
   "id": "orange-nashville",
   "metadata": {
    "slideshow": {
     "slide_type": "slide"
    }
   },
   "outputs": [],
   "source": [
    "def subtract(x, y):\n",
    "    return x - y\n",
    "\n",
    "do_some_math = subtract\n",
    "print(do_some_math(4, 2))"
   ]
  },
  {
   "cell_type": "markdown",
   "id": "knowing-arabic",
   "metadata": {
    "slideshow": {
     "slide_type": "notes"
    }
   },
   "source": [
    "In this example, we've assigned the function `subtract` to the variable `do_some_math`. This means that we can use the variable `do_some_math` in the same way as we would the function name itself: in the example, we call the `subtract` function by using the `do_some_math` variable. \n",
    "\n",
    "This means that we can also store functions in lists and dictionaries:"
   ]
  },
  {
   "cell_type": "code",
   "execution_count": null,
   "id": "greatest-disposition",
   "metadata": {
    "slideshow": {
     "slide_type": "slide"
    }
   },
   "outputs": [],
   "source": [
    "def add(x, y):\n",
    "    return x + y\n",
    "\n",
    "arithmetic_functions = {\"addition\": add, \"subtraction\": subtract}\n",
    "print(arithmetic_functions[\"addition\"](1, 1))"
   ]
  },
  {
   "cell_type": "markdown",
   "id": "aging-ceramic",
   "metadata": {
    "slideshow": {
     "slide_type": "notes"
    }
   },
   "source": [
    "More importantly, for functional programming, we can pass functions in to other functions as arguments:"
   ]
  },
  {
   "cell_type": "code",
   "execution_count": null,
   "id": "fixed-zambia",
   "metadata": {
    "slideshow": {
     "slide_type": "slide"
    }
   },
   "outputs": [],
   "source": [
    "def do_the_thing(thing, x, y):\n",
    "    result = thing(x, y)\n",
    "    print(f\"The result of doing the thing is: {result}\")\n",
    "\n",
    "do_the_thing(subtract, 5, 3)\n",
    "do_the_thing(add, 4, 3)"
   ]
  },
  {
   "cell_type": "markdown",
   "id": "retired-luxury",
   "metadata": {
    "slideshow": {
     "slide_type": "notes"
    }
   },
   "source": [
    ".. and return functions too:"
   ]
  },
  {
   "cell_type": "code",
   "execution_count": null,
   "id": "legislative-education",
   "metadata": {
    "slideshow": {
     "slide_type": "slide"
    }
   },
   "outputs": [],
   "source": [
    "def what_thing_is_to_be_done(do_this):\n",
    "    if do_this == \"add\":\n",
    "        return add\n",
    "    elif do_this == \"subtract\":\n",
    "        return subtract\n",
    "\n",
    "print(what_thing_is_to_be_done(\"add\")(1, 2))"
   ]
  },
  {
   "cell_type": "markdown",
   "id": "graphic-abortion",
   "metadata": {
    "slideshow": {
     "slide_type": "notes"
    }
   },
   "source": [
    "These examples illustrate the power of treating functions in the same way as values of other data types. Because functions can be stored and passed around like this, we can combine them in useful ways. This is the fundamental basis of the functional programming style in Python: the ability to write small functions, and combine them to solve larger problems.\n",
    "\n",
    "Of course, programs are combinations of computations - or functions - and data, and Python provides us with ways of combining functions and data together. In this tutorial, we'll cover three such functions: `map`, `filter`, and `reduce`.\n",
    "\n",
    "### `map`\n",
    "\n",
    "The `map` function allows us to apply a function to all of the elements of a list. It returns a list of the results. For example:"
   ]
  },
  {
   "cell_type": "code",
   "execution_count": null,
   "id": "included-nudist",
   "metadata": {
    "slideshow": {
     "slide_type": "slide"
    }
   },
   "outputs": [],
   "source": [
    "def add_one(x):\n",
    "    return x + 1\n",
    "\n",
    "some_numbers = [1, 2, 3, 4, 5]\n",
    "print(list(map(add_one, some_numbers)))"
   ]
  },
  {
   "cell_type": "markdown",
   "id": "agricultural-dancing",
   "metadata": {
    "slideshow": {
     "slide_type": "notes"
    }
   },
   "source": [
    "Here, we've defined a function `add_one` that takes a number as an argument, and returns that number plus 1. We then pass this function and a list of numbers to the `map` function, and we then print the result.\n",
    "\n",
    "Notice that we apply the `list` function to the result of calling `map`. That's because `map` doesn't actually return a list: it returns a type of object called an _iterator_. In essence, an iterator is an object that has both `__iter__` and `__next__` methods. We won't cover iterators further in this tutorial, but you can [find more information here](https://docs.python.org/3/library/stdtypes.html#typeiter). It is worth noting that `map`, like the other functions we'll cover, actually takes an iterator as an argument. We'll use lists throughout the tutorial.\n",
    "\n",
    "### `lambda` expressions\n",
    "\n",
    "In the example above, we defined a fairly simple function. When we're defining functions that are quite small - as is quite common in functional programming - we sometimes want to be able to define them quickly, without using much syntax. Python gives us a way of defining _anonymous functions_ (i.e., that don't have names), in the form of _lambda expressions_:"
   ]
  },
  {
   "cell_type": "code",
   "execution_count": null,
   "id": "bibliographic-albania",
   "metadata": {
    "slideshow": {
     "slide_type": "slide"
    }
   },
   "outputs": [],
   "source": [
    "some_numbers = [1, 2, 3, 4, 5]\n",
    "print(list(map(lambda x: x + 1, some_numbers)))"
   ]
  },
  {
   "cell_type": "markdown",
   "id": "threaded-grass",
   "metadata": {
    "slideshow": {
     "slide_type": "notes"
    }
   },
   "source": [
    "This code has the same result as the previous example, but uses much less code. Instead of defining a function, we instead use a _lambda expression_, and pass that into the `map` function instead. Lambda expressions begin with the `lambda` keyword, followed by a comma-separated list of parameter names, then a colon (`:`). Finally, there is then an expression that is evaluated, and returned. Lambda expressions are first-class objects, just like functions: so we can pass them around, assign them to variable names, and store them in lists and dictionaries.\n",
    "\n",
    "### .. back to `map`\n",
    "\n",
    "The `map` function can take multiple lists:"
   ]
  },
  {
   "cell_type": "code",
   "execution_count": null,
   "id": "higher-league",
   "metadata": {
    "slideshow": {
     "slide_type": "slide"
    }
   },
   "outputs": [],
   "source": [
    "first_numbers = [1, 2, 3]\n",
    "second_numbers = [4, 5, 6]\n",
    "print(list(map(lambda x, y: x + y, first_numbers, second_numbers)))"
   ]
  },
  {
   "cell_type": "markdown",
   "id": "efficient-victim",
   "metadata": {
    "slideshow": {
     "slide_type": "notes"
    }
   },
   "source": [
    "When `map` is passed multiple lists, it applies the function to the each element of the specified lists in parallel. So, in this example, the lambda expression is applied to the first elements of the two lists (1 and 4, giving 5), then the second (2 and 5, giving 7), and finally the third (3 and 6, giving 9). The number of arguments to the function (or lambda expression) needs to match the number of lists, and the lists all need to be of the same length."
   ]
  },
  {
   "cell_type": "markdown",
   "id": "educational-covering",
   "metadata": {
    "slideshow": {
     "slide_type": "notes"
    }
   },
   "source": [
    "### `filter`\n",
    "\n",
    "Next, we can use the `filter` function to remove elements from a list that don't meet a condition:"
   ]
  },
  {
   "cell_type": "code",
   "execution_count": null,
   "id": "embedded-eating",
   "metadata": {
    "slideshow": {
     "slide_type": "slide"
    }
   },
   "outputs": [],
   "source": [
    "def is_even(x):\n",
    "    return x % 2 == 0\n",
    "\n",
    "print(list(filter(is_even, [1, 2, 3, 4, 5, 6, 7, 8, 9, 10, 11, 12, 13, 14, 15])))"
   ]
  },
  {
   "cell_type": "markdown",
   "id": "systematic-eleven",
   "metadata": {
    "slideshow": {
     "slide_type": "notes"
    }
   },
   "source": [
    "In this example, we define a function, `is_even` that returns `True` if the number it is passed is even, and `False` otherwise. We then pass this function, and a list of numbers, to the `filter` function, and print the result. We can see that `filter` applied the function to each element in the list, and removes those elements for which the function (`is_even`) returns `False`. That means that we end up with a list of only even numbers.\n",
    "\n",
    "Of course, we could have used a lambda expression:"
   ]
  },
  {
   "cell_type": "code",
   "execution_count": null,
   "id": "therapeutic-kingston",
   "metadata": {
    "slideshow": {
     "slide_type": "slide"
    }
   },
   "outputs": [],
   "source": [
    "print(list(filter(lambda x: x % 2 == 0, [1, 2, 3, 4, 5, 6, 7, 8, 9, 10, 11, 12, 13, 14, 15])))"
   ]
  },
  {
   "cell_type": "markdown",
   "id": "comprehensive-spouse",
   "metadata": {
    "slideshow": {
     "slide_type": "notes"
    }
   },
   "source": [
    "### `reduce`\n",
    "\n",
    "The final function that we'll cover is `reduce`. `reduce` takes a function and a list. The function takes two arguments at a time, and produces a single result; `reduce` applies the function to two elements from the list at a time, and so will _reduce_ the entire list to a single value.\n",
    "\n",
    "`reduce` isn't a built-in function, and needs to be imported from a standard library before we can use it:"
   ]
  },
  {
   "cell_type": "code",
   "execution_count": null,
   "id": "military-selling",
   "metadata": {
    "slideshow": {
     "slide_type": "slide"
    }
   },
   "outputs": [],
   "source": [
    "from functools import reduce\n",
    "\n",
    "print(reduce(add, [1, 2, 3, 4, 5]))"
   ]
  },
  {
   "cell_type": "markdown",
   "id": "continent-relay",
   "metadata": {
    "slideshow": {
     "slide_type": "notes"
    }
   },
   "source": [
    "In this example, we've called `reduce` with the `add` function defined earlier (that adds two numbers), and a list of 5 numbers. This translates to:"
   ]
  },
  {
   "cell_type": "code",
   "execution_count": null,
   "id": "functional-wellington",
   "metadata": {
    "slideshow": {
     "slide_type": "slide"
    }
   },
   "outputs": [],
   "source": [
    "result = add(add(add(add(1, 2), 3), 4), 5)\n",
    "print(result)"
   ]
  },
  {
   "cell_type": "markdown",
   "id": "recognized-cable",
   "metadata": {
    "slideshow": {
     "slide_type": "notes"
    }
   },
   "source": [
    "This is the same as Python's built-in `sum` function.\n",
    "\n",
    "As another example, we could use `reduce` to implement a function that calculates `n!` (n factorial):"
   ]
  },
  {
   "cell_type": "code",
   "execution_count": null,
   "id": "editorial-treatment",
   "metadata": {
    "slideshow": {
     "slide_type": "slide"
    }
   },
   "outputs": [],
   "source": [
    "def factorial(n):\n",
    "    return reduce(lambda x, y: x*y, range(1, n + 1))\n",
    "\n",
    "print(factorial(5))"
   ]
  },
  {
   "cell_type": "markdown",
   "id": "interpreted-occasions",
   "metadata": {
    "slideshow": {
     "slide_type": "notes"
    }
   },
   "source": [
    "We'll explore other uses for `map`, `filter`, and `reduce` in the exercises."
   ]
  },
  {
   "cell_type": "markdown",
   "id": "decent-whale",
   "metadata": {
    "slideshow": {
     "slide_type": "slide"
    }
   },
   "source": [
    "## Summary\n",
    "\n",
    "In this tutorial, we've described Python's support for functional programming and:\n",
    "- shown that functions are first-class objects;\n",
    "- how to instantiate anonymous functions using lambda expressions;\n",
    "- how to use `map`, `filter`, and `reduce` to combine functions and data."
   ]
  }
 ],
 "metadata": {
  "kernelspec": {
   "display_name": "Python 3 (ipykernel)",
   "language": "python",
   "name": "python3"
  },
  "language_info": {
   "codemirror_mode": {
    "name": "ipython",
    "version": 3
   },
   "file_extension": ".py",
   "mimetype": "text/x-python",
   "name": "python",
   "nbconvert_exporter": "python",
   "pygments_lexer": "ipython3",
   "version": "3.10.4"
  }
 },
 "nbformat": 4,
 "nbformat_minor": 5
}
