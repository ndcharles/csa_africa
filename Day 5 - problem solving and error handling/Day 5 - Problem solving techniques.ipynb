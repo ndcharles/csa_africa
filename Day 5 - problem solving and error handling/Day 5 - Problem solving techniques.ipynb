{
 "cells": [
  {
   "cell_type": "markdown",
   "id": "psychological-craft",
   "metadata": {
    "slideshow": {
     "slide_type": "slide"
    }
   },
   "source": [
    "# Day 5: Problem solving techniques\n",
    "\n",
    "In today's tutorial, we'll cover:\n",
    "- Error handling;\n",
    "- Planning how to solve a problem; and\n",
    "- Using _divide and conquer_.\n",
    "\n",
    "A set of exercises that will allow you to test your learning of this tutorial will also be made available.  "
   ]
  },
  {
   "cell_type": "markdown",
   "id": "lovely-agreement",
   "metadata": {
    "slideshow": {
     "slide_type": "slide"
    }
   },
   "source": [
    "## Error handling\n",
    "\n",
    "Often, we'll make mistakes when we're writing code. There are, broadly, two kinds of errors that are frequently made: syntax errors and exceptions.\n",
    "\n",
    "### Syntax errors\n",
    "\n",
    "Syntax errors, where we write Python code that doesn't take the expected form, are quite common amongst beginners. For example, if we leave off the colon after an `if` statement:"
   ]
  },
  {
   "cell_type": "code",
   "execution_count": null,
   "id": "complicated-graduation",
   "metadata": {
    "slideshow": {
     "slide_type": "slide"
    }
   },
   "outputs": [],
   "source": [
    "if True\n",
    "    print(\"I'm a syntax error!\")"
   ]
  },
  {
   "cell_type": "markdown",
   "id": "bigger-population",
   "metadata": {
    "slideshow": {
     "slide_type": "notes"
    }
   },
   "source": [
    "Because the parser is unable to continue parsing our code, it prints the line that contains the error. Helpfully, the error message also indicates _where_ within the line the error was detected: a colon (`:`) is expected after `True`. `SyntaxError: invalid syntax` highlights that this is a syntax error."
   ]
  },
  {
   "cell_type": "markdown",
   "id": "periodic-wednesday",
   "metadata": {
    "slideshow": {
     "slide_type": "slide"
    }
   },
   "source": [
    "### Exceptions\n",
    "\n",
    "Of course, we can write code that is syntactically correct, but that results in an error when we try to run it: "
   ]
  },
  {
   "cell_type": "code",
   "execution_count": null,
   "id": "utility-porter",
   "metadata": {
    "slideshow": {
     "slide_type": "fragment"
    }
   },
   "outputs": [],
   "source": [
    "def add(x, y):\n",
    "    return x + z\n",
    "\n",
    "print(add(1, 1))"
   ]
  },
  {
   "cell_type": "markdown",
   "id": "individual-footage",
   "metadata": {
    "slideshow": {
     "slide_type": "notes"
    }
   },
   "source": [
    "When we run code that causes an error (and handle the error -- which we'll learn to do shortly), execution will terminate, and an error message will be displayed. In general, it is easiest to read these error messages in reverse.\n",
    "\n",
    "The final line tells us what type of exception has occured. There are many different types of exceptions: you'll likely have come across many, even during this week's tutorials. In this example, we see a `NameError`, because we've used a name that hasn't been defined. Other errors, like `ZeroDivisionError`, when we try to divide by zero, or `TypeError`, when we perform an operation on mismatching types, are also common. Python has many built-in exceptions: you can learn more [here](https://docs.python.org/3/library/exceptions.html#bltin-exceptions).\n",
    "\n",
    "The earlier part of the message gives us context about where the exception occured, and what function calls led to the erroneous line. This is called a _traceback_, and the most recently executed code is shown last."
   ]
  },
  {
   "cell_type": "markdown",
   "id": "coordinate-galaxy",
   "metadata": {
    "slideshow": {
     "slide_type": "slide"
    }
   },
   "source": [
    "#### Handling exceptions\n",
    "\n",
    "If we don't want execution to terminate when an exception occurs, we can write code to handle the exception. Let's consider this example:"
   ]
  },
  {
   "cell_type": "code",
   "execution_count": null,
   "id": "reserved-dominican",
   "metadata": {
    "slideshow": {
     "slide_type": "fragment"
    }
   },
   "outputs": [],
   "source": [
    "def divide_ten_by(x):\n",
    "    return 10 / x\n",
    "\n",
    "divide_ten_by(10)"
   ]
  },
  {
   "cell_type": "markdown",
   "id": "tight-ivory",
   "metadata": {
    "slideshow": {
     "slide_type": "notes"
    }
   },
   "source": [
    "Here, our trivial function, `divide_ten_by`, takes a number, `x`, and divides 10 by that number. Now, we might allow the user to input a number that we can pass to our function:"
   ]
  },
  {
   "cell_type": "code",
   "execution_count": null,
   "id": "peaceful-reconstruction",
   "metadata": {
    "slideshow": {
     "slide_type": "slide"
    }
   },
   "outputs": [],
   "source": [
    "user_input = int(input(\"Enter a number: \"))\n",
    "print(divide_ten_by(user_input))"
   ]
  },
  {
   "cell_type": "markdown",
   "id": "desirable-drill",
   "metadata": {
    "slideshow": {
     "slide_type": "notes"
    }
   },
   "source": [
    "Of course, our code will work fine until we try 0: then we'll get a `ZeroDivisionError` exception. To handle this, we can wrap our code in a `try .. except` block:"
   ]
  },
  {
   "cell_type": "code",
   "execution_count": null,
   "id": "republican-reserve",
   "metadata": {
    "slideshow": {
     "slide_type": "slide"
    }
   },
   "outputs": [],
   "source": [
    "try:\n",
    "    user_input = int(input(\"Enter a number: \"))\n",
    "    print(divide_ten_by(user_input))\n",
    "    print(f\"Wow, {user_input} is a cool number :)\")\n",
    "except ZeroDivisionError:\n",
    "    print(\"Sorry - 0 isn't allowed!\")\n",
    "    \n",
    "print(\"Hello!\")"
   ]
  },
  {
   "cell_type": "markdown",
   "id": "knowing-lunch",
   "metadata": {
    "slideshow": {
     "slide_type": "notes"
    }
   },
   "source": [
    "Now when we enter 0, instead of an exception and the associated error message, we get the message that is printed within the `except` clause. The program continues to execute, too, so we'll also see `Hello!` being printed.\n",
    "\n",
    "In our code, Python tries to execute all the statements contained within the `try` block. If this code executes without causing an exception, then it skips the `except` block, and continues executing statements after that. However, if an exception _does_ occur, then execution immediately shifts to the `except` block. That's why when we enter 0, we don't see the `Wow, 0 is a cool number :)` message.\n",
    "\n",
    "0 isn't the only problematic input for our code - let's try entering a string instead of a number:"
   ]
  },
  {
   "cell_type": "code",
   "execution_count": null,
   "id": "bizarre-recruitment",
   "metadata": {
    "slideshow": {
     "slide_type": "slide"
    }
   },
   "outputs": [],
   "source": [
    "try:\n",
    "    user_input = int(input(\"Enter a number: \"))\n",
    "    print(divide_ten_by(user_input))\n",
    "    print(f\"Wow, {user_input} is a cool number :)\")\n",
    "except ZeroDivisionError:\n",
    "    print(\"Sorry - 0 isn't allowed!\")\n",
    "    \n",
    "print(\"Hello!\")"
   ]
  },
  {
   "cell_type": "markdown",
   "id": "reasonable-brown",
   "metadata": {
    "slideshow": {
     "slide_type": "notes"
    }
   },
   "source": [
    "Now, we get a `ValueError`, because we've attempted to convert the string `bob` to an integer. We can handle multiple exception types by using multiple `except` blocks:"
   ]
  },
  {
   "cell_type": "code",
   "execution_count": null,
   "id": "entertaining-express",
   "metadata": {
    "slideshow": {
     "slide_type": "slide"
    }
   },
   "outputs": [],
   "source": [
    "try:\n",
    "    user_input = int(input(\"Enter a number: \"))\n",
    "    print(divide_ten_by(user_input))\n",
    "    print(f\"Wow, {user_input} is a cool number :)\")\n",
    "except ZeroDivisionError:\n",
    "    print(\"Sorry - 0 isn't allowed!\")\n",
    "except ValueError:\n",
    "    print(\"Sorry - the input is bad!\")\n",
    "    \n",
    "print(\"Hello!\")"
   ]
  },
  {
   "cell_type": "markdown",
   "id": "searching-verification",
   "metadata": {
    "slideshow": {
     "slide_type": "notes"
    }
   },
   "source": [
    "In this example, we'll print a message is the input is 0, or if there is some other problem with the input that causes a `ValueError`. We could also combine these messages:"
   ]
  },
  {
   "cell_type": "code",
   "execution_count": null,
   "id": "commercial-alaska",
   "metadata": {
    "slideshow": {
     "slide_type": "slide"
    }
   },
   "outputs": [],
   "source": [
    "try:\n",
    "    user_input = int(input(\"Enter a number: \"))\n",
    "    print(divide_ten_by(user_input))\n",
    "    print(f\"Wow, {user_input} is a cool number :)\")\n",
    "except (ZeroDivisionError, ValueError):\n",
    "    print(\"Sorry - the input is bad!\")\n",
    "    \n",
    "print(\"Hello!\")"
   ]
  },
  {
   "cell_type": "markdown",
   "id": "billion-quantity",
   "metadata": {
    "slideshow": {
     "slide_type": "notes"
    }
   },
   "source": [
    "We can also have a wildcard `except` block, which will handle any other errors:"
   ]
  },
  {
   "cell_type": "code",
   "execution_count": null,
   "id": "tough-istanbul",
   "metadata": {
    "slideshow": {
     "slide_type": "slide"
    }
   },
   "outputs": [],
   "source": [
    "try:\n",
    "    user_input = int(input(\"Enter a number: \"))\n",
    "    print(divide_ten_by(user_input))\n",
    "    print(f\"Wow, {user_input} is a cool number :)\")\n",
    "except (ZeroDivisionError, ValueError):\n",
    "    print(\"Sorry - the input is bad!\")\n",
    "except:\n",
    "    print(\"Something went wrong - I don't know what!\")\n",
    "    \n",
    "print(\"Hello!\")"
   ]
  },
  {
   "cell_type": "markdown",
   "id": "daily-development",
   "metadata": {
    "slideshow": {
     "slide_type": "notes"
    }
   },
   "source": [
    "The wildcard `except` block must be the last `except` block, but it can be used on its own. \n",
    "\n",
    "Optionally, we can also provide an `else` block, containing the code that will only be executed if the `try` block does _not_ cause an exception:"
   ]
  },
  {
   "cell_type": "code",
   "execution_count": null,
   "id": "adaptive-tactics",
   "metadata": {
    "slideshow": {
     "slide_type": "slide"
    }
   },
   "outputs": [],
   "source": [
    "try:\n",
    "    user_input = int(input(\"Enter a number: \"))\n",
    "    print(divide_ten_by(user_input))\n",
    "except (ZeroDivisionError, ValueError):\n",
    "    print(\"Sorry - the input is bad!\")\n",
    "except:\n",
    "    print(\"Something went wrong - I don't know what!\")\n",
    "else:\n",
    "    print(f\"Wow, {user_input} is a cool number :)\")"
   ]
  },
  {
   "cell_type": "markdown",
   "id": "painted-coral",
   "metadata": {
    "slideshow": {
     "slide_type": "notes"
    }
   },
   "source": [
    "Here, we've moved the `print(f\"Wow, {user_input} is a cool number :)\")` line into an `else` block. This underlines the key use of the `else` block: it lets us keep the `try` block minimal. This is good practice: we don't want to handle exceptions that we haven't anticipated or considered.\n",
    "\n",
    "We can also add a `finally` block, that includes code that is _always_ executed:"
   ]
  },
  {
   "cell_type": "code",
   "execution_count": null,
   "id": "supported-legislation",
   "metadata": {
    "slideshow": {
     "slide_type": "slide"
    }
   },
   "outputs": [],
   "source": [
    "try:\n",
    "    user_input = int(input(\"Enter a number: \"))\n",
    "    print(divide_ten_by(user_input))\n",
    "except (ZeroDivisionError, ValueError):\n",
    "    print(\"Sorry - the input is bad!\")\n",
    "except:\n",
    "    print(\"Something went wrong - I don't know what!\")\n",
    "else:\n",
    "    print(f\"Wow, {user_input} is a cool number :)\")\n",
    "finally:\n",
    "    print(\"Maybe the input was good, maybe it was bad -- I don't know!\")"
   ]
  },
  {
   "cell_type": "markdown",
   "id": "apparent-tobacco",
   "metadata": {
    "slideshow": {
     "slide_type": "notes"
    }
   },
   "source": [
    "This block is useful for code that we'll always need to execute, whether or not an exception occured. For example, if we've opened a file, then we can close it in the `finally` block, so that this happens even if something went wrong."
   ]
  },
  {
   "cell_type": "markdown",
   "id": "graduate-radiation",
   "metadata": {
    "slideshow": {
     "slide_type": "slide"
    }
   },
   "source": [
    "#### Raising exceptions\n",
    "\n",
    "We can also force an exception to be raised:"
   ]
  },
  {
   "cell_type": "code",
   "execution_count": 3,
   "id": "italian-balance",
   "metadata": {
    "slideshow": {
     "slide_type": "fragment"
    }
   },
   "outputs": [
    {
     "name": "stdin",
     "output_type": "stream",
     "text": [
      "Enter a number:  10\n"
     ]
    },
    {
     "name": "stdout",
     "output_type": "stream",
     "text": [
      "Sorry - the input is bad!\n",
      "Maybe the input was good, maybe it was bad -- I don't know!\n"
     ]
    }
   ],
   "source": [
    "try:\n",
    "    user_input = int(input(\"Enter a number: \"))\n",
    "    if user_input == 10:\n",
    "        raise ValueError(\"I don't want the number 10!\")\n",
    "    print(divide_ten_by(user_input))\n",
    "except (ZeroDivisionError, ValueError):\n",
    "    print(\"Sorry - the input is bad!\")\n",
    "except:\n",
    "    print(\"Something went wrong - I don't know what!\")\n",
    "else:\n",
    "    print(f\"Wow, {user_input} is a cool number :)\")\n",
    "finally:\n",
    "    print(\"Maybe the input was good, maybe it was bad -- I don't know!\")"
   ]
  },
  {
   "cell_type": "markdown",
   "id": "reserved-annex",
   "metadata": {
    "slideshow": {
     "slide_type": "notes"
    }
   },
   "source": [
    "In this example, we use the `raise` keyword to cause a `ValueError` exception to occur when we enter the number 10.  We can also use `raise` within an `except` block, if we want to handle the exception, but then raise it anyway:"
   ]
  },
  {
   "cell_type": "code",
   "execution_count": null,
   "id": "gross-magic",
   "metadata": {
    "slideshow": {
     "slide_type": "slide"
    }
   },
   "outputs": [],
   "source": [
    "try:\n",
    "    user_input = int(input(\"Enter a number: \"))\n",
    "    if user_input == 10:\n",
    "        raise ValueError(\"I don't want the number 10!\")\n",
    "    print(divide_ten_by(user_input))\n",
    "except (ZeroDivisionError, ValueError):\n",
    "    print(\"Sorry - the input is bad!\")\n",
    "    raise\n",
    "except:\n",
    "    print(\"Something went wrong - I don't know what!\")\n",
    "else:\n",
    "    print(f\"Wow, {user_input} is a cool number :)\")\n",
    "finally:\n",
    "    print(\"Maybe the input was good, maybe it was bad -- I don't know!\")"
   ]
  },
  {
   "cell_type": "markdown",
   "id": "outdoor-queue",
   "metadata": {
    "slideshow": {
     "slide_type": "slide"
    }
   },
   "source": [
    "#### Summary\n",
    "\n",
    "Knowing when to use exceptions can be tricky. As we can see, even from the trivial examples we've used here, exceptions, and code that handles exceptions, changes the flow control of a program. For example, when we `raise` an exception, execution either terminates, or passes to another part of the code. Following where execution is likely to switch to can make our programs difficult to read and debug. \n",
    "\n",
    "Broadly, we should raise exceptions when the assumptions that we make about the input to our code -- that is, arguments passed to functions, or data entered by a user -- are broken. In the example above, we explicitly asked the user to enter a number: so, it is reasonable that an exception occurs if they enter something else. However, in the last code snippet, we raised an exception if the value they entered was equal to 10. This isn't a reasonable use case for exceptions: we should have used an `if` block instead."
   ]
  },
  {
   "cell_type": "markdown",
   "id": "universal-ghana",
   "metadata": {},
   "source": [
    "## Problem solving\n",
    "\n",
    "Now that we've seen many of Python's fundamental concepts and structures, it remains to see how we piece everything together, and use what we've learned to solve real-world problems. \n",
    "\n",
    "It is important to develop a good, consistent problem solving technique. It can be tempting to start coding right away. This is especially true for small problems, where you can arrive at a solution quite quickly. However, as you try to solve larger problems, you'll find that you need to follow a more disciplined approach.\n",
    "\n",
    "Broadly, you should:\n",
    "- Carefully read the problem statement\n",
    "- Understand what inputs the program will take, what it needs to do, and what it should output\n",
    "- Think about what the program needs to do, the algorithms it might need, and the data structures that will be useful\n",
    "- Write a plan\n",
    "\n",
    "When solving larger problems, there are two broad approaches that can be taken: a top-down approach, where you write the high-level code first, and work down to more specific functions, or a bottom-up approach, where you write the specific functions first, before combining them with high-level code.\n",
    "\n",
    "This last technique -- the bottom-up approach -- is the one that we'll used to tackle an example problem. This technique is also known as _divide and conquer_."
   ]
  },
  {
   "cell_type": "markdown",
   "id": "limiting-hudson",
   "metadata": {},
   "source": [
    "### Example: average temperature readings\n",
    "\n",
    "We'll be given a data file (`airport_temperatures.txt`) that contains temperature readings taken at different airports around the world. The data file will have a line for each airport, where each line will begin with the airport's code, followed by any number of temperature readings:\n",
    "\n",
    "```\n",
    "LAX 26.2 24.3 21.1 20.9 25.4 23.0\n",
    "ALA 33.4 36.4 24.2\n",
    "DUB 15.2 18.7 16.5 14.2 16.5\n",
    "CAL 18.5 16.3 16.7 17.1 17.0 15.5 17.4 \n",
    "CPT 20.2 20.4 20.1 14.6 17.9\n",
    "DWD 41.5 41.3 41.9 42.3 43.1 43.0\n",
    "KGL 27.6 29.1 28.2 26.5\n",
    "LOS 28.2 28.6 28.4 29.3 27.6\n",
    "```\n",
    "\n",
    "The program should read in the data file, compute the average temperature at each airport in the file, and output a list of airports (with their full names), in descending order of average temperature:\n",
    "\n",
    "```\n",
    "Airport                                    Average Temperature (deg C)\n",
    "----------------------------------------------------------------------\n",
    "Dawadmi Domestic Airport                                          42.2\n",
    "Murtala Muhammed International Airport                            28.4\n",
    "...\n",
    "```\n",
    "\n",
    "### Inputs, what we the program needs to do, outputs\n",
    "\n",
    "After carefully reading the problem statement, we can break the problem down to:\n",
    "- Inputs: the `airport_temperatures.txt` file\n",
    "- What the program needs to do: calculate the average temperature for each airport\n",
    "- Outputs: a sorted list of average temperatures\n",
    "\n",
    "### What algorithms and data structures might we need?\n",
    "\n",
    "Having broken the problem down, we can see that we have two main algorithmic problems:\n",
    "- calculating the average of a series of numbers; and\n",
    "- sorting a list of numbers, and printing the associated airport.\n",
    "\n",
    "There are two parts of this that help us to determine the data structure that it would be best to use. Firstly, since we want to calculate the average of a series of related numbers, we'll want to use a separate list to store the temperatures associated with each airport:\n",
    "\n",
    "```\n",
    "lax_readings = [26.2, 24.3, 21.1, 20.9, 25.4, 23.0]\n",
    "...\n",
    "```\n",
    "\n",
    "Next, since we have several airports, each with their own temperature readings, we could use a dictionary to store a mapping between the airport's code, and its temperatures:\n",
    "\n",
    "```\n",
    "temperature_readings = {\"LAX\": [26.2, 24.3, 21.1, 20.9, 25.4, 23.0],\n",
    "                        ...}\n",
    "```\n",
    "\n",
    "This gives us the overall data structure that we'll use in our program: using a list for the temperature makes it easy to calculate the average, and using a dictionary to store all of the readings lets us maintain the mapping between temperatures and airport codes.\n",
    "\n",
    "The final step is to be able to sort the list of airports based on their average temperatures. To do that, we'll build a list, containing tuples, with the average temperature and airport code:\n",
    "\n",
    "```\n",
    "average_temps = [(28.4, \"LOS\"), (42.2, \"DWD\"), ...]\n",
    "```\n",
    "\n",
    "By using a list, we can sort `average_temps`.\n",
    "\n",
    "\n",
    "### Overall plan\n",
    "\n",
    "Broadly, we'll structure our solution like this:\n",
    "\n",
    "- Read in the data file, and build our data structure\n",
    "- Calculate the average temperature for each airport\n",
    "- Print the list of airports and average temperatures, sorted by average temperature\n",
    "\n",
    "To build our solution, we'll write each of these components separately, and then combine them together. This is the bottom-up approach described above.\n",
    "\n",
    "\n",
    "### Solution\n",
    "\n",
    "First, we'll write a function to read in a named data file, and return the dictionary in the format described:"
   ]
  },
  {
   "cell_type": "code",
   "execution_count": null,
   "id": "individual-macintosh",
   "metadata": {},
   "outputs": [],
   "source": [
    "def read_airport_temperatures_file(filename):\n",
    "    airport_temperatures = {}\n",
    "    with open(filename) as temperaturesFile:\n",
    "        for line in temperaturesFile:\n",
    "            split_line = line.strip().split()\n",
    "            airport_code = split_line[0]\n",
    "            temperature_readings = []\n",
    "            for temperature_reading in split_line[1:]:\n",
    "                temperature_readings.append(float(temperature_reading))\n",
    "            airport_temperatures[airport_code] = temperature_readings\n",
    "    return airport_temperatures\n",
    "\n",
    "read_airport_temperatures_file(\"data/airport_temperatures.txt\")"
   ]
  },
  {
   "cell_type": "markdown",
   "id": "chief-charles",
   "metadata": {},
   "source": [
    "Here, we define the `read_airport_temperatures_file` function, which takes the name of the data file as an argument. Inside the function, we first instantiate our empty `airport_temperatures` dictionary. Next, we open the specified file, and iterate through each line. We remove the leading and trailing whitespace from each line, and the split it on whitespace (this is the default behaviour of the `split` function). That means that `split_line` holds a list, where the first element is the airport code, and all the other elements are temperature readings.\n",
    "\n",
    "The temperature readings are read in as strings, so we need to tell Python to treat them as floating point numbers instead. We do this by looping through the slice `split_line[1:]` (i.e., all the values in `split_line`, except for the first), and applying the `float` function. We then add those converted values to a new list called `temperature_readings`.\n",
    "\n",
    "Finally, we add the temperature readings to the dictionary, with the airport code as the key. At the end, we return the dictionary that we've constructed.\n",
    "\n",
    "Next, we want to construct a function that calculates the average temperature for each airport:"
   ]
  },
  {
   "cell_type": "code",
   "execution_count": null,
   "id": "considerable-immunology",
   "metadata": {},
   "outputs": [],
   "source": [
    "def calculate_average_temperatures(temperature_data):\n",
    "    average_temperatures = []\n",
    "    for airport_code, temperatures in temperature_data.items():\n",
    "        average_temperature = sum(temperatures)/len(temperatures)\n",
    "        average_temperatures.append((average_temperature, airport_code))\n",
    "    return average_temperatures"
   ]
  },
  {
   "cell_type": "markdown",
   "id": "piano-recognition",
   "metadata": {},
   "source": [
    "In the `calculate_average_temperatures` function, which takes our dictionary data structure as input, we first construct a list for our average temperatures. Then, looping over each airport in the data structure, we calculate the average temperature. This is done by dividing the sum of all the temperature readings by the number of readings. We then append a tuple, containing the average temperature and airport code, to the `average_temperatures` list. At the end, we return this list.\n",
    "\n",
    "Finally, we write a function to sort and print the average temperatures:"
   ]
  },
  {
   "cell_type": "code",
   "execution_count": null,
   "id": "noticed-shareware",
   "metadata": {},
   "outputs": [],
   "source": [
    "airport_names = {\"LAX\": \"Los Angeles International Airport\",\n",
    "                 \"ALA\": \"Almaty International Airport\",\n",
    "                 \"DUB\": \"Dublin Airport\",\n",
    "                 \"CAL\": \"Campbeltown Airport\",\n",
    "                 \"CPT\": \"Cape Town International Airport\",\n",
    "                 \"DWD\": \"Dawadmi Domestic Airport\",\n",
    "                 \"KGL\": \"Kigali International Airport\",\n",
    "                 \"LOS\": \"Murtala Muhammed International Airport\"}\n",
    "\n",
    "def print_average_temperatures(average_temperatures, airport_names):\n",
    "    sorted_temperatures = sorted(average_temperatures, reverse=True)\n",
    "    print(\"Airport                                    Average Temperature (deg C)\")\n",
    "    print(\"----------------------------------------------------------------------\")\n",
    "    for average_temperature, airport_code in sorted_temperatures:\n",
    "        print(f\"{airport_names[airport_code]:44s}{average_temperature:26.1f}\")"
   ]
  },
  {
   "cell_type": "markdown",
   "id": "welsh-certificate",
   "metadata": {},
   "source": [
    "Here, we define the function `print_average_temperatures`, which takes the list of airport average temperature tuples, and a dictionary that maps airport codes to names. First, we sort the list of tuples in descending order. The `sorted` function takes a list, and returns the sorted list: setting `reverse` to `True` puts it into descending order. Note that the `sorted` function, when given a list of tuples, will sort based on the first element of the tuple.\n",
    "\n",
    "Next, we print the header for our table. Then, for each entry in the sorted temperature list, we print the airport name (using the code to look it up), and average temperature. We use special formatting codes in the `print` function to make sure that our data is formatted correctly. `airport_names[airport_code]:44s` tells Python that this is a string (`s`) that is 44 characters long. The string will be padded with spaces if it is less than 44 characters long. `average_temperature:26.1f` tells Python that `average_temperature` is a floating point number, which should have 26 digits before the decimal place, and 1 digit after. Again, the number will be padded with spaces if it is shorter than this, and will, by default, we aligned to the right.\n",
    "\n",
    "Putting all of these functions together, we can now solve our problem:"
   ]
  },
  {
   "cell_type": "code",
   "execution_count": null,
   "id": "allied-greeting",
   "metadata": {},
   "outputs": [],
   "source": [
    "airport_temps = read_airport_temperatures_file(\"data/airport_temperatures.txt\")\n",
    "average_airport_temps = calculate_average_temperatures(airport_temps)\n",
    "\n",
    "print_average_temperatures(average_airport_temps, airport_names)"
   ]
  },
  {
   "cell_type": "markdown",
   "id": "individual-macedonia",
   "metadata": {
    "slideshow": {
     "slide_type": "slide"
    }
   },
   "source": [
    "## Summary\n",
    "\n",
    "In this tutorial, we've introduced file handling and problem solving, and seen how to:\n",
    "- read data from files;\n",
    "- construct data structures using data that is stored in a file;\n",
    "- write data to files;\n",
    "- solve problems using our Python knowledge."
   ]
  }
 ],
 "metadata": {
  "kernelspec": {
   "display_name": "Python 3 (ipykernel)",
   "language": "python",
   "name": "python3"
  },
  "language_info": {
   "codemirror_mode": {
    "name": "ipython",
    "version": 3
   },
   "file_extension": ".py",
   "mimetype": "text/x-python",
   "name": "python",
   "nbconvert_exporter": "python",
   "pygments_lexer": "ipython3",
   "version": "3.10.4"
  }
 },
 "nbformat": 4,
 "nbformat_minor": 5
}
