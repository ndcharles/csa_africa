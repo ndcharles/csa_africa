{
 "cells": [
  {
   "cell_type": "markdown",
   "id": "b22aba81",
   "metadata": {},
   "source": [
    "## 1. Did you manage yesterday's problems?\n",
    "\n",
    "If you haven't yet done so, please spend some time working on yesterday's problems, including the optional problems at the end."
   ]
  },
  {
   "cell_type": "code",
   "execution_count": 1,
   "id": "8a8a8c31",
   "metadata": {},
   "outputs": [],
   "source": [
    "# nothing to do here"
   ]
  },
  {
   "cell_type": "markdown",
   "id": "faa0dc67",
   "metadata": {},
   "source": [
    "## 2. Python Presto Pizza Co.\n",
    "\n",
    "![Python Presto Pizza Co.](data/yes_the_name_is_trademarked_thanks_for_asking.png \"Python Presto Pizza Co.\")\n",
    "\n",
    "You've decided to open a pizza restaurant. To help manage your kitchen, you've decided to implement an order management system. Each order will be contained in an individual file that looks like this:\n",
    "\n",
    "```\n",
    "1 margherita\n",
    "3 pepperoni\n",
    "1 tuna\n",
    "1 mushroom\n",
    "2 four cheese\n",
    "```\n",
    "\n",
    "Each line contains the number of that pizza that the order contains. You need to write a function that will read in an order file, and produce a list of the ingredients that are needed to make the pizzas that have been ordered. To allow you to calculate this, `recipes.txt` has been provided (in the `data` directory). This file contains the recipes for the pizzas that your restaurant sells. It is structured like this:\n",
    "\n",
    "```\n",
    "margherita:tomato mozzarella garlic basil\n",
    "tuna:tomato mozzarella tuna onion\n",
    "pepperoni:tomato mozzarella pepperoni\n",
    "mushroom:tomato mozzarella garlic mushrooms\n",
    "four cheese:tomato mozzarella cheddar parmesan gorgonzola\n",
    "hawaiian:tomato mozzarella ham pineapple\n",
    "```\n",
    "\n",
    "Each recipe requires 1 unit of each ingredient listed. **Your solution must read in the recipes.txt file, rather than using hard-coded values.**\n",
    "\n",
    "Your program should output a list of the needed ingredients for a given order file. The list should be ordered by the number of each ingredient needed, with the ingredient that we need most of listed first. So, based on the example order above, your program would output:\n",
    "\n",
    "```\n",
    "8 x tomato \n",
    "8 x mozzarella\n",
    "3 x pepperoni\n",
    "1 x garlic\n",
    "1 x basil\n",
    "1 x tuna\n",
    "1 x onion\n",
    "1 x mushrooms\n",
    "1 x cheddar\n",
    "1 x parmesan\n",
    "1 x gorgonzola\n",
    "```\n",
    "\n",
    "You should begin by writing a plan for how you'll structure your program. In particular, think about the inputs to your program, what the program needs to do, and what your program needs to produce. Consider the data structures that you require to help you."
   ]
  },
  {
   "cell_type": "code",
   "execution_count": 2,
   "id": "f291b753",
   "metadata": {},
   "outputs": [],
   "source": [
    "# write your plan here"
   ]
  },
  {
   "cell_type": "markdown",
   "id": "c9f5f918",
   "metadata": {},
   "source": [
    "Now, you can implement your plan. We've provided three order files in the `data` directory to allow you to test your program."
   ]
  },
  {
   "cell_type": "code",
   "execution_count": null,
   "id": "04bd2bc3",
   "metadata": {},
   "outputs": [],
   "source": [
    "# write your solution here"
   ]
  },
  {
   "cell_type": "markdown",
   "id": "8d706aa9",
   "metadata": {},
   "source": [
    "## 2.1. Adding robustness\n",
    "\n",
    "You should make your pizza ordering program more robust, by detecting and/or handling various errors that might occur. There are lots of things that can go wrong:\n",
    "- the order file might not exist;\n",
    "- the recipes file might not exist;\n",
    "- the files not be in the correct format;\n",
    "- sometimes, the orders contain requests for menu items that don't exist in `recipes.txt`.\n",
    "\n",
    "Modify your pizza ordering program to detect or handle as many errors as you can think of. Sometimes, this means handling exceptions that Python raises (like that raised if we try to open a file that doesn't exist). We can also raise our own exceptions, or use other flow-control statements - like `if`s -- to ensure that our program continues to run as expected."
   ]
  },
  {
   "cell_type": "code",
   "execution_count": 3,
   "id": "0e648473",
   "metadata": {},
   "outputs": [],
   "source": [
    "# modify your solution above"
   ]
  },
  {
   "cell_type": "markdown",
   "id": "698f299b",
   "metadata": {},
   "source": [
    "## Optional: 3. Birthday book\n",
    "\n",
    "In this exercise, you'll write a program that manages people's birthdays. Your program will read in people's birthdays and produce reminders of those that are coming up. We can represent birthdays using a dictionary:\n",
    "\n",
    "`{\"month\": \"Dec\", \"day\": 17}`\n",
    "\n",
    "The _birthday book_ is a dictionary where the keys are people's names, and the corresponding values are their birthdays, as represented with a dictionary in the format above. You'll write several functions to manage the birthday book. Before you start coding, read through all of the functions that you'll be implementing. This will make sure that you can plan to use the correct data structures.\n",
    "\n",
    "First, instantiate a birthday book, and populate it with some sample people and birthdays:"
   ]
  },
  {
   "cell_type": "code",
   "execution_count": 4,
   "id": "782dc0e8",
   "metadata": {},
   "outputs": [],
   "source": [
    "# write your solution here"
   ]
  },
  {
   "cell_type": "markdown",
   "id": "bb89c40f",
   "metadata": {},
   "source": [
    "Next, define a function that, given a person's name, prints a message containing their birthday."
   ]
  },
  {
   "cell_type": "code",
   "execution_count": 5,
   "id": "f20f6b5e",
   "metadata": {},
   "outputs": [],
   "source": [
    "# write your solution here"
   ]
  },
  {
   "cell_type": "markdown",
   "id": "d1711bab",
   "metadata": {},
   "source": [
    "Next, define a function that, given a month, prints a list of all the people who have birthdays in that month, with the date of their birthday."
   ]
  },
  {
   "cell_type": "code",
   "execution_count": 6,
   "id": "60ac11b6",
   "metadata": {},
   "outputs": [],
   "source": [
    "# write your solution here"
   ]
  },
  {
   "cell_type": "markdown",
   "id": "75c4e060",
   "metadata": {},
   "source": [
    "Next, define a function that, given a month and date, prints a list of all of the people that have birthdays within the next 7 days, along with the date of their birthday. \n",
    "\n",
    "**Remember: some of these birthdays might be in the next month, and, if the given date is at the end of December, some of them might be in January.**"
   ]
  },
  {
   "cell_type": "code",
   "execution_count": 7,
   "id": "b2b61ec1",
   "metadata": {},
   "outputs": [],
   "source": [
    "# write your solution here"
   ]
  },
  {
   "cell_type": "markdown",
   "id": "c5050ec8",
   "metadata": {},
   "source": [
    "Finally, write a function that will produce a birthday book from a file containing birthday data. The format of this file is as shown:\n",
    "\n",
    "```\n",
    "Bob,Apr,12\n",
    "Alice,Dec,6\n",
    "Joe,Feb,16\n",
    "```\n",
    "\n",
    "A sample file is given in the `data` directory."
   ]
  },
  {
   "cell_type": "code",
   "execution_count": null,
   "id": "daf51a0b",
   "metadata": {},
   "outputs": [],
   "source": [
    "# write your solution here"
   ]
  },
  {
   "cell_type": "markdown",
   "id": "258dfed4",
   "metadata": {},
   "source": [
    "## Optional: 3.1. Adding robustness\n",
    "\n",
    "As for the pizza ordering system, you should add robustness to your birthday book program, by detecting and handling exceptions. Detect or handle as many exceptions as you can think of in your solution above."
   ]
  },
  {
   "cell_type": "code",
   "execution_count": null,
   "id": "a53853fa",
   "metadata": {},
   "outputs": [],
   "source": [
    "# modify your solution above"
   ]
  }
 ],
 "metadata": {
  "kernelspec": {
   "display_name": "Python 3 (ipykernel)",
   "language": "python",
   "name": "python3"
  },
  "language_info": {
   "codemirror_mode": {
    "name": "ipython",
    "version": 3
   },
   "file_extension": ".py",
   "mimetype": "text/x-python",
   "name": "python",
   "nbconvert_exporter": "python",
   "pygments_lexer": "ipython3",
   "version": "3.8.12"
  }
 },
 "nbformat": 4,
 "nbformat_minor": 5
}
