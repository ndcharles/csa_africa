{
 "cells": [
  {
   "cell_type": "code",
   "execution_count": 3,
   "id": "6a439291-c82c-49b4-91a3-f6af8197a1e9",
   "metadata": {},
   "outputs": [],
   "source": [
    "# sum of first n integer\n",
    "def sth(n):\n",
    "    if n == 1:\n",
    "        return 1\n",
    "    else:\n",
    "        return n + sth(n - 1)"
   ]
  },
  {
   "cell_type": "code",
   "execution_count": 5,
   "id": "969808b0-acd7-4a4c-8d91-78bf4f601773",
   "metadata": {},
   "outputs": [
    {
     "data": {
      "text/plain": [
       "15"
      ]
     },
     "execution_count": 5,
     "metadata": {},
     "output_type": "execute_result"
    }
   ],
   "source": [
    "sth(5)"
   ]
  },
  {
   "cell_type": "code",
   "execution_count": 4,
   "id": "4e9c626f-c7a9-4674-bba4-da2ba54fc228",
   "metadata": {},
   "outputs": [],
   "source": [
    "# Think of a recursive version of the function f(n) = 3 * n, i.e. the multiples of 3\n",
    "def multiples(n):\n",
    "    if n == 0:\n",
    "        return 0\n",
    "    elif n == 1:\n",
    "        return 3\n",
    "    else:\n",
    "        return 3 + multiples(n-1)"
   ]
  },
  {
   "cell_type": "code",
   "execution_count": 2,
   "id": "2614bc57-374d-4e53-8aee-3d4665237188",
   "metadata": {},
   "outputs": [
    {
     "data": {
      "text/plain": [
       "0"
      ]
     },
     "execution_count": 2,
     "metadata": {},
     "output_type": "execute_result"
    }
   ],
   "source": [
    "multiples(0)"
   ]
  },
  {
   "cell_type": "code",
   "execution_count": 7,
   "id": "002f4372-159d-4374-96f7-08db68013fd4",
   "metadata": {},
   "outputs": [],
   "source": [
    "height = 100\n",
    "bounce = 1\n",
    "while bounce <= 3:\n",
    "    height = height * (3/5)\n",
    "    bounce += 1\n",
    "\n",
    "new_height = height;"
   ]
  },
  {
   "cell_type": "code",
   "execution_count": 9,
   "id": "b82181f1-2385-4f89-ab37-b6b8b83a4e92",
   "metadata": {},
   "outputs": [
    {
     "data": {
      "text/plain": [
       "22"
      ]
     },
     "execution_count": 9,
     "metadata": {},
     "output_type": "execute_result"
    }
   ],
   "source": [
    "round(height)"
   ]
  },
  {
   "cell_type": "code",
   "execution_count": 10,
   "id": "73308889-e757-47ff-b46b-8072a5a68c66",
   "metadata": {},
   "outputs": [],
   "source": [
    "class Player:\n",
    "    def __init__(self, x, y):\n",
    "        self.x = x\n",
    "        self.y = y\n",
    "        self.health = 100\n",
    "        \n",
    "    def move(self, dx, dy):\n",
    "        self.x += dx\n",
    "        self.y += dy\n",
    "        \n",
    "    def damage(self, pts):\n",
    "        self.health -= pts"
   ]
  },
  {
   "cell_type": "code",
   "execution_count": 11,
   "id": "e01ccc1e-8a90-4934-a463-963dbdd8ec0a",
   "metadata": {},
   "outputs": [
    {
     "name": "stdout",
     "output_type": "stream",
     "text": [
      "106\n"
     ]
    }
   ],
   "source": [
    "a = Player(2,3)\n",
    "a.damage(2)\n",
    "a.move(1,2)\n",
    "print(a.x + a.y + a.health)"
   ]
  },
  {
   "cell_type": "code",
   "execution_count": 19,
   "id": "9c2d0993-e814-4557-bdef-b5ad45345c58",
   "metadata": {},
   "outputs": [],
   "source": [
    "def multiple_iter(a, b):\n",
    "    result = 0\n",
    "    while b > 0:\n",
    "        result += a\n",
    "        b -= 1\n",
    "    return result"
   ]
  },
  {
   "cell_type": "code",
   "execution_count": 18,
   "id": "ca7eb4a5-3c70-4e53-86df-5f4c5df8ec87",
   "metadata": {},
   "outputs": [
    {
     "data": {
      "text/plain": [
       "32"
      ]
     },
     "execution_count": 18,
     "metadata": {},
     "output_type": "execute_result"
    }
   ],
   "source": [
    "multiple_iter(8, 4)"
   ]
  },
  {
   "cell_type": "markdown",
   "id": "6be3ad08-96ca-435b-a91b-72835c062ffe",
   "metadata": {},
   "source": [
    "1. Recursive reduction: Reduce a problem into a simpler version. See how to derive formular for AP and GP\n",
    "2. Create a base case. The simplesest version that can be solved alone. This helps reduce an infinite loop."
   ]
  }
 ],
 "metadata": {
  "kernelspec": {
   "display_name": "Python 3 (ipykernel)",
   "language": "python",
   "name": "python3"
  },
  "language_info": {
   "codemirror_mode": {
    "name": "ipython",
    "version": 3
   },
   "file_extension": ".py",
   "mimetype": "text/x-python",
   "name": "python",
   "nbconvert_exporter": "python",
   "pygments_lexer": "ipython3",
   "version": "3.10.4"
  }
 },
 "nbformat": 4,
 "nbformat_minor": 5
}
