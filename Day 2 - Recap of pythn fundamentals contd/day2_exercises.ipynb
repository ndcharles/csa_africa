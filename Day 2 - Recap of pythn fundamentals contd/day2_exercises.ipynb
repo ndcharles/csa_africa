{
 "cells": [
  {
   "cell_type": "markdown",
   "id": "wanted-reset",
   "metadata": {},
   "source": [
    "In today's exercises, we'll practice the material that was covered in this morning's lecture.\n",
    "\n",
    "Some problems at the end of the exercise notebook are marked as _optional_. Your progress on those problems won't be assessed: these problems have been provided as an additional challenge for people that have found the earlier problems straightforward."
   ]
  },
  {
   "cell_type": "markdown",
   "id": "commercial-nothing",
   "metadata": {},
   "source": [
    "## 1. Did you solve yesterday's problems?\n",
    "\n",
    "If you haven't already done so, please spend some time attempting to complete yesterday's problems, including the optional problems. We've deliberately set fewer exercises today to give you time for this."
   ]
  },
  {
   "cell_type": "markdown",
   "id": "associate-station",
   "metadata": {},
   "source": [
    "## 2. Flattening lists\n",
    "\n",
    "*This exercise might feel familiar - we set it yesterday too! Today, since we covered recursion, try to find a recursive solution.*\n",
    "\n",
    "Write a function, `flatten`, that \"flattens\" any list. A list is flat if it does not contain any nested list. A list that contains a nested list is flattened when the elements of any nested lists are removed, and put into a flat list.\n",
    "\n",
    "For example, if `a = [[[1, 2, 3], [4, 5, 6], [7], [8, 9], 10]]`, then `flatten(a) = [1, 2, 3, 4, 5, 6, 7, 8, 9, 10]`."
   ]
  },
  {
   "cell_type": "code",
   "execution_count": 4,
   "id": "thermal-fields",
   "metadata": {},
   "outputs": [],
   "source": [
    "def flatten(mylist):\n",
    "    flattened = []\n",
    "    for item in mylist:\n",
    "        if isinstance(item, list):\n",
    "            flattened.extend(flatten(item))\n",
    "        else:\n",
    "            flattened.append(item)\n",
    "    return flattened"
   ]
  },
  {
   "cell_type": "code",
   "execution_count": 5,
   "id": "82aaf9b9-990d-423f-b950-87f875cb5dd8",
   "metadata": {},
   "outputs": [
    {
     "data": {
      "text/plain": [
       "[1, 2, 3, 4, 5, 6, 7, 8, 9, 10]"
      ]
     },
     "execution_count": 5,
     "metadata": {},
     "output_type": "execute_result"
    }
   ],
   "source": [
    "a = [[[1, 2, 3], [4, 5, 6], [7], [8, 9], 10]]\n",
    "flatten(a)"
   ]
  },
  {
   "cell_type": "markdown",
   "id": "a3c5b757-0f5a-4e29-8ae4-fc186c05bc95",
   "metadata": {},
   "source": [
    "class implementation"
   ]
  },
  {
   "cell_type": "code",
   "execution_count": 70,
   "id": "e96cf58b-f74a-4aa8-865b-8c7b65d2fc01",
   "metadata": {},
   "outputs": [],
   "source": [
    "def flattened(input_list, flattened_list):\n",
    "    for element in input_list:\n",
    "        if type(element) is list:\n",
    "            flattened(element, flattened_list)\n",
    "        else:\n",
    "            flattened_list.append(element)\n",
    "    return flattened_list"
   ]
  },
  {
   "cell_type": "code",
   "execution_count": 71,
   "id": "6782f516-22ef-4c73-9a4e-a584f39031b7",
   "metadata": {},
   "outputs": [
    {
     "data": {
      "text/plain": [
       "[1, 2, 3, 4, 5, 6, 7, 8, 9, 10]"
      ]
     },
     "execution_count": 71,
     "metadata": {},
     "output_type": "execute_result"
    }
   ],
   "source": [
    "flattened(a, [])"
   ]
  },
  {
   "cell_type": "markdown",
   "id": "improving-treasurer",
   "metadata": {},
   "source": [
    "## 3. Apply a function to a dictionary\n",
    "\n",
    "Using recursion, write a function, `apply_function`, that takes a function and a dictionary, and applies the function on the integer values of the dictionary. The dictionary can contain nested dictionaries as values, and the function should be apply to any integers contained within those.\n",
    "\n",
    "For example, we might want to apply this function:\n",
    "\n",
    "```\n",
    "def pow_2(n):\n",
    "    return n ** 2\n",
    "```\n",
    "\n",
    "to this dictionary:\n",
    "\n",
    "```\n",
    "fruit_counts = {\"apple\": 12, {\"banana\": {\"cavendish\": 4, \"plantain\": 14}}\n",
    "```\n",
    "\n",
    "This would return:\n",
    "\n",
    "```\n",
    "apply_function(pow_2, fruit_counts) = {\"apple\": 144, {\"banana\": {\"cavendish\": 16, \"plantain\": 196}}\n",
    "```"
   ]
  },
  {
   "cell_type": "code",
   "execution_count": 35,
   "id": "scenic-bangladesh",
   "metadata": {},
   "outputs": [],
   "source": [
    "def pow_2(n):\n",
    "    return n**2"
   ]
  },
  {
   "cell_type": "code",
   "execution_count": 36,
   "id": "a460f3c4-486d-4267-ba2b-6c3a1f155a11",
   "metadata": {},
   "outputs": [],
   "source": [
    "def apply_function(func, dictionary):\n",
    "    for key, value in dictionary.items():\n",
    "        if isinstance(value, int):\n",
    "            dictionary[key] = func(value)\n",
    "        elif isinstance(value, dict):\n",
    "            dictionary[key] = apply_function(func, value)\n",
    "    return dictionary"
   ]
  },
  {
   "cell_type": "code",
   "execution_count": 77,
   "id": "719adac8-5554-4aab-999a-9291bde3888d",
   "metadata": {},
   "outputs": [],
   "source": [
    "fruit_counts = {\"apple\": 12, \"banana\": {\"cavendish\": 4, \"plantain\": 14}}"
   ]
  },
  {
   "cell_type": "code",
   "execution_count": 38,
   "id": "9b868dca-9304-4511-ace4-ab61801d9803",
   "metadata": {},
   "outputs": [
    {
     "data": {
      "text/plain": [
       "{'apple': 144, 'banana': {'cavendish': 16, 'plantain': 196}}"
      ]
     },
     "execution_count": 38,
     "metadata": {},
     "output_type": "execute_result"
    }
   ],
   "source": [
    "apply_function(pow_2, fruit_counts)"
   ]
  },
  {
   "cell_type": "code",
   "execution_count": 79,
   "id": "8bcd8f7f-89da-4c86-8166-bbb0b0b0480a",
   "metadata": {},
   "outputs": [],
   "source": [
    "#in class solutions"
   ]
  },
  {
   "cell_type": "code",
   "execution_count": 72,
   "id": "81395a70-100c-4b89-ade5-fd83cc1de4e5",
   "metadata": {},
   "outputs": [],
   "source": [
    "def pow_2(n):\n",
    "    return n**2"
   ]
  },
  {
   "cell_type": "code",
   "execution_count": 75,
   "id": "515d2881-ab93-4499-a2be-198c2243b88a",
   "metadata": {},
   "outputs": [],
   "source": [
    "def apply_func(func, input_dict):\n",
    "    for item in input_dict:\n",
    "        if type(input_dict[item]) is int:\n",
    "            input_dict[item] = func(input_dict[item])\n",
    "        else:\n",
    "            apply_func(func, input_dict[item])\n",
    "    return input_dict"
   ]
  },
  {
   "cell_type": "code",
   "execution_count": 78,
   "id": "0701b8d2-a292-4df3-a75b-2c0c871a48db",
   "metadata": {},
   "outputs": [
    {
     "data": {
      "text/plain": [
       "{'apple': 144, 'banana': {'cavendish': 16, 'plantain': 196}}"
      ]
     },
     "execution_count": 78,
     "metadata": {},
     "output_type": "execute_result"
    }
   ],
   "source": [
    "apply_func(pow_2, fruit_counts)"
   ]
  },
  {
   "cell_type": "markdown",
   "id": "iraqi-correction",
   "metadata": {},
   "source": [
    "## 4. Wherefore art thou, Romeo?\n",
    "\n",
    "We've include a file, `romeo_juliet.txt` (in the `data/` directory), that contains the play _Romeo and Juliet_. Write code that extracts all of the lines for the Romeo character; these start with \"  Rom.\" -- note the two spaces before \"Rom.\". You should output these lines to a file called `romeo.txt`. Repeat this, but this time, extract all of Juliet's first lines to a file called `juliet.txt`.\n",
    "\n",
    "**Hints**:\n",
    "- Make use of the `startswith` method of strings to check if a line begins with a given pattern.\n",
    "- Rather than duplicating your effort, think about writing a function that lets you easily switch characters."
   ]
  },
  {
   "cell_type": "code",
   "execution_count": 62,
   "id": "fifty-jimmy",
   "metadata": {},
   "outputs": [],
   "source": [
    "def romeo_juliet(string, output_file):\n",
    "    with open(\"data/romeo_juliet.txt\") as file:\n",
    "        for entry in file:\n",
    "            if entry.startswith(string):\n",
    "                print(entry, file=open(f\"data/{output_file}\", \"a\"))"
   ]
  },
  {
   "cell_type": "code",
   "execution_count": 63,
   "id": "d0b159e4-8a7d-45f2-bf50-b374a8711389",
   "metadata": {},
   "outputs": [],
   "source": [
    "romeo_juliet(\"  Jul.\", \"juliet.txt\")"
   ]
  },
  {
   "cell_type": "code",
   "execution_count": 80,
   "id": "f1601faa-086d-41da-b343-d9ff8767cbd9",
   "metadata": {},
   "outputs": [],
   "source": [
    "# class solution"
   ]
  },
  {
   "cell_type": "code",
   "execution_count": 81,
   "id": "b71d0fa7-40ca-45ee-aa8e-7fa0e127103d",
   "metadata": {},
   "outputs": [],
   "source": [
    "romeo_lines = []\n",
    "with open(\"data/romeo_juliet.txt\") as romeo_juliet:\n",
    "    for entry in romeo_juliet:\n",
    "        if entry.startswith(\"  Rom.\"):\n",
    "            romeo_lines.append(entry)"
   ]
  },
  {
   "cell_type": "code",
   "execution_count": 85,
   "id": "74fdf505-0926-4da3-8d95-2ac8f446a461",
   "metadata": {},
   "outputs": [
    {
     "ename": "UnsupportedOperation",
     "evalue": "not readable",
     "output_type": "error",
     "traceback": [
      "\u001b[1;31m---------------------------------------------------------------------------\u001b[0m",
      "\u001b[1;31mUnsupportedOperation\u001b[0m                      Traceback (most recent call last)",
      "Input \u001b[1;32mIn [85]\u001b[0m, in \u001b[0;36m<cell line: 1>\u001b[1;34m()\u001b[0m\n\u001b[0;32m      1\u001b[0m \u001b[38;5;28;01mwith\u001b[39;00m \u001b[38;5;28mopen\u001b[39m(\u001b[38;5;124m\"\u001b[39m\u001b[38;5;124mdata/romeo_lines.txt\u001b[39m\u001b[38;5;124m\"\u001b[39m, \u001b[38;5;124m\"\u001b[39m\u001b[38;5;124mw\u001b[39m\u001b[38;5;124m\"\u001b[39m) \u001b[38;5;28;01mas\u001b[39;00m romeo_lines:\n\u001b[1;32m----> 2\u001b[0m     \u001b[38;5;28;01mfor\u001b[39;00m line \u001b[38;5;129;01min\u001b[39;00m romeo_lines:\n\u001b[0;32m      3\u001b[0m         \u001b[38;5;28mprint\u001b[39m(line, file\u001b[38;5;241m=\u001b[39mromeo_lines)\n",
      "\u001b[1;31mUnsupportedOperation\u001b[0m: not readable"
     ]
    }
   ],
   "source": [
    "with open(\"data/romeo_lines.txt\", \"w\") as romeo_lines:\n",
    "    for line in romeo_lines:\n",
    "        print(line, file=romeo_lines)"
   ]
  },
  {
   "cell_type": "markdown",
   "id": "placed-grill",
   "metadata": {},
   "source": [
    "## Optional: 4.1 All of the lines\n",
    "\n",
    "Following on from the above problem, extend your solution to that it copies _all_ of the lines of a given character, not just the first line. You'll need to look at the contents of the `romeo_juliet.txt` file to understand how this is structured: a characters first line begins with their name (e.g., `Rom`), and then they continue speaking until there is a blank line."
   ]
  },
  {
   "cell_type": "code",
   "execution_count": null,
   "id": "waiting-protection",
   "metadata": {},
   "outputs": [],
   "source": [
    "with open(\"data/romeo_juliet.txt\") as file:\n",
    "    romeo_speaking = False\n",
    "    for line in file:\n",
    "        "
   ]
  },
  {
   "cell_type": "markdown",
   "id": "historical-citizenship",
   "metadata": {},
   "source": [
    "## 5. Give me my sin again\n",
    "\n",
    "We have a function, `calculate_sin`, that is defined as:\n",
    "\n",
    "```\n",
    "import math\n",
    "\n",
    "def calculate_sin(x, n):\n",
    "    return math.sin(x)/n\n",
    "```\n",
    "\n",
    "Write a memoised version of this function: that is, a version that remembers previously calculated values. Use the _time_ module as described in the lectures to demonstrate the savings of the memoised version."
   ]
  },
  {
   "cell_type": "code",
   "execution_count": 5,
   "id": "empirical-disco",
   "metadata": {},
   "outputs": [],
   "source": [
    "import math\n",
    "\n",
    "def calculate_sine(x, n):\n",
    "    return math.sin(x)/n"
   ]
  }
 ],
 "metadata": {
  "kernelspec": {
   "display_name": "Python 3 (ipykernel)",
   "language": "python",
   "name": "python3"
  },
  "language_info": {
   "codemirror_mode": {
    "name": "ipython",
    "version": 3
   },
   "file_extension": ".py",
   "mimetype": "text/x-python",
   "name": "python",
   "nbconvert_exporter": "python",
   "pygments_lexer": "ipython3",
   "version": "3.10.4"
  }
 },
 "nbformat": 4,
 "nbformat_minor": 5
}
