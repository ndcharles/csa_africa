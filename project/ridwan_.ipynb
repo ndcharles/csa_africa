{
 "cells": [
  {
   "cell_type": "code",
   "execution_count": null,
   "id": "1d7e8923-cf3d-4918-80f1-d352b746c814",
   "metadata": {},
   "outputs": [],
   "source": [
    "import pandas as pd\n",
    "import numpy as np\n",
    "from sklearn.compose import make_column_transformer\n",
    "from sklearn.preprocessing import OneHotEncoder\n",
    "from sklearn.pipeline import make_pipeline\n",
    "from sklearn.linear_model import Ridge"
   ]
  },
  {
   "cell_type": "code",
   "execution_count": null,
   "id": "e3326935-039a-45e3-a2b3-81c34507ce7f",
   "metadata": {},
   "outputs": [],
   "source": [
    "import sklearn\n",
    "sklearn.__version__"
   ]
  },
  {
   "cell_type": "code",
   "execution_count": null,
   "id": "74ac8cc9-4a9c-4c52-bf64-111b035acf3c",
   "metadata": {},
   "outputs": [],
   "source": [
    "# read data\n",
    "data = pd.read_csv(\"50_Startups.csv\")"
   ]
  },
  {
   "cell_type": "code",
   "execution_count": null,
   "id": "b76ae26e-fd03-4c8c-bfa5-cd2f97bc5805",
   "metadata": {},
   "outputs": [],
   "source": [
    "# split into X and y\n",
    "X = data.drop(\"Profit\", axis=1)\n",
    "y = data[\"Profit\"]"
   ]
  },
  {
   "cell_type": "code",
   "execution_count": null,
   "id": "77d1eefb-a7ba-43c5-860b-eac8136b9192",
   "metadata": {},
   "outputs": [],
   "source": [
    "# this version of sklearn uses OHE w/o label encoding first\n",
    "model = OneHotEncoder()\n",
    "new = model.fit_transform(data[[\"State\"]])"
   ]
  },
  {
   "cell_type": "code",
   "execution_count": null,
   "id": "56e4ffc7-378d-499a-8e31-76fffe71f75a",
   "metadata": {},
   "outputs": [],
   "source": [
    "# create a column transformer object\n",
    "transform = make_column_transformer(\n",
    "            (OneHotEncoder(), [\"State\"]),\n",
    "            remainder=\"passthrough\")"
   ]
  },
  {
   "cell_type": "code",
   "execution_count": null,
   "id": "eda38db6-8caa-4794-b0fd-b3a41cfbe142",
   "metadata": {},
   "outputs": [],
   "source": [
    "# fit the column trans created earlier\n",
    "transform.fit_transform(X)"
   ]
  },
  {
   "cell_type": "code",
   "execution_count": null,
   "id": "840d28e6-4f8f-48c6-9d55-7f5a7a9e6ec3",
   "metadata": {},
   "outputs": [],
   "source": [
    "# as example, I used ridge regression model\n",
    "ridge = Ridge()"
   ]
  },
  {
   "cell_type": "code",
   "execution_count": null,
   "id": "c6de1b93-7956-42c1-bf89-4c8ac8843395",
   "metadata": {},
   "outputs": [],
   "source": [
    "# create a pipeline to join the transformed column and your model\n",
    "pipeline = make_pipeline(transform, ridge)"
   ]
  },
  {
   "cell_type": "code",
   "execution_count": null,
   "id": "a27a8dce-2e2d-48e3-9581-72bf47341aef",
   "metadata": {},
   "outputs": [],
   "source": [
    "# instead of fitting a model, you fit the pipeline\n",
    "pipeline.fit(X, y)"
   ]
  },
  {
   "cell_type": "code",
   "execution_count": null,
   "id": "a9293942-48d3-47c1-a06b-5a1058fdb9f8",
   "metadata": {},
   "outputs": [],
   "source": [
    "# score as usual\n",
    "pipeline.score(X,y)"
   ]
  },
  {
   "cell_type": "code",
   "execution_count": null,
   "id": "c4217f65-e20c-468a-bfb8-1200bef9f4e2",
   "metadata": {},
   "outputs": [],
   "source": [
    "# predict sample dataset\n",
    "pipeline.predict(X.sample(2, random_state=3))"
   ]
  }
 ],
 "metadata": {
  "kernelspec": {
   "display_name": "Python 3 (ipykernel)",
   "language": "python",
   "name": "python3"
  },
  "language_info": {
   "codemirror_mode": {
    "name": "ipython",
    "version": 3
   },
   "file_extension": ".py",
   "mimetype": "text/x-python",
   "name": "python",
   "nbconvert_exporter": "python",
   "pygments_lexer": "ipython3",
   "version": "3.10.4"
  }
 },
 "nbformat": 4,
 "nbformat_minor": 5
}
