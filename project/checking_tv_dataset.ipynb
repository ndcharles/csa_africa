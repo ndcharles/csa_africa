{
 "cells": [
  {
   "cell_type": "code",
   "execution_count": 1,
   "id": "ddc10700-0ddb-423b-92a8-3cadf9b53974",
   "metadata": {},
   "outputs": [],
   "source": [
    "import pandas as pd\n",
    "import numpy as np\n",
    "from catboost import CatBoostRegressor\n",
    "import matplotlib.pyplot as plt"
   ]
  },
  {
   "cell_type": "code",
   "execution_count": 20,
   "id": "f720d644-47d5-4250-b5b9-8637c023b24b",
   "metadata": {},
   "outputs": [],
   "source": [
    "from sklearn.model_selection import train_test_split"
   ]
  },
  {
   "cell_type": "code",
   "execution_count": 2,
   "id": "a4b17ffc-680e-4171-9450-4c192a8dd49f",
   "metadata": {},
   "outputs": [],
   "source": [
    "df = pd.read_csv(\"TV_Final.csv\")"
   ]
  },
  {
   "cell_type": "code",
   "execution_count": 3,
   "id": "c6513bc4-5c1a-4bb3-bdf0-a5cdff30ae1b",
   "metadata": {},
   "outputs": [
    {
     "data": {
      "text/html": [
       "<div>\n",
       "<style scoped>\n",
       "    .dataframe tbody tr th:only-of-type {\n",
       "        vertical-align: middle;\n",
       "    }\n",
       "\n",
       "    .dataframe tbody tr th {\n",
       "        vertical-align: top;\n",
       "    }\n",
       "\n",
       "    .dataframe thead th {\n",
       "        text-align: right;\n",
       "    }\n",
       "</style>\n",
       "<table border=\"1\" class=\"dataframe\">\n",
       "  <thead>\n",
       "    <tr style=\"text-align: right;\">\n",
       "      <th></th>\n",
       "      <th>Brand</th>\n",
       "      <th>Resolution</th>\n",
       "      <th>Size</th>\n",
       "      <th>Selling Price</th>\n",
       "      <th>Original Price</th>\n",
       "      <th>Operating System</th>\n",
       "      <th>Rating</th>\n",
       "    </tr>\n",
       "  </thead>\n",
       "  <tbody>\n",
       "    <tr>\n",
       "      <th>0</th>\n",
       "      <td>Acer</td>\n",
       "      <td>Ultra HD LED</td>\n",
       "      <td>50</td>\n",
       "      <td>34999</td>\n",
       "      <td>44990</td>\n",
       "      <td>Android</td>\n",
       "      <td>3.6</td>\n",
       "    </tr>\n",
       "    <tr>\n",
       "      <th>1</th>\n",
       "      <td>Acer</td>\n",
       "      <td>Ultra HD LED</td>\n",
       "      <td>58</td>\n",
       "      <td>38999</td>\n",
       "      <td>59990</td>\n",
       "      <td>Android</td>\n",
       "      <td>4.0</td>\n",
       "    </tr>\n",
       "    <tr>\n",
       "      <th>2</th>\n",
       "      <td>Acer</td>\n",
       "      <td>Ultra HD LED</td>\n",
       "      <td>55</td>\n",
       "      <td>39999</td>\n",
       "      <td>54990</td>\n",
       "      <td>Android</td>\n",
       "      <td>3.8</td>\n",
       "    </tr>\n",
       "    <tr>\n",
       "      <th>3</th>\n",
       "      <td>Acer</td>\n",
       "      <td>Ultra HD LED</td>\n",
       "      <td>70</td>\n",
       "      <td>69999</td>\n",
       "      <td>99990</td>\n",
       "      <td>Android</td>\n",
       "      <td>4.3</td>\n",
       "    </tr>\n",
       "    <tr>\n",
       "      <th>4</th>\n",
       "      <td>Acer</td>\n",
       "      <td>Ultra HD LED</td>\n",
       "      <td>43</td>\n",
       "      <td>34990</td>\n",
       "      <td>34990</td>\n",
       "      <td>Android</td>\n",
       "      <td>3.8</td>\n",
       "    </tr>\n",
       "  </tbody>\n",
       "</table>\n",
       "</div>"
      ],
      "text/plain": [
       "  Brand    Resolution  Size   Selling Price  Original Price Operating System  \\\n",
       "0  Acer  Ultra HD LED     50          34999           44990          Android   \n",
       "1  Acer  Ultra HD LED     58          38999           59990          Android   \n",
       "2  Acer  Ultra HD LED     55          39999           54990          Android   \n",
       "3  Acer  Ultra HD LED     70          69999           99990          Android   \n",
       "4  Acer  Ultra HD LED     43          34990           34990          Android   \n",
       "\n",
       "   Rating  \n",
       "0     3.6  \n",
       "1     4.0  \n",
       "2     3.8  \n",
       "3     4.3  \n",
       "4     3.8  "
      ]
     },
     "execution_count": 3,
     "metadata": {},
     "output_type": "execute_result"
    }
   ],
   "source": [
    "df.head()"
   ]
  },
  {
   "cell_type": "code",
   "execution_count": 54,
   "id": "765ab589-81c6-43bd-a8e0-3977df0ddc9f",
   "metadata": {},
   "outputs": [
    {
     "data": {
      "text/plain": [
       "0      Ultra\n",
       "1      Ultra\n",
       "2      Ultra\n",
       "3      Ultra\n",
       "4      Ultra\n",
       "       ...  \n",
       "907    Ultra\n",
       "908    Ultra\n",
       "909     Full\n",
       "910     Full\n",
       "911     Full\n",
       "Name: Resolution, Length: 912, dtype: object"
      ]
     },
     "execution_count": 54,
     "metadata": {},
     "output_type": "execute_result"
    }
   ],
   "source": [
    "tab = df[\"Resolution\"].str.split(\" \").str[0]\n",
    "tab"
   ]
  },
  {
   "cell_type": "code",
   "execution_count": 23,
   "id": "67ff82f5-6b31-4a4c-9d16-6367e6e8409e",
   "metadata": {},
   "outputs": [],
   "source": [
    "tele = df[\"Operating System\"].fillna(method=\"ffill\", axis=0)"
   ]
  },
  {
   "cell_type": "code",
   "execution_count": 24,
   "id": "31f2eee9-7bda-43a7-88ec-5fef949bcd74",
   "metadata": {},
   "outputs": [],
   "source": [
    "television = df.copy()"
   ]
  },
  {
   "cell_type": "code",
   "execution_count": 25,
   "id": "00976ffa-8be7-4470-89c9-9ffd0cf76fb6",
   "metadata": {},
   "outputs": [],
   "source": [
    "television[\"Operating System\"] = tele"
   ]
  },
  {
   "cell_type": "code",
   "execution_count": 26,
   "id": "b7eae368-5be9-4ac6-9156-d44f25ed007e",
   "metadata": {},
   "outputs": [
    {
     "data": {
      "text/plain": [
       "Brand                 0\n",
       "Resolution            0\n",
       "Size                  0\n",
       "Selling Price         0\n",
       "Original Price        0\n",
       "Operating System      0\n",
       "Rating              220\n",
       "dtype: int64"
      ]
     },
     "execution_count": 26,
     "metadata": {},
     "output_type": "execute_result"
    }
   ],
   "source": [
    "television.isnull().sum()"
   ]
  },
  {
   "cell_type": "code",
   "execution_count": 27,
   "id": "f04c926a-292f-4200-a785-1220cccc35cf",
   "metadata": {},
   "outputs": [],
   "source": [
    "television.drop([\"Selling Price\", \"Rating\"], axis=1, inplace=True)"
   ]
  },
  {
   "cell_type": "code",
   "execution_count": 28,
   "id": "3e782da1-e54c-448d-b574-783aa3dee377",
   "metadata": {},
   "outputs": [
    {
     "data": {
      "text/html": [
       "<div>\n",
       "<style scoped>\n",
       "    .dataframe tbody tr th:only-of-type {\n",
       "        vertical-align: middle;\n",
       "    }\n",
       "\n",
       "    .dataframe tbody tr th {\n",
       "        vertical-align: top;\n",
       "    }\n",
       "\n",
       "    .dataframe thead th {\n",
       "        text-align: right;\n",
       "    }\n",
       "</style>\n",
       "<table border=\"1\" class=\"dataframe\">\n",
       "  <thead>\n",
       "    <tr style=\"text-align: right;\">\n",
       "      <th></th>\n",
       "      <th>Brand</th>\n",
       "      <th>Resolution</th>\n",
       "      <th>Size</th>\n",
       "      <th>Original Price</th>\n",
       "      <th>Operating System</th>\n",
       "    </tr>\n",
       "  </thead>\n",
       "  <tbody>\n",
       "    <tr>\n",
       "      <th>0</th>\n",
       "      <td>Acer</td>\n",
       "      <td>Ultra HD LED</td>\n",
       "      <td>50</td>\n",
       "      <td>44990</td>\n",
       "      <td>Android</td>\n",
       "    </tr>\n",
       "    <tr>\n",
       "      <th>1</th>\n",
       "      <td>Acer</td>\n",
       "      <td>Ultra HD LED</td>\n",
       "      <td>58</td>\n",
       "      <td>59990</td>\n",
       "      <td>Android</td>\n",
       "    </tr>\n",
       "    <tr>\n",
       "      <th>2</th>\n",
       "      <td>Acer</td>\n",
       "      <td>Ultra HD LED</td>\n",
       "      <td>55</td>\n",
       "      <td>54990</td>\n",
       "      <td>Android</td>\n",
       "    </tr>\n",
       "  </tbody>\n",
       "</table>\n",
       "</div>"
      ],
      "text/plain": [
       "  Brand    Resolution  Size   Original Price Operating System\n",
       "0  Acer  Ultra HD LED     50           44990          Android\n",
       "1  Acer  Ultra HD LED     58           59990          Android\n",
       "2  Acer  Ultra HD LED     55           54990          Android"
      ]
     },
     "execution_count": 28,
     "metadata": {},
     "output_type": "execute_result"
    }
   ],
   "source": [
    "television.head(3)"
   ]
  },
  {
   "cell_type": "code",
   "execution_count": 29,
   "id": "195f07a8-ae1f-4102-a30d-669af765a707",
   "metadata": {},
   "outputs": [],
   "source": [
    "X = television.drop([\"Original Price\"], axis=1)\n",
    "y = television[\"Original Price\"]"
   ]
  },
  {
   "cell_type": "code",
   "execution_count": 32,
   "id": "9a0e7acf-e803-4ab1-b063-45250628fda5",
   "metadata": {},
   "outputs": [],
   "source": [
    "X_train, X_test, y_train, y_test = train_test_split(X, y, test_size=0.22, random_state=13)"
   ]
  },
  {
   "cell_type": "code",
   "execution_count": 37,
   "id": "fb7f914e-21db-4665-bc65-a0728007a880",
   "metadata": {},
   "outputs": [],
   "source": [
    "regressor = CatBoostRegressor()"
   ]
  },
  {
   "cell_type": "code",
   "execution_count": 38,
   "id": "c4be67fd-187b-4e0f-bebf-cfcc81b325f1",
   "metadata": {},
   "outputs": [],
   "source": [
    "cat_feat = [\"Brand\", \"Resolution\", \"Operating System\"]"
   ]
  },
  {
   "cell_type": "code",
   "execution_count": null,
   "id": "85af7a32-0eaf-4ed7-8e4c-97c97b405ccc",
   "metadata": {},
   "outputs": [],
   "source": [
    "regressor.fit(X_train, y_train, cat_features=cat_feat)"
   ]
  },
  {
   "cell_type": "code",
   "execution_count": 42,
   "id": "4c8a231d-eccb-4296-8716-86cb46ed3516",
   "metadata": {},
   "outputs": [
    {
     "data": {
      "text/plain": [
       "0.805351344852352"
      ]
     },
     "execution_count": 42,
     "metadata": {},
     "output_type": "execute_result"
    }
   ],
   "source": [
    "regressor.score(X_train, y_train)"
   ]
  },
  {
   "cell_type": "code",
   "execution_count": 43,
   "id": "1fb77722-d66d-4da9-9dcd-1c4124c1adac",
   "metadata": {},
   "outputs": [],
   "source": [
    "pred_y = regressor.predict(X_test)"
   ]
  },
  {
   "cell_type": "code",
   "execution_count": 45,
   "id": "d80aa284-bd86-4afd-bae3-3092e89967ba",
   "metadata": {},
   "outputs": [
    {
     "data": {
      "image/png": "[encoded data removed]",
      "text/plain": [
       "<Figure size 432x288 with 1 Axes>"
      ]
     },
     "metadata": {
      "needs_background": "light"
     },
     "output_type": "display_data"
    }
   ],
   "source": [
    "plt.hist(y_test)\n",
    "plt.hist(pred_y, alpha=0.4)\n",
    "plt.show();"
   ]
  },
  {
   "cell_type": "code",
   "execution_count": 46,
   "id": "38f2b32f-6f12-4c35-bc67-b3055c76da4d",
   "metadata": {},
   "outputs": [
    {
     "data": {
      "text/plain": [
       "21307.594791948322"
      ]
     },
     "execution_count": 46,
     "metadata": {},
     "output_type": "execute_result"
    }
   ],
   "source": [
    "regressor.predict([\"Acer\", \"HD LED\", \"32\", \"Android\"])"
   ]
  },
  {
   "cell_type": "code",
   "execution_count": 47,
   "id": "6dbab503-c023-42eb-b4ed-dc1cfc95e947",
   "metadata": {},
   "outputs": [
    {
     "data": {
      "text/plain": [
       "21682.13146972903"
      ]
     },
     "execution_count": 47,
     "metadata": {},
     "output_type": "execute_result"
    }
   ],
   "source": [
    "regressor.predict([\"Candes\", \"HD LED\", \"32\", \"Android\"])"
   ]
  },
  {
   "cell_type": "code",
   "execution_count": 48,
   "id": "c8bff3ad-0521-4319-978a-3c621dbdbcf8",
   "metadata": {},
   "outputs": [
    {
     "data": {
      "text/plain": [
       "82918.81584958515"
      ]
     },
     "execution_count": 48,
     "metadata": {},
     "output_type": "execute_result"
    }
   ],
   "source": [
    "regressor.predict([\"Acer\", \"QLED Ultra HD\", \"55\", \"Android\"])"
   ]
  },
  {
   "cell_type": "code",
   "execution_count": null,
   "id": "51f8530a-9df3-4048-aef5-ff06f933796f",
   "metadata": {},
   "outputs": [],
   "source": []
  }
 ],
 "metadata": {
  "kernelspec": {
   "display_name": "Python 3 (ipykernel)",
   "language": "python",
   "name": "python3"
  },
  "language_info": {
   "codemirror_mode": {
    "name": "ipython",
    "version": 3
   },
   "file_extension": ".py",
   "mimetype": "text/x-python",
   "name": "python",
   "nbconvert_exporter": "python",
   "pygments_lexer": "ipython3",
   "version": "3.10.4"
  }
 },
 "nbformat": 4,
 "nbformat_minor": 5
}
