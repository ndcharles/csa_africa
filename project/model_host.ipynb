{
 "cells": [
  {
   "cell_type": "code",
   "execution_count": 5,
   "id": "6e883b3b-6622-4b6a-813e-c171c070822f",
   "metadata": {},
   "outputs": [],
   "source": [
    "import pandas as pd\n",
    "import numpy as np\n",
    "#from catboost import CatBoostRegressor\n",
    "import joblib"
   ]
  },
  {
   "cell_type": "code",
   "execution_count": 4,
   "id": "81b654c0-b552-4305-ac3a-13727b3d1b6e",
   "metadata": {},
   "outputs": [],
   "source": [
    "cat_model = joblib.load(\"cat_model.sav\")"
   ]
  },
  {
   "cell_type": "code",
   "execution_count": 6,
   "id": "7cff6eb0-9b52-4699-9934-81439f424935",
   "metadata": {},
   "outputs": [],
   "source": [
    "data = pd.read_csv(\"ml_television.csv\")"
   ]
  },
  {
   "cell_type": "code",
   "execution_count": 7,
   "id": "40eeea6a-723f-416c-809b-35ebf412b6cb",
   "metadata": {},
   "outputs": [
    {
     "data": {
      "text/html": [
       "<div>\n",
       "<style scoped>\n",
       "    .dataframe tbody tr th:only-of-type {\n",
       "        vertical-align: middle;\n",
       "    }\n",
       "\n",
       "    .dataframe tbody tr th {\n",
       "        vertical-align: top;\n",
       "    }\n",
       "\n",
       "    .dataframe thead th {\n",
       "        text-align: right;\n",
       "    }\n",
       "</style>\n",
       "<table border=\"1\" class=\"dataframe\">\n",
       "  <thead>\n",
       "    <tr style=\"text-align: right;\">\n",
       "      <th></th>\n",
       "      <th>Company</th>\n",
       "      <th>TypeName</th>\n",
       "      <th>Cpu</th>\n",
       "      <th>Ram</th>\n",
       "      <th>Memory</th>\n",
       "      <th>Gpu</th>\n",
       "      <th>OpSys</th>\n",
       "      <th>Weight</th>\n",
       "      <th>Price</th>\n",
       "      <th>ppi</th>\n",
       "    </tr>\n",
       "  </thead>\n",
       "  <tbody>\n",
       "    <tr>\n",
       "      <th>0</th>\n",
       "      <td>Apple</td>\n",
       "      <td>Ultrabook</td>\n",
       "      <td>Intel Core i5</td>\n",
       "      <td>8</td>\n",
       "      <td>128</td>\n",
       "      <td>Intel</td>\n",
       "      <td>mac OS</td>\n",
       "      <td>1.37</td>\n",
       "      <td>71378.6832</td>\n",
       "      <td>4.21</td>\n",
       "    </tr>\n",
       "    <tr>\n",
       "      <th>1</th>\n",
       "      <td>Apple</td>\n",
       "      <td>Ultrabook</td>\n",
       "      <td>Intel Core i5</td>\n",
       "      <td>8</td>\n",
       "      <td>128</td>\n",
       "      <td>Intel</td>\n",
       "      <td>mac OS</td>\n",
       "      <td>1.34</td>\n",
       "      <td>47895.5232</td>\n",
       "      <td>2.98</td>\n",
       "    </tr>\n",
       "    <tr>\n",
       "      <th>2</th>\n",
       "      <td>HP</td>\n",
       "      <td>Notebook</td>\n",
       "      <td>Intel Core i5</td>\n",
       "      <td>8</td>\n",
       "      <td>256</td>\n",
       "      <td>Intel</td>\n",
       "      <td>Other OS</td>\n",
       "      <td>1.86</td>\n",
       "      <td>30636.0000</td>\n",
       "      <td>1.98</td>\n",
       "    </tr>\n",
       "    <tr>\n",
       "      <th>3</th>\n",
       "      <td>Apple</td>\n",
       "      <td>Ultrabook</td>\n",
       "      <td>Intel Core i7</td>\n",
       "      <td>16</td>\n",
       "      <td>512</td>\n",
       "      <td>AMD</td>\n",
       "      <td>mac OS</td>\n",
       "      <td>1.83</td>\n",
       "      <td>135195.3360</td>\n",
       "      <td>3.64</td>\n",
       "    </tr>\n",
       "    <tr>\n",
       "      <th>4</th>\n",
       "      <td>Apple</td>\n",
       "      <td>Ultrabook</td>\n",
       "      <td>Intel Core i5</td>\n",
       "      <td>8</td>\n",
       "      <td>256</td>\n",
       "      <td>Intel</td>\n",
       "      <td>mac OS</td>\n",
       "      <td>1.37</td>\n",
       "      <td>96095.8080</td>\n",
       "      <td>4.21</td>\n",
       "    </tr>\n",
       "  </tbody>\n",
       "</table>\n",
       "</div>"
      ],
      "text/plain": [
       "  Company   TypeName            Cpu  Ram  Memory    Gpu     OpSys  Weight  \\\n",
       "0   Apple  Ultrabook  Intel Core i5    8     128  Intel    mac OS    1.37   \n",
       "1   Apple  Ultrabook  Intel Core i5    8     128  Intel    mac OS    1.34   \n",
       "2      HP   Notebook  Intel Core i5    8     256  Intel  Other OS    1.86   \n",
       "3   Apple  Ultrabook  Intel Core i7   16     512    AMD    mac OS    1.83   \n",
       "4   Apple  Ultrabook  Intel Core i5    8     256  Intel    mac OS    1.37   \n",
       "\n",
       "         Price   ppi  \n",
       "0   71378.6832  4.21  \n",
       "1   47895.5232  2.98  \n",
       "2   30636.0000  1.98  \n",
       "3  135195.3360  3.64  \n",
       "4   96095.8080  4.21  "
      ]
     },
     "execution_count": 7,
     "metadata": {},
     "output_type": "execute_result"
    }
   ],
   "source": [
    "data.head()"
   ]
  },
  {
   "cell_type": "code",
   "execution_count": 10,
   "id": "84e9eefb-8688-454a-8d48-050d463bf0b7",
   "metadata": {},
   "outputs": [],
   "source": [
    "prices = np.exp(cat_model.predict(data.sample(1)))"
   ]
  },
  {
   "cell_type": "code",
   "execution_count": 9,
   "id": "c9bb77f0-8b90-4f3b-81fb-b116aa253f44",
   "metadata": {},
   "outputs": [
    {
     "data": {
      "text/plain": [
       "array([ 7.10217579, 15.87838552, 24.0584054 , 22.7007078 ,  6.06314684,\n",
       "        5.47731944,  5.57258538, 13.14727384])"
      ]
     },
     "execution_count": 9,
     "metadata": {},
     "output_type": "execute_result"
    }
   ],
   "source": [
    "cat_model.feature_importances_"
   ]
  },
  {
   "cell_type": "code",
   "execution_count": 12,
   "id": "8b3f0ae2-7174-42ca-a2c0-a0991d56d0ec",
   "metadata": {},
   "outputs": [
    {
     "data": {
      "text/plain": [
       "array([68498.42115042])"
      ]
     },
     "execution_count": 12,
     "metadata": {},
     "output_type": "execute_result"
    }
   ],
   "source": [
    "prices"
   ]
  }
 ],
 "metadata": {
  "kernelspec": {
   "display_name": "Python 3 (ipykernel)",
   "language": "python",
   "name": "python3"
  },
  "language_info": {
   "codemirror_mode": {
    "name": "ipython",
    "version": 3
   },
   "file_extension": ".py",
   "mimetype": "text/x-python",
   "name": "python",
   "nbconvert_exporter": "python",
   "pygments_lexer": "ipython3",
   "version": "3.10.4"
  }
 },
 "nbformat": 4,
 "nbformat_minor": 5
}
