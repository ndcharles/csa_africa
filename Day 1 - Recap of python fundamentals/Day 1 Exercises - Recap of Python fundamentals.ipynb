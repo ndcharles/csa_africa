{
 "cells": [
  {
   "cell_type": "markdown",
   "id": "sensitive-language",
   "metadata": {
    "slideshow": {
     "slide_type": "slide"
    }
   },
   "source": [
    "# Day 1 - Exercises: Recap of Python fundamentals\n",
    "\n",
    "In today's exercises, we'll practice the material that covered in this morning's lecture.\n",
    "\n",
    "Some problems at the end of the exercise notebook are marked as _optional_. Your progress on those problems won't be assessed: these problems have been provided as an additional challenge for people that have found the earlier problems straightforward."
   ]
  },
  {
   "cell_type": "markdown",
   "id": "commercial-nothing",
   "metadata": {},
   "source": [
    "## 1. Tennis\n",
    "\n",
    "The cost of a tennis racket is £50, while a dozen balls cost £30. How much will it cost Michael if he needs 2 rackets and 4 balls?"
   ]
  },
  {
   "cell_type": "code",
   "execution_count": 2,
   "id": "changed-floating",
   "metadata": {},
   "outputs": [
    {
     "name": "stdout",
     "output_type": "stream",
     "text": [
      "Michael would spend £110.0 for 2 rackets and 4 balls\n"
     ]
    }
   ],
   "source": [
    "cost_of_a_racket = 50\n",
    "dozen_of_ball = 30\n",
    "\n",
    "# Michael expense for 2 rackets and 4 balls\n",
    "expense = (2*cost_of_a_racket) + (4 * dozen_of_ball/12)\n",
    "print(f\"Michael would spend £{expense} for 2 rackets and 4 balls\")"
   ]
  },
  {
   "cell_type": "markdown",
   "id": "associate-station",
   "metadata": {},
   "source": [
    "## 2. Even numbers\n",
    "\n",
    "Using a `while` loop, print the first 200 even numbers."
   ]
  },
  {
   "cell_type": "code",
   "execution_count": null,
   "id": "thermal-fields",
   "metadata": {},
   "outputs": [],
   "source": [
    "num = 2\n",
    "while num <= 200:\n",
    "    if(num % 2 == 0):\n",
    "        print(\"{0}\".format(num))\n",
    "    num += 1\n",
    "print(num[:200])"
   ]
  },
  {
   "cell_type": "code",
   "execution_count": 1,
   "id": "5c0caa87-3835-4cdf-adb9-56e78897c416",
   "metadata": {},
   "outputs": [
    {
     "name": "stdout",
     "output_type": "stream",
     "text": [
      "2 4 6 8 10 12 14 16 18 20 22 24 26 28 30 32 34 36 38 40 42 44 46 48 50 52 54 56 58 60 62 64 66 68 70 72 74 76 78 80 82 84 86 88 90 92 94 96 98 100 102 104 106 108 110 112 114 116 118 120 122 124 126 128 130 132 134 136 138 140 142 144 146 148 150 152 154 156 158 160 162 164 166 168 170 172 174 176 178 180 182 184 186 188 190 192 194 196 198 200 202 204 206 208 210 212 214 216 218 220 222 224 226 228 230 232 234 236 238 240 242 244 246 248 250 252 254 256 258 260 262 264 266 268 270 272 274 276 278 280 282 284 286 288 290 292 294 296 298 300 302 304 306 308 310 312 314 316 318 320 322 324 326 328 330 332 334 336 338 340 342 344 346 348 350 352 354 356 358 360 362 364 366 368 370 372 374 376 378 380 382 384 386 388 390 392 394 396 398 400 "
     ]
    }
   ],
   "source": [
    "num = 2\n",
    "count = 0\n",
    "while count < 200:\n",
    "    print(num, end=\" \")\n",
    "    num += 2\n",
    "    count += 1\n",
    "#print(num[:200])"
   ]
  },
  {
   "cell_type": "markdown",
   "id": "improving-treasurer",
   "metadata": {},
   "source": [
    "## 2.1 Even numbers, part 2\n",
    "\n",
    "Using a `for` loop, print the first 200 even numbers."
   ]
  },
  {
   "cell_type": "code",
   "execution_count": 18,
   "id": "scenic-bangladesh",
   "metadata": {},
   "outputs": [
    {
     "name": "stdout",
     "output_type": "stream",
     "text": [
      "[2, 4, 6, 8, 10, 12, 14, 16, 18, 20, 22, 24, 26, 28, 30, 32, 34, 36, 38, 40, 42, 44, 46, 48, 50, 52, 54, 56, 58, 60, 62, 64, 66, 68, 70, 72, 74, 76, 78, 80, 82, 84, 86, 88, 90, 92, 94, 96, 98, 100, 102, 104, 106, 108, 110, 112, 114, 116, 118, 120, 122, 124, 126, 128, 130, 132, 134, 136, 138, 140, 142, 144, 146, 148, 150, 152, 154, 156, 158, 160, 162, 164, 166, 168, 170, 172, 174, 176, 178, 180, 182, 184, 186, 188, 190, 192, 194, 196, 198, 200, 202, 204, 206, 208, 210, 212, 214, 216, 218, 220, 222, 224, 226, 228, 230, 232, 234, 236, 238, 240, 242, 244, 246, 248, 250, 252, 254, 256, 258, 260, 262, 264, 266, 268, 270, 272, 274, 276, 278, 280, 282, 284, 286, 288, 290, 292, 294, 296, 298, 300, 302, 304, 306, 308, 310, 312, 314, 316, 318, 320, 322, 324, 326, 328, 330, 332, 334, 336, 338, 340, 342, 344, 346, 348, 350, 352, 354, 356, 358, 360, 362, 364, 366, 368, 370, 372, 374, 376, 378, 380, 382, 384, 386, 388, 390, 392, 394, 396, 398, 400]\n"
     ]
    }
   ],
   "source": [
    "first_two_hun = []\n",
    "for i in range (1, 1000):\n",
    "    if i % 2 == 0:\n",
    "        first_two_hun.append(i)\n",
    "print(first_two_hun[:200])"
   ]
  },
  {
   "cell_type": "code",
   "execution_count": 19,
   "id": "9558d9ab-0b25-4a7f-b160-87c7baa48ca8",
   "metadata": {},
   "outputs": [
    {
     "data": {
      "text/plain": [
       "200"
      ]
     },
     "execution_count": 19,
     "metadata": {},
     "output_type": "execute_result"
    }
   ],
   "source": [
    "len(first_two_hun[:200])"
   ]
  },
  {
   "cell_type": "markdown",
   "id": "iraqi-correction",
   "metadata": {},
   "source": [
    "## 3. Data types\n",
    "\n",
    "Given this list:\n",
    "`data_types = [\"a\", \"b\", \"c\", 2, 4, 6, 8, 10, True, True, False, 4.5, 3.87, 11.73]`\n",
    "\n",
    "Print only:\n",
    "- the strings;\n",
    "- the integers;\n",
    "- the floats;\n",
    "- the boolean values.\n",
    "\n",
    "The list of values of each type should be on a separate line."
   ]
  },
  {
   "cell_type": "code",
   "execution_count": 2,
   "id": "fifty-jimmy",
   "metadata": {},
   "outputs": [],
   "source": [
    "data_types = [\"a\", \"b\", \"c\", 2, 4, 6, 8, 10, True, True, False, 4.5, 3.87, 11.73]"
   ]
  },
  {
   "cell_type": "code",
   "execution_count": 16,
   "id": "720375cb-bd52-4235-bea3-49f560dc6563",
   "metadata": {},
   "outputs": [],
   "source": [
    "# using list comprehension"
   ]
  },
  {
   "cell_type": "code",
   "execution_count": 13,
   "id": "64f55bc0-838c-4816-83ba-f38503a7510a",
   "metadata": {},
   "outputs": [],
   "source": [
    "strings = [x for x in data_types if isinstance(x, str)]\n",
    "integers = [x for x in data_types if type(x) is int]\n",
    "floats = [x for x in data_types if isinstance(x, float)]\n",
    "boolean = [x for x in data_types if isinstance(x, bool)]"
   ]
  },
  {
   "cell_type": "code",
   "execution_count": 17,
   "id": "1533d371-798c-45ef-9481-def588fbded2",
   "metadata": {},
   "outputs": [],
   "source": [
    "# using for loops"
   ]
  },
  {
   "cell_type": "code",
   "execution_count": 19,
   "id": "5ff6d084-070b-4430-8dee-8627cf1f449f",
   "metadata": {},
   "outputs": [
    {
     "name": "stdout",
     "output_type": "stream",
     "text": [
      "The strings are ['a', 'b', 'c']\n",
      "The integers are [2, 4, 6, 8, 10]\n",
      "The floats are [4.5, 3.87, 11.73]\n",
      "The booleans are [True, True, False]\n"
     ]
    }
   ],
   "source": [
    "the_strings = []\n",
    "the_integers = []\n",
    "the_floats = []\n",
    "the_bools = []\n",
    "\n",
    "for element in data_types:\n",
    "    if type(element) == str:\n",
    "        the_strings.append(element)\n",
    "    elif type(element) == int:\n",
    "        the_integers.append(element)\n",
    "    elif type(element) == float:\n",
    "        the_floats.append(element)\n",
    "    else:\n",
    "        the_bools.append(element)\n",
    "\n",
    "print(f\"The strings are {the_strings}\")\n",
    "print(f\"The integers are {the_integers}\")\n",
    "print(f\"The floats are {the_floats}\")\n",
    "print(f\"The booleans are {the_bools}\")"
   ]
  },
  {
   "cell_type": "code",
   "execution_count": 4,
   "id": "7c8ac8a2-9571-4d39-b221-78db85447b9b",
   "metadata": {},
   "outputs": [
    {
     "name": "stdout",
     "output_type": "stream",
     "text": [
      "{\"<class 'str'>\": ['a', 'b', 'c'], \"<class 'int'>\": [2, 4, 6, 8, 10], \"<class 'bool'>\": [True, True, False], \"<class 'float'>\": [4.5, 3.87, 11.73]}\n"
     ]
    }
   ],
   "source": [
    "#using dictionaries\n",
    "all_data_types = {}\n",
    "for item in data_types:\n",
    "    if str(type(item)) not in all_data_types:\n",
    "        all_data_types[str(type(item))] = []\n",
    "    all_data_types[str(type(item))].append(item)\n",
    "print(all_data_types)"
   ]
  },
  {
   "cell_type": "markdown",
   "id": "placed-grill",
   "metadata": {},
   "source": [
    "## 4. Sorted lists\n",
    "\n",
    "   Given this list: \n",
    "   `institutions = [\"University of Glasgow\", \"University of Ibadan\", \"PWSA\", \"University of Rwanda\"]`\n",
    "                    \n",
    "Print the ordered, and reverse ordered, list of institutions."
   ]
  },
  {
   "cell_type": "code",
   "execution_count": 29,
   "id": "waiting-protection",
   "metadata": {},
   "outputs": [],
   "source": [
    "institutions = [\"University of Glasgow\", \"University of Ibadan\", \"PWSA\", \"University of Rwanda\"]"
   ]
  },
  {
   "cell_type": "code",
   "execution_count": 35,
   "id": "ab0cad4a-247a-466e-888c-89cdf0b00602",
   "metadata": {},
   "outputs": [
    {
     "name": "stdout",
     "output_type": "stream",
     "text": [
      "['PWSA', 'University of Glasgow', 'University of Ibadan', 'University of Rwanda']\n"
     ]
    }
   ],
   "source": [
    "institutions.sort()\n",
    "print(institutions)"
   ]
  },
  {
   "cell_type": "code",
   "execution_count": 37,
   "id": "5b0d5868-ee9b-4de9-b149-c437d3a52fbe",
   "metadata": {},
   "outputs": [],
   "source": [
    "institutions.sort(reverse=True)"
   ]
  },
  {
   "cell_type": "code",
   "execution_count": 38,
   "id": "bafa6fb4-d6a0-4a87-9e52-cc4ad8a36dd5",
   "metadata": {},
   "outputs": [
    {
     "name": "stdout",
     "output_type": "stream",
     "text": [
      "['University of Rwanda', 'University of Ibadan', 'University of Glasgow', 'PWSA']\n"
     ]
    }
   ],
   "source": [
    "print(institutions)"
   ]
  },
  {
   "cell_type": "markdown",
   "id": "historical-citizenship",
   "metadata": {},
   "source": [
    "## 5. Random password\n",
    "\n",
    "Write a function, `random_password`, that generates a random password with the following properties:\n",
    "- each password should have a random length, of between 7 and 12 characters.\n",
    "- each character of the password should be randomly selected from positions 33 to 126 of the ASCII table.\n",
    "\n",
    "_Hints: use the random.randint(x, y) will generate a random number between x and y (inclusive); chr(n) will give you the _n_th character of the ASCII table._"
   ]
  },
  {
   "cell_type": "code",
   "execution_count": 7,
   "id": "3fd5b66f-caf2-4236-9cca-87b287310465",
   "metadata": {},
   "outputs": [],
   "source": [
    "import random"
   ]
  },
  {
   "cell_type": "code",
   "execution_count": 5,
   "id": "b7c7537c-7079-47a6-a674-d74dacbc26ca",
   "metadata": {},
   "outputs": [],
   "source": [
    "def random_password():\n",
    "    password = \"\"\n",
    "    for i in range(random.randint(7, 12)):\n",
    "        rm = random.randint(33, 126)\n",
    "        character = chr(rm)\n",
    "        password += character\n",
    "    return password"
   ]
  },
  {
   "cell_type": "code",
   "execution_count": 8,
   "id": "d7c4b467-fea1-45d8-a235-a6c2981a8b2e",
   "metadata": {},
   "outputs": [
    {
     "data": {
      "text/plain": [
       "\"(E1V,'5d\""
      ]
     },
     "execution_count": 8,
     "metadata": {},
     "output_type": "execute_result"
    }
   ],
   "source": [
    "random_password()"
   ]
  },
  {
   "cell_type": "markdown",
   "id": "rough-mayor",
   "metadata": {
    "tags": []
   },
   "source": [
    "## 6. Good password\n",
    "\n",
    "Write a function, `good_password` that determines whether or not a given password is \"good\". A password is \"good\" if it is:\n",
    "- at least 8 characters long; and\n",
    "- contains at least one uppercase letter, one lowercase letter, and at least one digit."
   ]
  },
  {
   "cell_type": "code",
   "execution_count": 12,
   "id": "54007df8-651e-48a5-9aa6-d48d07a90515",
   "metadata": {},
   "outputs": [],
   "source": [
    "import string"
   ]
  },
  {
   "cell_type": "code",
   "execution_count": 13,
   "id": "fb87c8a0-f68a-4933-b273-2809b8583c93",
   "metadata": {},
   "outputs": [],
   "source": [
    "def good_password(password):\n",
    "    \n",
    "    upper = 0\n",
    "    lower = 0\n",
    "    digit = 0\n",
    "    \n",
    "    if len(password) >= 8:\n",
    "        for i in password:\n",
    "            if i in string.ascii_uppercase:\n",
    "                upper += 1\n",
    "            elif i in string.ascii_lowercase:\n",
    "                lower += 1\n",
    "            elif ord(i) in range(48, 58):\n",
    "                digit += 1\n",
    "        if upper > 0 and lower > 0 and digit > 0:\n",
    "            print(\"Good password\")\n",
    "        else:\n",
    "            print(\"The length is ok but missing character combinations\")\n",
    "    else:\n",
    "        print(\"The password length isn't up to 8 characters\")\n",
    "    return"
   ]
  },
  {
   "cell_type": "code",
   "execution_count": 14,
   "id": "463bee44-f97a-4b4c-823d-66f6ba4ecd88",
   "metadata": {},
   "outputs": [
    {
     "name": "stdout",
     "output_type": "stream",
     "text": [
      "c-Pq1<<1yo\n",
      "10\n",
      "Good password\n"
     ]
    }
   ],
   "source": [
    "password = random_password()\n",
    "print(password)\n",
    "print(len(password))\n",
    "good_password(password)"
   ]
  },
  {
   "cell_type": "code",
   "execution_count": 1,
   "id": "c9342503-260f-43d9-89ac-8c9137bbe9c4",
   "metadata": {},
   "outputs": [],
   "source": [
    "# this is a note\n",
    "#string.ascii_uppercase\n",
    "#string.ascii_lowercase\n",
    "#string.isdigit\n",
    "#.isupper()\n",
    "#.islower()\n",
    "#.isdigit()"
   ]
  },
  {
   "cell_type": "markdown",
   "id": "verbal-artwork",
   "metadata": {},
   "source": [
    "## 7. Words from keyboard rows\n",
    "\n",
    "Write a function that, when given a list of words, returns a list containing only those words that can be typed using letters of the alphabet that occur on a single row of the standard English \"qwerty\" keyboard. Characters in each row can be used more than once. You can assume that input strings will only contain letters of the alphabet.\n",
    "\n",
    "- row 1: qwertyuiop\n",
    "- row 2: asdfghjkl\n",
    "- row 3: zxcvbnm\n",
    "\n",
    "For example, the word \"data\" does _not_ satisfy the constraint: \"t\" is not in the same row as \"d\" and \"A\". The word \"type\" _does_ satisfy the condition, since each letter is on the same row."
   ]
  },
  {
   "cell_type": "code",
   "execution_count": 7,
   "id": "announced-tracker",
   "metadata": {},
   "outputs": [],
   "source": [
    "def qwerty_keyboard(word_list):\n",
    "    row1 = \"qwertyuiop\"\n",
    "    row2 = \"asdfghjkl\"\n",
    "    row3 = \"zxcvbnm\"\n",
    "\n",
    "    new_list = []\n",
    "\n",
    "    for word in word_list:\n",
    "        first_row = 0\n",
    "        second_row = 0\n",
    "        third_row = 0\n",
    "\n",
    "        for character in word:\n",
    "            if character in row1 and first_row < 1:\n",
    "                first_row += 1\n",
    "                #print(first_row)\n",
    "            elif character in row2 and second_row < 1:\n",
    "                second_row += 1\n",
    "                #print(second_row)\n",
    "            elif character in row3 and third_row < 1:\n",
    "                third_row += 1\n",
    "                #print(third_row)\n",
    "        if first_row + second_row + third_row == 1:\n",
    "            new_list.append(word)\n",
    "\n",
    "    return new_list"
   ]
  },
  {
   "cell_type": "code",
   "execution_count": 12,
   "id": "9677b9c5-f65c-46de-a66f-81e01eb7773c",
   "metadata": {},
   "outputs": [
    {
     "data": {
      "text/plain": [
       "['tier', 'prey', 'worry', 'type']"
      ]
     },
     "execution_count": 12,
     "metadata": {},
     "output_type": "execute_result"
    }
   ],
   "source": [
    "word_list = [\"gather\", \"tier\", \"bring\", \"prey\", \"jagaban\", \"jerry\", \"worry\", \"type\", \"data\"]\n",
    "qwerty_keyboard(word_list)"
   ]
  },
  {
   "cell_type": "code",
   "execution_count": 7,
   "id": "27687ed9-1ab1-480e-8eb9-6fbd26e3d58e",
   "metadata": {},
   "outputs": [],
   "source": [
    "rows = [\"qwertyuiop\", \"asdfghjkl\", \"zxcvbnm\"]\n",
    "\n",
    "def keyboard_word(word):\n",
    "    target_row = None\n",
    "    for row in rows:\n",
    "        if word[0] in row:\n",
    "            target_row = row\n",
    "    #print(target_row)\n",
    "    for letter in word[1:]:\n",
    "        if letter not in target_row:\n",
    "            is_keyboard_word = False\n",
    "    return is_keyboard_word"
   ]
  },
  {
   "cell_type": "code",
   "execution_count": null,
   "id": "b94cf28c-3da5-4bf7-ba79-bd53ae0e5234",
   "metadata": {},
   "outputs": [],
   "source": []
  },
  {
   "cell_type": "markdown",
   "id": "competitive-cooperative",
   "metadata": {},
   "source": [
    "## 8. Finding missing numbers\n",
    "\n",
    "Write a function that takes two lists, A and B, and that returns those numbers that do not appear in both lists. If a number occurs in one list, it must occur the same number of times in the other, otherwise the number is \"missing\". The function must return an ordered list of the missing numbers. Each missing number should only be printed once, even if it is \"missing\" multiple times.\n",
    "\n",
    "As an example, suppose `A = [2, 4, 1, 5, 6, 1, 8, 9, 10, 1, 2]` and `B = [4, 6, 1, 2, 8, 9, 1]`. The missing numbers, in order, are `[1, 2, 5, 10]`."
   ]
  },
  {
   "cell_type": "code",
   "execution_count": 14,
   "id": "catholic-penny",
   "metadata": {},
   "outputs": [
    {
     "name": "stdout",
     "output_type": "stream",
     "text": [
      "[1, 2, 5, 10]\n"
     ]
    }
   ],
   "source": [
    "first = [2, 4, 1, 5, 6, 1, 8, 9, 10, 1, 2]\n",
    "second = [4, 6, 1, 2, 8, 9, 1]\n",
    "\n",
    "list_one = {}\n",
    "list_two = {}\n",
    "result = []\n",
    "\n",
    "for number in first:\n",
    "    list_one[number] = list_one.get(number, 0) + 1\n",
    "for number in second:\n",
    "    list_two[number] = list_two.get(number, 0) + 1\n",
    "\n",
    "for number in first:\n",
    "    if number not in second or list_one[number] != list_two[number]:\n",
    "        result.append(number)\n",
    "for number in second:\n",
    "    if number not in first:\n",
    "        result.append(number)\n",
    "print(sorted(set(result)))"
   ]
  },
  {
   "cell_type": "markdown",
   "id": "israeli-authorization",
   "metadata": {},
   "source": [
    "## 9. Flattening lists\n",
    "\n",
    "Write a function, `flatten`, that \"flattens\" any list. A list is flat if it does not contain any nested list. A list that contains a nested list is flattened when the elements of any nested lists are removed, and put into a flat list.\n",
    "\n",
    "For example, if `a = [[[1, 2, 3], [4, 5, 6], [7], [8, 9], 10]]`, then `flatten(a) = [1, 2, 3, 4, 5, 6, 7, 8, 9, 10]`."
   ]
  },
  {
   "cell_type": "code",
   "execution_count": 39,
   "id": "utility-appointment",
   "metadata": {},
   "outputs": [],
   "source": [
    "mylist = [[[1, 2, 3], [4, 5, 6], [7], [8, 9], 10]]"
   ]
  },
  {
   "cell_type": "code",
   "execution_count": 44,
   "id": "9cfb0305-ff21-4792-8197-6cf6ee953162",
   "metadata": {},
   "outputs": [],
   "source": [
    "def flatten(l):\n",
    "  flat_list = []\n",
    "  for item in l:\n",
    "    if isinstance(item, list):\n",
    "      flat_list.extend(flatten(item))\n",
    "    else:\n",
    "      flat_list.append(item)\n",
    "  return flat_list"
   ]
  },
  {
   "cell_type": "code",
   "execution_count": 45,
   "id": "738734d0-e455-48ad-9f10-fba2cb3eb91c",
   "metadata": {},
   "outputs": [
    {
     "data": {
      "text/plain": [
       "[1, 2, 3, 4, 5, 6, 7, 8, 9, 10]"
      ]
     },
     "execution_count": 45,
     "metadata": {},
     "output_type": "execute_result"
    }
   ],
   "source": [
    "flatten(mylist)"
   ]
  },
  {
   "cell_type": "markdown",
   "id": "joined-classics",
   "metadata": {},
   "source": [
    "## 10. Identical lists\n",
    "\n",
    "Write a function, `identical`, that checks if two lists are _circularly identical_. A circular list is where we consider the first element as being next to the last element, forming a circle.\n",
    "\n",
    "For example, if `a = [2, 0, 5, 10, 0, 5, 7, 10]` and `b = [10, 2, 0, 5, 10, 0, 5, 7]`, then `identical(a, b)` is `True`, since these lists are circularly identical. However, if `a = [10, 10, 5, 10]` and `b = [10, 10, 10, 0]`, then `identical(a, b)` is `False`."
   ]
  },
  {
   "cell_type": "code",
   "execution_count": null,
   "id": "03a0dec3-4c60-4b52-9bdb-623931faece2",
   "metadata": {},
   "outputs": [],
   "source": []
  },
  {
   "cell_type": "code",
   "execution_count": null,
   "id": "456f2dbf-a730-4133-8a38-c43236489d8b",
   "metadata": {},
   "outputs": [],
   "source": []
  },
  {
   "cell_type": "code",
   "execution_count": null,
   "id": "9d95b6bd-2511-49b6-bc4a-1dec21d0a266",
   "metadata": {},
   "outputs": [],
   "source": []
  },
  {
   "cell_type": "code",
   "execution_count": null,
   "id": "e18b9acf-e084-4daf-829f-851cba8b3955",
   "metadata": {},
   "outputs": [],
   "source": []
  },
  {
   "cell_type": "markdown",
   "id": "third-riding",
   "metadata": {},
   "source": [
    "## Optional: 11. Pattern\n",
    "\n",
    "In this task, you are required to implement a function `detect_pattern` that determines whether two strings have the same pattern of characters. Two strings have the same pattern if they are of the same length, and, there are at least two characters in string `a` that are the same, and that at the same positions in string `b`, those characters are also equal to each other. \n",
    "\n",
    "For example, `aba` and `xyz` do not contain a pattern. Despite being the same length, we have the same characters at positions 0 and 2 in string 1, but the characters at positions 0 and 2 in string 2 are not the same.\n",
    "\n",
    "`aba` and `xyx` _do_ have a pattern: they are the same length, and the characters in 0 and 2 in string 1 are equal, _and_ the characters at those positions in string 2 are also equal."
   ]
  },
  {
   "cell_type": "code",
   "execution_count": 24,
   "id": "distributed-shield",
   "metadata": {},
   "outputs": [
    {
     "data": {
      "text/plain": [
       "\"    \\nfor i in string_a:\\n    for j in string_b:\\n        if i == j:\\n            if i not in same:\\n                same += 1\\n                same = ''.join(same)\\n\""
      ]
     },
     "execution_count": 24,
     "metadata": {},
     "output_type": "execute_result"
    }
   ],
   "source": [
    "string_a = \"edo\"\n",
    "string_b = \"eden\"\n",
    "\n",
    "count = 0\n",
    "same = []\n",
    "\n",
    "if len(string_a) == len(string_b):\n",
    "    count += 1\n",
    "\n",
    "for i in string_a:\n",
    "    for j in string_b:\n",
    "        if i == j:\n",
    "            if i not in same:\n",
    "                same += 1\n",
    "                same = ''.join(same)\n",
    "\n",
    "same length\n",
    "two same xters\n",
    "same positions\n",
    "equal to each other"
   ]
  },
  {
   "cell_type": "code",
   "execution_count": 25,
   "id": "7f7d8c00-23ca-4894-986d-d4d87d0f5d27",
   "metadata": {},
   "outputs": [
    {
     "data": {
      "text/plain": [
       "0"
      ]
     },
     "execution_count": 25,
     "metadata": {},
     "output_type": "execute_result"
    }
   ],
   "source": [
    "count"
   ]
  },
  {
   "cell_type": "code",
   "execution_count": null,
   "id": "0590f6de-51a1-49d0-a3f4-c60ea4075b58",
   "metadata": {},
   "outputs": [],
   "source": []
  },
  {
   "cell_type": "markdown",
   "id": "checked-lawrence",
   "metadata": {},
   "source": [
    "## Optional: 12. Alphabet rangoli\n",
    "\n",
    "*This one is really challenging!*\n",
    "\n",
    "Write a function `rangoli` that prints an _alphabet rangoli_ of a specified size. Rangoli is a form of Indian folk art based on creating patterns. Different sizes of alphabet rangoli are shown:\n",
    "\n",
    "```\n",
    "rangoli(3)\n",
    "\n",
    "- - - - c - - - -\n",
    "- - c - b - c - -\n",
    "c - b - a - b - c \n",
    "- - c - b - c - -\n",
    "- - - - c - - - -\n",
    "\n",
    "rangoli(4)\n",
    "\n",
    "- - - - - - d - - - - - -\n",
    "- - - - d - c - d - - - -\n",
    "- - d - c - b - c - d - -\n",
    "d - c - b - a - b - c - d\n",
    "- - d - c - b - c - d - -\n",
    "- - - - d - c - d - - - -\n",
    "- - - - - - d - - - - - -\n",
    "```\n",
    "\n",
    "Think about how you can bring this problem down. Talk to the other members of your group, and your tutor for help: solving it together is allowed!"
   ]
  },
  {
   "cell_type": "code",
   "execution_count": 46,
   "id": "better-scheduling",
   "metadata": {},
   "outputs": [],
   "source": [
    "import string\n",
    "def rangoli(n):\n",
    "    needed_xters = string.ascii_lowercase[:n]\n",
    "    middle_line = needed_xters[::-1] + needed_xters[1:]\n",
    "    middle_line = \" - \".join(middle_line)\n",
    "    \n",
    "    top_half = []\n",
    "    bottom_half = []\n",
    "    \n",
    "    for i in range(1, n):\n",
    "        this_line = needed_xters[i:]\n",
    "        this_line = this_line[::-1] + this_line[1:]\n",
    "        this_line = \" - \".join(this_line)\n",
    "        dashes = \"-\"*(i)*2\n",
    "        this_line = \" \".join(dashes) + \" \" + this_line + \" \" + \" \".join(dashes)\n",
    "        top_half = [this_line] + top_half\n",
    "        bottom_half = bottom_half + [this_line]\n",
    "        \n",
    "    for line in top_half:\n",
    "        print(line)\n",
    "    print(middle_line)\n",
    "    for line in bottom_half:\n",
    "        print(line)"
   ]
  },
  {
   "cell_type": "code",
   "execution_count": 47,
   "id": "87fd85e4-6d91-4d32-b1d6-80ebd7a0df83",
   "metadata": {},
   "outputs": [
    {
     "name": "stdout",
     "output_type": "stream",
     "text": [
      "- - - - - - d - - - - - -\n",
      "- - - - d - c - d - - - -\n",
      "- - d - c - b - c - d - -\n",
      "d - c - b - a - b - c - d\n",
      "- - d - c - b - c - d - -\n",
      "- - - - d - c - d - - - -\n",
      "- - - - - - d - - - - - -\n"
     ]
    }
   ],
   "source": [
    "rangoli(4)"
   ]
  },
  {
   "cell_type": "code",
   "execution_count": null,
   "id": "8a755d04-4d41-484b-8d88-fe7a996472ff",
   "metadata": {},
   "outputs": [],
   "source": []
  }
 ],
 "metadata": {
  "kernelspec": {
   "display_name": "Python 3 (ipykernel)",
   "language": "python",
   "name": "python3"
  },
  "language_info": {
   "codemirror_mode": {
    "name": "ipython",
    "version": 3
   },
   "file_extension": ".py",
   "mimetype": "text/x-python",
   "name": "python",
   "nbconvert_exporter": "python",
   "pygments_lexer": "ipython3",
   "version": "3.10.4"
  }
 },
 "nbformat": 4,
 "nbformat_minor": 5
}
