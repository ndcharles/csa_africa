{
 "cells": [
  {
   "cell_type": "markdown",
   "id": "ddb7eb49",
   "metadata": {
    "slideshow": {
     "slide_type": "slide"
    }
   },
   "source": [
    "### Introduction to Machine Learning\n",
    "\n",
    "##### CSAA2022"
   ]
  },
  {
   "cell_type": "markdown",
   "id": "8f5227af",
   "metadata": {
    "slideshow": {
     "slide_type": "slide"
    }
   },
   "source": [
    "#### Data (1)\n",
    "\n",
    "* ML starts with data\n",
    "* Maybe we have observations about individuals: \n",
    "    * healthy vs disease\n",
    "    * clinical data\n",
    "    * blood samples, etc\n",
    "* Maybe we are aiming to analyse images, sounds"
   ]
  },
  {
   "cell_type": "markdown",
   "id": "cce233a0",
   "metadata": {
    "slideshow": {
     "slide_type": "slide"
    }
   },
   "source": [
    "#### Data (2)\n",
    "\n",
    "* Can we find similar objects?\n",
    "* Can we group those objects? \n",
    "* What can we learn about those objects?\n",
    "* What can we predict?\n",
    "\n",
    "<img src=\"imgs/data2.png\" width=300 />"
   ]
  },
  {
   "cell_type": "markdown",
   "id": "11ffeeae",
   "metadata": {
    "slideshow": {
     "slide_type": "slide"
    }
   },
   "source": [
    "#### What are we going to learn?\n",
    "\n",
    "* Important and widely used algorithms (not exhaustive list). \n",
    "\n",
    "\n",
    "* Performance evaluation metrics: is the ML algorithm doing a better job than flipping a coin?\n",
    "\n",
    "\n",
    "* How to use ML in practice\n"
   ]
  },
  {
   "cell_type": "markdown",
   "id": "35ad81d6",
   "metadata": {
    "slideshow": {
     "slide_type": "slide"
    }
   },
   "source": [
    "#### ML around us\n",
    "\n",
    "* Amazon, Spotify, Google, etc \n",
    "    * Recommendations\n",
    "    * Search \n",
    "    * Annotations of videos, images, etc\n",
    "    * ...\n",
    "    \n",
    "    \n",
    "    \n",
    "* In computational biology\n",
    "  * Clustering and identification of rare cell types\n",
    "  * Predicting gene expression over a time course \n",
    "  * Discovering biomarkers for diseases\n",
    "  * Predicting protein function from sequence\n",
    "  * Predicting response to treatment\n",
    "  * Many more\n",
    "\n"
   ]
  },
  {
   "cell_type": "markdown",
   "id": "80258d92",
   "metadata": {
    "slideshow": {
     "slide_type": "slide"
    }
   },
   "source": [
    "### Supervised and Unsupervised Learning"
   ]
  },
  {
   "cell_type": "markdown",
   "id": "9241b6f5",
   "metadata": {
    "slideshow": {
     "slide_type": "slide"
    }
   },
   "source": [
    "### Projections\n",
    "\n",
    "* **Motivation**: Reducing the number of variables\n",
    "\n",
    "\n",
    "* Useful for visualisations and as a basis of using the reduced space as an input to other ML algorithms\n",
    "\n",
    "\n",
    "<img src=\"imgs/PCA.png\" width=300 />"
   ]
  },
  {
   "cell_type": "markdown",
   "id": "e78729be",
   "metadata": {
    "slideshow": {
     "slide_type": "slide"
    }
   },
   "source": [
    "### Regression (supervised learning)\n",
    "\n",
    "\n",
    "* **Motivation**: Learning a continuous function from a set of examples\n",
    "\n",
    "* Example: Given a time course experiment, can we predict a value\n"
   ]
  },
  {
   "cell_type": "markdown",
   "id": "4e24d7d0",
   "metadata": {
    "slideshow": {
     "slide_type": "slide"
    }
   },
   "source": [
    "### Classification (supervised learning)\n",
    "\n",
    "* **Motivation**: Separating objects of different types\n",
    "\n",
    "\n",
    "* Example: disease diagnosis, spam detection\n",
    "\n",
    "\n",
    "<img src=\"imgs/classification.png\" width=300 />"
   ]
  },
  {
   "cell_type": "markdown",
   "id": "d267a87d",
   "metadata": {
    "slideshow": {
     "slide_type": "slide"
    }
   },
   "source": [
    "### Clustering \n",
    "\n",
    "* **Motivation**: Finding groups of similar objects \n",
    "\n",
    "\n",
    "* Example: clustering different cell types based on their expression profile\n",
    "\n",
    "\n",
    "<img src=\"imgs/clustering.png\" width=300 />"
   ]
  },
  {
   "cell_type": "markdown",
   "id": "9176d58f",
   "metadata": {
    "slideshow": {
     "slide_type": "slide"
    }
   },
   "source": [
    "### Resources \n",
    "\n",
    "* Free online resources that illustrate the intuition but gloss over the maths\n",
    "\n",
    "\n",
    "* *A first course in Machine Learning* (Simon Rogers and Mark Girolami)\n",
    "\n",
    "\n",
    "* *Pattern Recognition and Machine Learning* (Christopher Bishop)"
   ]
  }
 ],
 "metadata": {
  "celltoolbar": "Slideshow",
  "kernelspec": {
   "display_name": "Python 3",
   "language": "python",
   "name": "python3"
  },
  "language_info": {
   "codemirror_mode": {
    "name": "ipython",
    "version": 3
   },
   "file_extension": ".py",
   "mimetype": "text/x-python",
   "name": "python",
   "nbconvert_exporter": "python",
   "pygments_lexer": "ipython3",
   "version": "3.6.8"
  }
 },
 "nbformat": 4,
 "nbformat_minor": 5
}
