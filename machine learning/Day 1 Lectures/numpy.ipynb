{
 "cells": [
  {
   "cell_type": "markdown",
   "id": "2d856090",
   "metadata": {
    "slideshow": {
     "slide_type": "slide"
    }
   },
   "source": [
    "### Data Science Week: Day 1\n",
    "\n",
    "### Introduction to numPy\n",
    "\n",
    "##### CSAA2022"
   ]
  },
  {
   "cell_type": "markdown",
   "id": "fd500eee",
   "metadata": {
    "slideshow": {
     "slide_type": "slide"
    }
   },
   "source": [
    "#### Day 1, Part 1: Overview\n",
    "\n",
    "* What are numpy arrays (ndarrays)\n",
    "* Why ndarrays\n",
    "* Lists vs ndarrays\n",
    "* Creating ndarrays\n",
    "* Array operations\n",
    "    * Slicing and Indexing\n",
    "    * Boolean Indexing\n",
    "    * Mathematical and statistical operations with arrays\n",
    "* Additional resources"
   ]
  },
  {
   "cell_type": "markdown",
   "id": "721bcc9c",
   "metadata": {
    "slideshow": {
     "slide_type": "slide"
    }
   },
   "source": [
    "### What is numPy? \n",
    "\n",
    "* powerful package for scientific computing\n",
    "* contains n-dimensional array object (ndarray)\n",
    "* provides support for linear algebra \n",
    "* loads of useful functions\n",
    "* integrates nicely with the scientific Python stack: matplotlib, scipy, etc"
   ]
  },
  {
   "cell_type": "markdown",
   "id": "57daac67",
   "metadata": {
    "slideshow": {
     "slide_type": "slide"
    }
   },
   "source": [
    "### Ndarrays\n",
    "\n",
    "**ndarrays** stands for n-dimensional arrays.\n",
    "\n",
    "Why would we use arrays? \n",
    "\n",
    "* Some operations are easily expressed as array operations\n",
    "* Makes linear algebra easier\n",
    "* Memory and computationally efficient \n",
    "* Deep learning: speech recognition, image recognition, etc\n"
   ]
  },
  {
   "cell_type": "markdown",
   "id": "78cbc049",
   "metadata": {
    "slideshow": {
     "slide_type": "slide"
    }
   },
   "source": [
    "#### Recap: lists in Python (1)\n",
    "\n",
    "*** Let's remind ourselves of what we can do with lists *** \n",
    "\n",
    "\n",
    "Lists can hold **different data types**. \n",
    "\n",
    "For example the simplel list contains a string, an int, and a list. "
   ]
  },
  {
   "cell_type": "code",
   "execution_count": 2,
   "id": "57d836cc",
   "metadata": {
    "slideshow": {
     "slide_type": "fragment"
    }
   },
   "outputs": [],
   "source": [
    "simplel = ['week',3,['day1','day2']]"
   ]
  },
  {
   "cell_type": "markdown",
   "id": "7a6cf86a",
   "metadata": {
    "slideshow": {
     "slide_type": "slide"
    }
   },
   "source": [
    "#### Recap: lists in Python (2)\n",
    "\n",
    "We can **update** the contents of a list. Let's say we want to update the 2nd element to be 2 instead of 3. Remember In Python we start indexing from 0."
   ]
  },
  {
   "cell_type": "code",
   "execution_count": 3,
   "id": "45bef952",
   "metadata": {
    "slideshow": {
     "slide_type": "fragment"
    }
   },
   "outputs": [
    {
     "name": "stdout",
     "output_type": "stream",
     "text": [
      "['week', 2, ['day1', 'day2']]\n"
     ]
    }
   ],
   "source": [
    "simplel [1] = 2\n",
    "print (simplel)"
   ]
  },
  {
   "cell_type": "markdown",
   "id": "82152056",
   "metadata": {
    "slideshow": {
     "slide_type": "slide"
    }
   },
   "source": [
    "#### Recap: lists in Python (3)\n",
    "\n",
    "We can always **augment a list and add more elements to it**. "
   ]
  },
  {
   "cell_type": "code",
   "execution_count": 4,
   "id": "7517b297",
   "metadata": {
    "slideshow": {
     "slide_type": "fragment"
    }
   },
   "outputs": [
    {
     "name": "stdout",
     "output_type": "stream",
     "text": [
      "['week', 2, ['day1', 'day2'], 10]\n"
     ]
    }
   ],
   "source": [
    "simplel.append(10)\n",
    "print (simplel)"
   ]
  },
  {
   "cell_type": "markdown",
   "id": "72b634d3",
   "metadata": {
    "slideshow": {
     "slide_type": "slide"
    }
   },
   "source": [
    "####  But what is an array and how is it different from what we've been using so far?\n",
    "\n",
    "They have\n",
    "\n",
    "* fixed, predefined size (or \"shape\")\n",
    "* fixed, predefined type (all elements have the same type)\n",
    "* they are inherently multidimensional\n",
    "* a 2D array must have the same number of columns in each row, for example.\n",
    "\n",
    "Arrays **are** typically mutable, we can change the values they hold after creation. So we can write new values into an existing array.\n"
   ]
  },
  {
   "cell_type": "markdown",
   "id": "e8971a33",
   "metadata": {
    "slideshow": {
     "slide_type": "slide"
    }
   },
   "source": [
    "### Numpy and ndarrays\n",
    "\n",
    "Main characterists of arrays:\n",
    "*  **dtype** : the type of elements contained in the array\n",
    "* **shape**: dimensions, shape is usually presented in the form of **rows** by **columns**"
   ]
  },
  {
   "cell_type": "markdown",
   "id": "9746a6bc",
   "metadata": {
    "slideshow": {
     "slide_type": "slide"
    }
   },
   "source": [
    "**dtype** just stands for the *d*ata *type*, and it is the data type of every element in an array (what kind of number it is). For the moment, we will assume we get floating point elements in our arrays: we'll discuss this in more detail later. Every element has the same *dtype*; it applies to the whole array.\n",
    "\n",
    "Common *dtypes* are:\n",
    "* `float64` double-precision float numbers\n",
    "* `float32` single-precision float numbers\n",
    "* `int32` 32 bit integers\n",
    "\n",
    "though there are many more."
   ]
  },
  {
   "cell_type": "markdown",
   "id": "4cf345b1",
   "metadata": {
    "slideshow": {
     "slide_type": "slide"
    }
   },
   "source": [
    "### Creating NumPy Arrays (ndarrays)\n",
    "\n",
    "* From numpy sequence objects\n",
    "* Using numpy functions\n",
    "    * np.arange(start,stop, step)\n",
    "    * np.linspace(start,stop, num=50)\n",
    "    * np.zeros(shape)\n",
    "    * np.ones(shape)\n",
    "    * np.full (shape, value)"
   ]
  },
  {
   "cell_type": "code",
   "execution_count": 5,
   "id": "6645bfaa",
   "metadata": {
    "slideshow": {
     "slide_type": "slide"
    }
   },
   "outputs": [],
   "source": [
    "# tradional way of importing numpy\n",
    "import numpy as np\n",
    "\n",
    "# Creating an ndarray from a list\n",
    "my_list1 = [ 2, 7, -1, 10]\n",
    "\n",
    "my_array1 = np.array(my_list1) #dtype = int64"
   ]
  },
  {
   "cell_type": "markdown",
   "id": "74f7766d",
   "metadata": {
    "slideshow": {
     "slide_type": "slide"
    }
   },
   "source": [
    "One of the simplest ways to create an ndarray is to convert a sequence data object (e.g. a list) to an array.\n",
    "\n",
    "* Note that the data type of the array created depends on the data type of the elements of the sequence data object. \n",
    "\n",
    "* To check the size of the array created, use the len() function or size function. **len and size will return the same for one dimensional arrays**\n",
    "\n",
    "* If the original sequence contains another sequence (e.g. list of lists), \n",
    "the sub-sequences need to be of the same length."
   ]
  },
  {
   "cell_type": "code",
   "execution_count": 6,
   "id": "61e26b06",
   "metadata": {
    "slideshow": {
     "slide_type": "fragment"
    }
   },
   "outputs": [
    {
     "name": "stdout",
     "output_type": "stream",
     "text": [
      "4\n",
      "4\n"
     ]
    }
   ],
   "source": [
    "print (len(my_array1))\n",
    "\n",
    "print (my_array1.size)"
   ]
  },
  {
   "cell_type": "markdown",
   "id": "7ca74816",
   "metadata": {
    "slideshow": {
     "slide_type": "slide"
    }
   },
   "source": [
    "Tuples can also be converted to ndarrays.\n",
    "\n",
    "The elements are **promoted** to the highest data type in the original sequence\n",
    "\n"
   ]
  },
  {
   "cell_type": "code",
   "execution_count": 7,
   "id": "1ec27368",
   "metadata": {
    "slideshow": {
     "slide_type": "fragment"
    }
   },
   "outputs": [
    {
     "name": "stdout",
     "output_type": "stream",
     "text": [
      "[2.  3.  4.3 7.9]\n",
      "float64\n"
     ]
    }
   ],
   "source": [
    "my_list2 = (2, 3, 4.3, 7.9)\n",
    "\n",
    "my_array2 = np.array(my_list2) #dtype = float64\n",
    "\n",
    "print (my_array2)\n",
    "\n",
    "print (my_array2.dtype)"
   ]
  },
  {
   "cell_type": "markdown",
   "id": "10e193bd",
   "metadata": {
    "slideshow": {
     "slide_type": "slide"
    }
   },
   "source": [
    "What about a list of lists? \n",
    "\n",
    "**multidimensional array**"
   ]
  },
  {
   "cell_type": "code",
   "execution_count": 8,
   "id": "1a45a00c",
   "metadata": {
    "slideshow": {
     "slide_type": "fragment"
    }
   },
   "outputs": [
    {
     "name": "stdout",
     "output_type": "stream",
     "text": [
      "2\n",
      "6\n"
     ]
    }
   ],
   "source": [
    "my_list3 = [[2, 4, 5], [12.2, 9, 6 + 2j]]\n",
    "\n",
    "my_array3 = np.array(my_list3) #dtype = complex128\n",
    "\n",
    "print (len(my_array3))\n",
    "print (my_array3.size)"
   ]
  },
  {
   "cell_type": "markdown",
   "id": "e1109ed7",
   "metadata": {
    "slideshow": {
     "slide_type": "slide"
    }
   },
   "source": [
    "#### Creating ndarrays (cont)\n",
    "\n",
    "In addition to converting lists to arrays, numpy provides us with a range of functions. Let's see some examples. You will also have the chance to practice some of those in the afternoon. \n",
    "\n",
    "        np.arange(start, stop, step)\n",
    "        \n",
    "        np.linspace(start, stop,num) \n",
    "        \n",
    "        np.ones(shape)\n",
    "        \n",
    "        np.zeros(shape)\n",
    "        \n",
    "        np.full(shape, value): could also be done with np.empty followed by np.fill\n"
   ]
  },
  {
   "cell_type": "code",
   "execution_count": 9,
   "id": "33de36e2",
   "metadata": {
    "slideshow": {
     "slide_type": "slide"
    }
   },
   "outputs": [
    {
     "name": "stdout",
     "output_type": "stream",
     "text": [
      "[10 12 14 16 18]\n",
      "[ 1.          1.47368421  1.94736842  2.42105263  2.89473684  3.36842105\n",
      "  3.84210526  4.31578947  4.78947368  5.26315789  5.73684211  6.21052632\n",
      "  6.68421053  7.15789474  7.63157895  8.10526316  8.57894737  9.05263158\n",
      "  9.52631579 10.        ]\n",
      "[[1. 1.]\n",
      " [1. 1.]]\n",
      "[[3.14159265 3.14159265 3.14159265]\n",
      " [3.14159265 3.14159265 3.14159265]\n",
      " [3.14159265 3.14159265 3.14159265]]\n"
     ]
    }
   ],
   "source": [
    "print (np.arange(10,20,2))\n",
    "\n",
    "print (np.linspace(1,10,20))\n",
    "\n",
    "print (np.ones((2,2)))\n",
    "       \n",
    "print (np.full((3,3),np.pi))"
   ]
  },
  {
   "cell_type": "markdown",
   "id": "45b1e693",
   "metadata": {
    "slideshow": {
     "slide_type": "slide"
    }
   },
   "source": [
    "#### Ndarrays are more efficient\n",
    "\n",
    "Why would we prefer arrays over lists?\n",
    "Let's have a look and compare how long a simple operation would take when using lists and when using arrays."
   ]
  },
  {
   "cell_type": "code",
   "execution_count": 2,
   "id": "87a29579-f9ca-4211-a9f4-3307561c3358",
   "metadata": {},
   "outputs": [],
   "source": [
    "import numpy as np"
   ]
  },
  {
   "cell_type": "code",
   "execution_count": 3,
   "id": "e62898ba",
   "metadata": {
    "slideshow": {
     "slide_type": "slide"
    }
   },
   "outputs": [],
   "source": [
    "a_array = np.arange(10000000)\n",
    "b_array = np.arange(10000000)\n",
    "\n",
    "a_list = list(a_array)\n",
    "b_list = list(b_array)\n"
   ]
  },
  {
   "cell_type": "code",
   "execution_count": 4,
   "id": "0e7c3c92",
   "metadata": {
    "slideshow": {
     "slide_type": "fragment"
    }
   },
   "outputs": [
    {
     "name": "stdout",
     "output_type": "stream",
     "text": [
      "3.49 s ± 223 ms per loop (mean ± std. dev. of 7 runs, 1 loop each)\n"
     ]
    }
   ],
   "source": [
    "%%timeit\n",
    "for i in range(len(a_list)):\n",
    "        a_list[i] += 2 * b_list[i]"
   ]
  },
  {
   "cell_type": "code",
   "execution_count": 5,
   "id": "685708a9",
   "metadata": {
    "slideshow": {
     "slide_type": "fragment"
    }
   },
   "outputs": [
    {
     "name": "stdout",
     "output_type": "stream",
     "text": [
      "49.8 ms ± 553 µs per loop (mean ± std. dev. of 7 runs, 10 loops each)\n"
     ]
    }
   ],
   "source": [
    "%%timeit\n",
    "newArray = a_array + 2*b_array"
   ]
  },
  {
   "cell_type": "markdown",
   "id": "7a6f09b2",
   "metadata": {
    "slideshow": {
     "slide_type": "slide"
    }
   },
   "source": [
    "#### Element wise operations\n",
    "\n",
    "Some further examples of avoiding for loops: \n",
    "* Addition \n",
    "* Subtration\n",
    "* Multiplication\n",
    "* Division (e.g. used to normalise data features in data analysis)"
   ]
  },
  {
   "cell_type": "code",
   "execution_count": null,
   "id": "c81eb80f",
   "metadata": {
    "slideshow": {
     "slide_type": "slide"
    }
   },
   "outputs": [],
   "source": [
    "A = np.arange(1,10)\n",
    "B = np.arange(11,20)\n",
    "\n",
    "X = A + B \n",
    "print(X)\n",
    "\n",
    "Y = 2*A + B-3\n",
    "print(Y)\n",
    "\n",
    "Z = Y / 5\n",
    "print(Z)\n",
    "\n",
    "# To perform matrix multiplication, use the '@' operator or matmul()\n",
    "Q = A @ B\n",
    "print(Q)"
   ]
  },
  {
   "cell_type": "markdown",
   "id": "87d75177",
   "metadata": {
    "slideshow": {
     "slide_type": "slide"
    }
   },
   "source": [
    "### Mutability and copying \n"
   ]
  },
  {
   "cell_type": "code",
   "execution_count": 13,
   "id": "0d678ea8",
   "metadata": {
    "slideshow": {
     "slide_type": "fragment"
    }
   },
   "outputs": [],
   "source": [
    "x = np.array([1,2,3])\n",
    "z = x\n",
    "x[0] = 0 "
   ]
  },
  {
   "cell_type": "code",
   "execution_count": 14,
   "id": "b2a71eb0",
   "metadata": {
    "slideshow": {
     "slide_type": "fragment"
    }
   },
   "outputs": [
    {
     "name": "stdout",
     "output_type": "stream",
     "text": [
      "[0 2 3]\n",
      "[0 2 3]\n"
     ]
    }
   ],
   "source": [
    "print (x)\n",
    "print (z)"
   ]
  },
  {
   "cell_type": "code",
   "execution_count": 15,
   "id": "628b6826",
   "metadata": {
    "slideshow": {
     "slide_type": "slide"
    }
   },
   "outputs": [
    {
     "name": "stdout",
     "output_type": "stream",
     "text": [
      "[0 2 3]\n",
      "[1 2 3]\n",
      "[1 2 3]\n"
     ]
    }
   ],
   "source": [
    "x = np.array([1,2,3])\n",
    "y = np.array(x) # copy\n",
    "z = x.copy()  #same as the line above\n",
    "x[0] = 0\n",
    "\n",
    "print (x)\n",
    "print (y)\n",
    "print (z)"
   ]
  },
  {
   "cell_type": "markdown",
   "id": "7765f87f",
   "metadata": {
    "slideshow": {
     "slide_type": "slide"
    }
   },
   "source": [
    "#### Indexing and slicing\n",
    "\n",
    "\n",
    "With lists we were able to: \n",
    "\n",
    "* access an element at a particular index\n",
    "* use negative indexing \n",
    "* take a slice "
   ]
  },
  {
   "cell_type": "code",
   "execution_count": null,
   "id": "d141063f",
   "metadata": {
    "slideshow": {
     "slide_type": "slide"
    }
   },
   "outputs": [],
   "source": [
    "mytest = [1,2,4,5,6,6,8]\n",
    "\n",
    "print (mytest[0])\n",
    "\n",
    "print (mytest[-2])\n",
    "\n",
    "print(mytest[2:6])"
   ]
  },
  {
   "cell_type": "markdown",
   "id": "cddcd340",
   "metadata": {
    "slideshow": {
     "slide_type": "slide"
    }
   },
   "source": [
    "#### Indexing and slicing in arrays "
   ]
  },
  {
   "cell_type": "code",
   "execution_count": null,
   "id": "0a549e84",
   "metadata": {
    "slideshow": {
     "slide_type": "fragment"
    }
   },
   "outputs": [],
   "source": [
    "array1 = np.arange(1,20)\n",
    "print (array1)\n",
    "print (array1[0]) # first element\n",
    "print(array1[-1]) # last element\n",
    "print (array1[2:6]) #slicing\n",
    "print (array1[1:15:2])"
   ]
  },
  {
   "cell_type": "markdown",
   "id": "6a7ff6e7",
   "metadata": {
    "slideshow": {
     "slide_type": "slide"
    }
   },
   "source": [
    "#### What about multidimensional arrays? "
   ]
  },
  {
   "cell_type": "code",
   "execution_count": null,
   "id": "4800bd2a",
   "metadata": {
    "slideshow": {
     "slide_type": "fragment"
    }
   },
   "outputs": [],
   "source": [
    "array2 = np.arange(1,21).reshape(4,5)\n",
    "print (array2)\n",
    "print (\"__________\")\n",
    "print (array2[0]) #first row of the array (a subarray)\n",
    "print (array2[0,1]) #first row (0 index) and second column\n",
    "#print (array2[0][1]) #equaivalent to the line above"
   ]
  },
  {
   "cell_type": "code",
   "execution_count": null,
   "id": "7400c47e",
   "metadata": {},
   "outputs": [],
   "source": [
    "print (array2[0:2,:])\n",
    "print (array2[:,0:2])"
   ]
  },
  {
   "cell_type": "code",
   "execution_count": null,
   "id": "9f24f817",
   "metadata": {
    "slideshow": {
     "slide_type": "slide"
    }
   },
   "outputs": [],
   "source": [
    "gas = np.loadtxt(\"data/gas.csv\",delimiter=',')\n",
    "np.set_printoptions(suppress=True)\n",
    "print (gas.shape)\n",
    "print (gas[:3])"
   ]
  },
  {
   "cell_type": "code",
   "execution_count": null,
   "id": "34d6cde9",
   "metadata": {
    "slideshow": {
     "slide_type": "fragment"
    }
   },
   "outputs": [],
   "source": [
    "print (gas[::4])"
   ]
  },
  {
   "cell_type": "markdown",
   "id": "096d7f95",
   "metadata": {
    "slideshow": {
     "slide_type": "slide"
    }
   },
   "source": [
    "#### Boolean indexing\n",
    "\n",
    "* For a range of tasks, we would like to select only elements of an array that meet a certain condition. \n",
    "* Boolean indexing results in a 1-D array corresponding to elements of the original array where the given\n",
    "condition evaluates to *True*.\n",
    "* For example, let's say we want to subset only the array elements greater than 5"
   ]
  },
  {
   "cell_type": "code",
   "execution_count": 17,
   "id": "795f9614",
   "metadata": {
    "slideshow": {
     "slide_type": "fragment"
    }
   },
   "outputs": [
    {
     "name": "stdout",
     "output_type": "stream",
     "text": [
      "[ 1  2  3  4  5  6  7  8  9 10 11 12 13 14]\n"
     ]
    }
   ],
   "source": [
    "booleanexample = np.arange(1,15)\n",
    "print (booleanexample)"
   ]
  },
  {
   "cell_type": "code",
   "execution_count": null,
   "id": "7ed6baa4",
   "metadata": {
    "slideshow": {
     "slide_type": "fragment"
    }
   },
   "outputs": [],
   "source": [
    "booleanexample>5 #boolean values specifying if we are meeting a condition"
   ]
  },
  {
   "cell_type": "code",
   "execution_count": null,
   "id": "cf9d0366",
   "metadata": {
    "slideshow": {
     "slide_type": "slide"
    }
   },
   "outputs": [],
   "source": [
    "# What we actually need is members of the original array that are > 5, not boolean values!\n",
    "# We obtain this by using the array to index into the original array as follows\n",
    "\n",
    "booleanexample[booleanexample>5]"
   ]
  },
  {
   "cell_type": "markdown",
   "id": "803dc815",
   "metadata": {
    "slideshow": {
     "slide_type": "slide"
    }
   },
   "source": [
    "#### Some further examples"
   ]
  },
  {
   "cell_type": "code",
   "execution_count": null,
   "id": "f656c3a0",
   "metadata": {
    "slideshow": {
     "slide_type": "fragment"
    }
   },
   "outputs": [],
   "source": [
    "booleanexample[booleanexample%2==0]\n",
    "\n",
    "my_multi_arr = np.arange(20).reshape(4,5) #reshaping to obtain a multidimensional array\n",
    "print(my_multi_arr)\n",
    "\n",
    "my_multi_arr[my_multi_arr.sum(axis=1)>20]"
   ]
  },
  {
   "cell_type": "markdown",
   "id": "23420d7c",
   "metadata": {
    "slideshow": {
     "slide_type": "slide"
    }
   },
   "source": [
    "#### Some useful functions\n",
    "\n",
    "\n",
    "* sum(axis): In the earlier example, we've used the funcion sum() on the rows, that's what axis=1 specifies. \n",
    "\n",
    "* mean(axis)\n",
    "\n",
    "* randn(shape)\n"
   ]
  },
  {
   "cell_type": "code",
   "execution_count": 16,
   "id": "7523ee3b",
   "metadata": {
    "slideshow": {
     "slide_type": "slide"
    }
   },
   "outputs": [
    {
     "name": "stdout",
     "output_type": "stream",
     "text": [
      "[[-0.26267404 -1.81399199]\n",
      " [ 1.50271015  0.62088865]\n",
      " [-0.2345111   0.27922498]\n",
      " [-1.57344788 -0.65686361]\n",
      " [-0.7295151   2.57619549]\n",
      " [-0.75209127 -0.3942504 ]\n",
      " [ 1.22801891 -0.3541633 ]\n",
      " [-0.79990598 -1.08630509]\n",
      " [-1.36365505 -0.11788272]\n",
      " [ 0.74967716  3.04068524]]\n"
     ]
    }
   ],
   "source": [
    "testarray = np.random.randn(10,2)\n",
    "print (testarray)"
   ]
  },
  {
   "cell_type": "code",
   "execution_count": null,
   "id": "0253194a",
   "metadata": {
    "slideshow": {
     "slide_type": "fragment"
    }
   },
   "outputs": [],
   "source": [
    "print (testarray.sum(axis=0))\n",
    "print (testarray.sum(axis=1))"
   ]
  }
 ],
 "metadata": {
  "celltoolbar": "Slideshow",
  "kernelspec": {
   "display_name": "Python 3 (ipykernel)",
   "language": "python",
   "name": "python3"
  },
  "language_info": {
   "codemirror_mode": {
    "name": "ipython",
    "version": 3
   },
   "file_extension": ".py",
   "mimetype": "text/x-python",
   "name": "python",
   "nbconvert_exporter": "python",
   "pygments_lexer": "ipython3",
   "version": "3.10.4"
  }
 },
 "nbformat": 4,
 "nbformat_minor": 5
}
