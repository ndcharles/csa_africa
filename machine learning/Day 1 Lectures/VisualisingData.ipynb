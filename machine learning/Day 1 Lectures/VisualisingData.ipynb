{
 "cells": [
  {
   "cell_type": "code",
   "execution_count": 1,
   "metadata": {
    "slideshow": {
     "slide_type": "skip"
    }
   },
   "outputs": [],
   "source": [
    "!jt -t grade3 -tf sourcesans -tfs 14 -fs 13 -dfs 14 -N -T\n",
    "\n",
    "#!jt -r"
   ]
  },
  {
   "cell_type": "markdown",
   "metadata": {
    "slideshow": {
     "slide_type": "slide"
    }
   },
   "source": [
    "### Introduction to Visualising Data Using Matplotlib\n",
    "\n",
    "##### CSAA2022"
   ]
  },
  {
   "cell_type": "markdown",
   "metadata": {
    "slideshow": {
     "slide_type": "slide"
    }
   },
   "source": [
    "### Visualising Your Data \n",
    "\n",
    "* \"A picture is worth a thousand words\"\n",
    "\n",
    "\n",
    "* Visualisations help us communicate results; draw conclusions; decide on policies\n",
    "\n",
    "\n",
    "\n",
    "* Sometimes easier to summarise a large dataset using a plot\n",
    "\n",
    "\n",
    "\n",
    "* Here, we focus on scientific visualisations"
   ]
  },
  {
   "cell_type": "markdown",
   "metadata": {
    "slideshow": {
     "slide_type": "slide"
    }
   },
   "source": [
    "### Some examples\n",
    "\n",
    "\n",
    "<img src=\"imgs/distributions.png\" width=200 /> <img src=\"imgs/UMAP.png\" width=200 />\n",
    " \n",
    "<img src=\"imgs/heatmap.png\" width=200 />     <img src=\"imgs/stacked_histogram.png\" width=200 /> \n",
    "\n",
    "\n",
    "\n",
    "\n",
    "\n"
   ]
  },
  {
   "cell_type": "markdown",
   "metadata": {
    "slideshow": {
     "slide_type": "slide"
    }
   },
   "source": [
    "### Why matplotlib?\n",
    "\n",
    "* Makes it easy to generated publication quality plots\n",
    "\n",
    "\n",
    "* Includes detailed documentation with examples \n",
    "\n",
    "\n",
    "* Integrates well with numpy and other scientific Python packages \n",
    "\n",
    "\n",
    "* Allows for extensions and customisation\n",
    "\n",
    "\n",
    "* There are other plotting packages available but matplotlib is often considered the standard"
   ]
  },
  {
   "cell_type": "markdown",
   "metadata": {
    "slideshow": {
     "slide_type": "slide"
    }
   },
   "source": [
    "### Anatomy of a figure\n",
    "\n",
    "<img src=\"imgs/anatomy.png\" width=400 />"
   ]
  },
  {
   "cell_type": "markdown",
   "metadata": {
    "slideshow": {
     "slide_type": "slide"
    }
   },
   "source": [
    "### Independent and dependent variables\n",
    "\n",
    "* Often in experiments, the relationship between two variables can be described as *y = f(x)* where x is the independent variable and y is the dependent variable. When plotting the data, we aim to visually describe the function, *f*\n",
    "\n",
    "\n",
    "\n",
    "* Generally, the independent variable should be on the x axis and the dependent variable goes on the y axis. For example, a scientist is investigating the effect of immune cell activator dose on the expression of different genes. In that case the dose will be plotted on the x-axis as this is the variable controlled by the scientist and the gene expression will be plotted on y as this is what is measured.\n",
    "\n",
    "\n",
    "* However, in some situations it's not as easy to tell the independent and dependent variables apart. As such, it does not matter how you plot those variables. This is unsual however and in most of the examples we are going to see you will be required to plot your data keeping in mind independent and dependent variables."
   ]
  },
  {
   "cell_type": "markdown",
   "metadata": {
    "slideshow": {
     "slide_type": "slide"
    }
   },
   "source": [
    "### 2D Plots\n",
    "\n"
   ]
  },
  {
   "cell_type": "markdown",
   "metadata": {
    "slideshow": {
     "slide_type": "slide"
    }
   },
   "source": [
    "### Scatter plot"
   ]
  },
  {
   "cell_type": "code",
   "execution_count": 1,
   "metadata": {
    "slideshow": {
     "slide_type": "fragment"
    }
   },
   "outputs": [
    {
     "data": {
      "text/plain": [
       "<Figure size 640x480 with 1 Axes>"
      ]
     },
     "metadata": {},
     "output_type": "display_data"
    }
   ],
   "source": [
    "import numpy as np #you are already familiar with that\n",
    "\n",
    "# these import matplotlib, and make it draw figures directly in the notebook\n",
    "import matplotlib as mpl\n",
    "import matplotlib.pyplot as plt\n",
    "\n",
    "x = np.array([0,30,45,60,90,180])\n",
    "y = np.sin(x)\n",
    "plt.scatter(x,y)\n",
    "plt.show()\n"
   ]
  },
  {
   "cell_type": "code",
   "execution_count": 2,
   "metadata": {
    "slideshow": {
     "slide_type": "slide"
    }
   },
   "outputs": [
    {
     "data": {
      "text/plain": [
       "<matplotlib.collections.PathCollection at 0x7f86d768bb70>"
      ]
     },
     "execution_count": 2,
     "metadata": {},
     "output_type": "execute_result"
    },
    {
     "data": {
      "image/png": "[encoded data removed]",
      "text/plain": [
       "<Figure size 432x288 with 1 Axes>"
      ]
     },
     "metadata": {},
     "output_type": "display_data"
    }
   ],
   "source": [
    "#have a look at the documentation of matplotlib for full list of marker options\n",
    "\n",
    "#in some cases you may want to plot different groups of data, using different markers\n",
    "plt.scatter(x,y,marker='<')"
   ]
  },
  {
   "cell_type": "markdown",
   "metadata": {
    "slideshow": {
     "slide_type": "slide"
    }
   },
   "source": [
    "### Bar chart"
   ]
  },
  {
   "cell_type": "code",
   "execution_count": 3,
   "metadata": {
    "slideshow": {
     "slide_type": "fragment"
    }
   },
   "outputs": [
    {
     "data": {
      "image/png": "[encoded data removed]",
      "text/plain": [
       "<Figure size 432x288 with 1 Axes>"
      ]
     },
     "metadata": {},
     "output_type": "display_data"
    }
   ],
   "source": [
    "dino = ['T-rex','V-raptor','Brachiosaurus']\n",
    "y_pos = np.arange(len(dino))\n",
    "arms = [4,7,12]\n",
    " \n",
    "plt.bar(y_pos,arms,color='green')\n",
    "\n",
    "plt.xticks(y_pos, dino)\n",
    "plt.ylabel(\"Arms length\")\n",
    "plt.title(\"Length of Dinosaur Arms\")\n",
    "plt.show()\n"
   ]
  },
  {
   "cell_type": "markdown",
   "metadata": {
    "slideshow": {
     "slide_type": "slide"
    }
   },
   "source": [
    "### Example\n",
    "\n",
    "Sometimes a single dataset can be represented in multiple ways. Our example is going to use quarterly measurements of the gas used in the UK, data recorded between 1960 and 1986. This can be considered as an example of a simple relationship, x - year and y - gas consumption.\n",
    "\n",
    "The original units are megatherms. 1 megatherm is about 30,000,000 kWh.\n",
    "\n"
   ]
  },
  {
   "cell_type": "code",
   "execution_count": 4,
   "metadata": {
    "slideshow": {
     "slide_type": "fragment"
    }
   },
   "outputs": [
    {
     "name": "stdout",
     "output_type": "stream",
     "text": [
      "[[   1.   1960.    160.1 ]\n",
      " [   2.   1960.25  129.7 ]\n",
      " [   3.   1960.5    84.8 ]\n",
      " [   4.   1960.75  120.1 ]\n",
      " [   5.   1961.    160.1 ]\n",
      " [   6.   1961.25  124.9 ]\n",
      " [   7.   1961.5    84.8 ]\n",
      " [   8.   1961.75  116.9 ]\n",
      " [   9.   1962.    169.7 ]\n",
      " [  10.   1962.25  140.9 ]]\n"
     ]
    }
   ],
   "source": [
    "gas = np.loadtxt(\"data/gas.csv\",delimiter=',') #this line should be familiar from our numpy slides\n",
    "np.set_printoptions(suppress=True)\n",
    "print(gas[:10, :]) "
   ]
  },
  {
   "cell_type": "code",
   "execution_count": 5,
   "metadata": {},
   "outputs": [
    {
     "data": {
      "text/plain": [
       "(108, 3)"
      ]
     },
     "execution_count": 5,
     "metadata": {},
     "output_type": "execute_result"
    }
   ],
   "source": [
    "gas.shape"
   ]
  },
  {
   "cell_type": "code",
   "execution_count": 6,
   "metadata": {},
   "outputs": [
    {
     "data": {
      "text/plain": [
       "array([ 160.1,  129.7,   84.8,  120.1,  160.1,  124.9,   84.8,  116.9,\n",
       "        169.7,  140.9,   89.7,  123.3,  187.3,  144.1,   92.9,  120.1,\n",
       "        176.1,  147.3,   89.7,  123.3,  185.7,  155.3,   99.3,  131.3,\n",
       "        200.1,  161.7,  102.5,  136.1,  204.9,  176.1,  112.1,  140.9,\n",
       "        227.3,  195.3,  115.3,  142.5,  244.9,  214.5,  118.5,  153.7,\n",
       "        244.9,  216.1,  188.9,  142.5,  301. ,  196.9,  136.1,  267.3,\n",
       "        317. ,  230.5,  152.1,  336.2,  371.4,  240.1,  158.5,  355.4,\n",
       "        449.9,  286.6,  179.3,  403.4,  491.5,  321.8,  177.7,  409.8,\n",
       "        593.9,  329.8,  176.1,  483.5,  584.3,  395.4,  187.3,  485.1,\n",
       "        669.2,  421. ,  216.1,  509.1,  827.7,  467.5,  209.7,  542.7,\n",
       "        840.5,  414.6,  217.7,  670.8,  848.5,  437. ,  209.7,  701.2,\n",
       "        925.3,  443.4,  214.5,  683.6,  917.3,  515.5,  224.1,  694.8,\n",
       "        989.4,  477.1,  233.7,  730. , 1087. ,  534.7,  281.8,  787.6,\n",
       "       1163.9,  613.1,  347.4,  782.8])"
      ]
     },
     "execution_count": 6,
     "metadata": {},
     "output_type": "execute_result"
    }
   ],
   "source": [
    "gas[:,2]"
   ]
  },
  {
   "cell_type": "markdown",
   "metadata": {
    "slideshow": {
     "slide_type": "slide"
    }
   },
   "source": [
    "#### Starting off with a simple visualisation"
   ]
  },
  {
   "cell_type": "code",
   "execution_count": 7,
   "metadata": {
    "slideshow": {
     "slide_type": "fragment"
    }
   },
   "outputs": [
    {
     "data": {
      "text/plain": [
       "Text(0.5, 1.0, 'UK Gas quarterly gas usage 1960-1986')"
      ]
     },
     "execution_count": 7,
     "metadata": {},
     "output_type": "execute_result"
    },
    {
     "data": {
      "image/png": "[encoded data removed]",
      "text/plain": [
       "<Figure size 432x288 with 1 Axes>"
      ]
     },
     "metadata": {},
     "output_type": "display_data"
    }
   ],
   "source": [
    "fig = plt.figure() # create a new figure\n",
    "\n",
    "ax = fig.add_subplot(1, 1, 1) #create a new subplot, returning a set of axes\n",
    "# note: the call is formatted fig.add_subplot(rows, columns, index)\n",
    "ax.plot(gas[:, 1], gas[:, 2], \"-o\")\n",
    "ax.set_ylabel(\"Gas consumed (megatherms)\")\n",
    "ax.grid(\"on\")\n",
    "ax.set_ylim(0, 1500)\n",
    "ax.set_title(\"UK Gas quarterly gas usage 1960-1986\")"
   ]
  },
  {
   "cell_type": "markdown",
   "metadata": {
    "slideshow": {
     "slide_type": "slide"
    }
   },
   "source": [
    "#### Layered plot split by season"
   ]
  },
  {
   "cell_type": "code",
   "execution_count": 8,
   "metadata": {
    "slideshow": {
     "slide_type": "slide"
    }
   },
   "outputs": [],
   "source": [
    "q1 = gas[::4, :]\n",
    "q2 = gas[1::4, :]\n",
    "q3 = gas[2::4, :]\n",
    "q4 = gas[3::4, :]"
   ]
  },
  {
   "cell_type": "code",
   "execution_count": 9,
   "metadata": {
    "slideshow": {
     "slide_type": "slide"
    }
   },
   "outputs": [
    {
     "data": {
      "text/plain": [
       "<matplotlib.legend.Legend at 0x7f86d7b40a58>"
      ]
     },
     "execution_count": 9,
     "metadata": {},
     "output_type": "execute_result"
    },
    {
     "data": {
      "image/png": "[encoded data removed]",
      "text/plain": [
       "<Figure size 252x252 with 1 Axes>"
      ]
     },
     "metadata": {},
     "output_type": "display_data"
    }
   ],
   "source": [
    "fig = plt.figure(figsize=(3.5,3.5))\n",
    "ax = fig.add_subplot(1,1,1)\n",
    "ax.plot(q1[:,1], q1[:,2], label='Winter', marker='d')\n",
    "ax.plot(q1[:,1], q2[:,2], label='Spring', marker='o')\n",
    "ax.plot(q1[:,1], q3[:,2], label='Summer', marker='*')\n",
    "ax.plot(q1[:,1], q4[:,2], label='Autumn', marker='^')\n",
    "ax.set_xlabel('Date (years AD)')\n",
    "ax.set_ylabel('Gas consumed (megatherms)')\n",
    "ax.grid(\"on\")\n",
    "ax.set_ylim(0,1500)\n",
    "ax.set_title(\"UK Gas quarterly gas usage 1960-1986\")\n",
    "ax.legend()"
   ]
  },
  {
   "cell_type": "markdown",
   "metadata": {
    "slideshow": {
     "slide_type": "slide"
    }
   },
   "source": [
    "#### Faceted plot"
   ]
  },
  {
   "cell_type": "code",
   "execution_count": 10,
   "metadata": {
    "slideshow": {
     "slide_type": "slide"
    }
   },
   "outputs": [
    {
     "data": {
      "image/png": "[encoded data removed]",
      "text/plain": [
       "<Figure size 288x288 with 4 Axes>"
      ]
     },
     "metadata": {},
     "output_type": "display_data"
    }
   ],
   "source": [
    "fig = plt.figure(figsize=(4, 4))\n",
    "for ix, quarter, season in zip(\n",
    "    [1, 2, 3, 4], [q1, q2, q3, q4], [\"Winter\", \"Spring\", \"Summer\", \"Autumn\"]\n",
    "):\n",
    "    ax = fig.add_subplot(2, 2, ix)\n",
    "    ax.plot(quarter[:, 1], quarter[:, 2], marker=\".\")\n",
    "    ax.set_xlabel(\"Date\")\n",
    "    ax.set_ylabel(\"megatherms\")\n",
    "    ax.grid(\"on\")\n",
    "    ax.set_title(season)\n",
    "    ax.set_ylim(0, 1200)\n",
    "fig.tight_layout()  # fix overlapping plots!"
   ]
  },
  {
   "cell_type": "markdown",
   "metadata": {
    "slideshow": {
     "slide_type": "slide"
    }
   },
   "source": [
    "#### Adding in some stats"
   ]
  },
  {
   "cell_type": "code",
   "execution_count": 11,
   "metadata": {
    "slideshow": {
     "slide_type": "slide"
    }
   },
   "outputs": [
    {
     "data": {
      "text/plain": [
       "Text(0.5, 1.0, 'UK Gas quarterly gas usage 1960-1986')"
      ]
     },
     "execution_count": 11,
     "metadata": {},
     "output_type": "execute_result"
    },
    {
     "data": {
      "image/png": "[encoded data removed]",
      "text/plain": [
       "<Figure size 288x288 with 1 Axes>"
      ]
     },
     "metadata": {},
     "output_type": "display_data"
    }
   ],
   "source": [
    "fig = plt.figure(figsize=(4, 4))\n",
    "ax = fig.add_subplot(1, 1, 1)\n",
    "ax.boxplot(\n",
    "    [q1[:, 2], q2[:, 2], q3[:, 2], q4[:, 2]],labels=[\"Winter\", \"Spring\", \"Summer\", \"Autumn\"],\n",
    "    notch=True, bootstrap=1000,\n",
    ")\n",
    "ax.set_xlabel(\"Quarter\")\n",
    "ax.set_ylabel(\"Gas consumed (megatherms)\")\n",
    "ax.set_ylim(0, 1500)\n",
    "ax.set_title(\"UK Gas quarterly gas usage 1960-1986\")\n"
   ]
  },
  {
   "cell_type": "markdown",
   "metadata": {
    "slideshow": {
     "slide_type": "slide"
    }
   },
   "source": [
    "### Box plots\n",
    "* Box plots rely on multiple computed statistics of the data\n",
    "* Useful for comparing distributions: e.g. between patient groups, healthy vs disease\n",
    "* **Whiskers**: represent the 2.5% and 98.5% percentiles (i.e. span 95% of the range).\n",
    "* The **interquartile range** (the range between the 75% and 25% percentiles of the dataset) shown as box\n",
    "\n",
    "<img src=\"imgs/boxplot.png\" width=400 />"
   ]
  },
  {
   "cell_type": "markdown",
   "metadata": {
    "slideshow": {
     "slide_type": "slide"
    }
   },
   "source": [
    "### Violin plots"
   ]
  },
  {
   "cell_type": "markdown",
   "metadata": {},
   "source": [
    "* Violin plots are an extension of box plots. \n",
    "\n",
    "* The distribution of the data can be seen more precisely. \n",
    "\n",
    "* Plotting of the full distribution with a smoothing technique. \n",
    "\n",
    "<img src=\"imgs/violin_box.png\" width=400 />"
   ]
  },
  {
   "cell_type": "markdown",
   "metadata": {
    "slideshow": {
     "slide_type": "slide"
    }
   },
   "source": [
    "### Speaking of distributions"
   ]
  },
  {
   "cell_type": "markdown",
   "metadata": {
    "slideshow": {
     "slide_type": "slide"
    }
   },
   "source": [
    "#### Histograms\n",
    "\n",
    "* Might look like bar charts BUT no space between the bars we are **binning** continuous data\n",
    "* Shows count of values within a range\n",
    "* Useful for visualising the distribution of the data\n",
    "* Important to ensure we are not selecting too many or to few bins\n",
    "\n",
    "\n",
    "<img src=\"imgs/stacked_histogram.png\" width=400 />\n"
   ]
  },
  {
   "cell_type": "markdown",
   "metadata": {
    "slideshow": {
     "slide_type": "slide"
    }
   },
   "source": [
    "### Some other statistics to compute"
   ]
  },
  {
   "cell_type": "code",
   "execution_count": 12,
   "metadata": {
    "slideshow": {
     "slide_type": "fragment"
    }
   },
   "outputs": [
    {
     "data": {
      "text/plain": [
       "<matplotlib.collections.PolyCollection at 0x7f86d7f63d30>"
      ]
     },
     "execution_count": 12,
     "metadata": {},
     "output_type": "execute_result"
    },
    {
     "data": {
      "image/png": "[encoded data removed]",
      "text/plain": [
       "<Figure size 648x432 with 1 Axes>"
      ]
     },
     "metadata": {},
     "output_type": "display_data"
    }
   ],
   "source": [
    "#could also do the same with mix and max or confidence intervals\n",
    "quarters = np.stack([q1,q2,q3,q4])\n",
    "mean_gas = np.mean(quarters[:,:,2], axis=0)\n",
    "std_gas = np.std(quarters[:,:,2], axis=0)\n",
    "\n",
    "fig = plt.figure(figsize=(9,6))\n",
    "ax = fig.add_subplot(3,1,1)\n",
    "ax.set_title(\"Mean and std. dev\")\n",
    "ax.set_ylabel(\"Gas usage (megatherms)\")\n",
    "ax.plot(quarters[0,:,1], mean_gas)\n",
    "ax.fill_between(quarters[0,:,1], mean_gas+std_gas, mean_gas-std_gas, alpha=0.2)\n",
    "             "
   ]
  },
  {
   "cell_type": "markdown",
   "metadata": {
    "slideshow": {
     "slide_type": "slide"
    }
   },
   "source": [
    "### Dealing with uncertainty\n",
    "\n",
    "* Data are often collected from measurements with observation error, so the values obtained are corrupted versions of the true values. \n",
    "\n",
    "* Uncertainty of model parameters \n",
    "\n",
    "* As scientists we are meant to communicate those appropriately and be honest about them! \n",
    "\n",
    "* In the earlier examples, we've looked at standard deviation or interquartile range and how they can be used to show summaries of a collection of data."
   ]
  },
  {
   "cell_type": "markdown",
   "metadata": {
    "slideshow": {
     "slide_type": "slide"
    }
   },
   "source": [
    "### Dealing with uncertainty: Error bars\n",
    "\n",
    "There are several choices for the error bars:\n",
    "    \n",
    "* the standard deviation\n",
    "* the standard error\n",
    "* confidence intervals (e.g. 95%)\n",
    "* nonparametric intervals such as interquartile ranges.\n",
    "\n",
    "Make sure you communicate the choice of error bar to the reader: e.g include it in the capture of the figure or the legend. \n",
    "\n",
    "<img src=\"imgs/error_bars.png\" width=300 />\n",
    "\n"
   ]
  },
  {
   "cell_type": "markdown",
   "metadata": {
    "slideshow": {
     "slide_type": "slide"
    }
   },
   "source": [
    "### Some thoughts\n",
    "\n",
    "* Think about the purpose of your plot\n",
    "\n",
    "* Often there are multiple suitable ways of representing your data (e.g think about our gas use in the UK over the years example)\n",
    "\n",
    "* Be careful of variables you place on x and y\n",
    "\n",
    "* Don't forger to include titles, labels, legends, caption, etc\n",
    "\n",
    "* Think about uncertainty and how you communicate it across in your visualisations"
   ]
  }
 ],
 "metadata": {
  "celltoolbar": "Slideshow",
  "kernelspec": {
   "display_name": "Python 3 (ipykernel)",
   "language": "python",
   "name": "python3"
  },
  "language_info": {
   "codemirror_mode": {
    "name": "ipython",
    "version": 3
   },
   "file_extension": ".py",
   "mimetype": "text/x-python",
   "name": "python",
   "nbconvert_exporter": "python",
   "pygments_lexer": "ipython3",
   "version": "3.10.4"
  }
 },
 "nbformat": 4,
 "nbformat_minor": 4
}
