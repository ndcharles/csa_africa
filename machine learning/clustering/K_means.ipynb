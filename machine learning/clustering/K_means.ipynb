{
 "cells": [
  {
   "cell_type": "markdown",
   "metadata": {},
   "source": [
    "### Implementing K-means"
   ]
  },
  {
   "cell_type": "code",
   "execution_count": 16,
   "metadata": {},
   "outputs": [],
   "source": [
    "import numpy as np\n",
    "import pylab as plt\n",
    "from scipy.spatial.distance import cdist \n",
    "%matplotlib inline"
   ]
  },
  {
   "cell_type": "markdown",
   "metadata": {},
   "source": [
    "Geneate some data with three clear clusters"
   ]
  },
  {
   "cell_type": "code",
   "execution_count": 2,
   "metadata": {},
   "outputs": [],
   "source": [
    "cluster_means = [[0,0],[4,4],[-4,4]]\n",
    "n_data = 20 # Number in each cluster\n",
    "x = np.empty(shape=(0,2))\n",
    "for i,m in enumerate(cluster_means):\n",
    "    x = np.vstack((x,np.random.randn(n_data,2) + np.tile(m,(n_data,1))))"
   ]
  },
  {
   "cell_type": "markdown",
   "metadata": {},
   "source": [
    "Plot the data"
   ]
  },
  {
   "cell_type": "code",
   "execution_count": 4,
   "metadata": {},
   "outputs": [
    {
     "data": {
      "text/plain": [
       "[<matplotlib.lines.Line2D at 0x223e318abc0>]"
      ]
     },
     "execution_count": 4,
     "metadata": {},
     "output_type": "execute_result"
    },
    {
     "data": {
      "image/png": "[encoded data removed]",
      "text/plain": [
       "<Figure size 432x288 with 1 Axes>"
      ]
     },
     "metadata": {
      "needs_background": "light"
     },
     "output_type": "display_data"
    }
   ],
   "source": [
    "plt.figure()\n",
    "plt.plot(x[:,0],x[:,1],'ro')"
   ]
  },
  {
   "cell_type": "markdown",
   "metadata": {},
   "source": [
    "Initialise the things needed for k-means"
   ]
  },
  {
   "cell_type": "code",
   "execution_count": 243,
   "metadata": {},
   "outputs": [],
   "source": [
    "# set K\n",
    "K = 3\n",
    "# Initialise the means\n",
    "mu = np.random.randn(K,2)\n",
    "# Set maximum number of iterations\n",
    "max_its = 20\n",
    "N = len(x)\n",
    "z = np.zeros((N,K))\n",
    "oldz = np.ones((N,K)) # just to make sure it is different from z in iteration 1\n",
    "\n",
    "\n",
    "#TODO: initialise some colours, so it's easier to see what the iterations are doing "
   ]
  },
  {
   "cell_type": "markdown",
   "metadata": {},
   "source": [
    "Run the algorithm - plotting the state at each iteration"
   ]
  },
  {
   "cell_type": "code",
   "execution_count": 73,
   "metadata": {},
   "outputs": [],
   "source": [
    "def kmeans(x, k, n_iterations):\n",
    "    mu = np.random.randn(k, 2) #step 1  generate centroids\n",
    "    distances = cdist(x, mu,'euclidean') #Step 2 generate distances between each points to the mean\n",
    "    points = np.array([np.argmin(i) for i in distances]) # get the least distances\n",
    "    for _ in range(n_iterations):\n",
    "        centroids = []\n",
    "        for idx in range(k):\n",
    "            c_means = x[points==idx].mean(axis=0) \n",
    "            centroids.append(c_means)\n",
    "\n",
    "        centroids = np.vstack(centroids) #stack centroids vertically\n",
    "\n",
    "        distances = cdist(x, mu,'euclidean')\n",
    "        points = np.array([np.argmin(i) for i in distances])\n",
    "        \n",
    "    return points"
   ]
  },
  {
   "cell_type": "code",
   "execution_count": 224,
   "metadata": {},
   "outputs": [
    {
     "name": "stderr",
     "output_type": "stream",
     "text": [
      "C:\\Users\\user\\AppData\\Local\\Temp\\ipykernel_17508\\34294800.py:8: RuntimeWarning: Mean of empty slice.\n",
      "  c_means = x[points==idx].mean(axis=0)\n"
     ]
    }
   ],
   "source": [
    "for i in range(100):\n",
    "    n_points = []\n",
    "    n_centroids = []\n",
    "    label = kmeans(x, K, i)\n",
    "    n_points.append(points)\n",
    "    n_centroids.append(centroids)"
   ]
  },
  {
   "cell_type": "code",
   "execution_count": 244,
   "metadata": {},
   "outputs": [
    {
     "data": {
      "text/plain": [
       "array([[ 2.92891974,  2.78394393],\n",
       "       [-2.6033639 ,  4.11007651],\n",
       "       [ 0.17823791, -0.72563813]])"
      ]
     },
     "execution_count": 244,
     "metadata": {},
     "output_type": "execute_result"
    }
   ],
   "source": [
    "centroids"
   ]
  },
  {
   "cell_type": "code",
   "execution_count": 242,
   "metadata": {},
   "outputs": [
    {
     "data": {
      "image/png": "[encoded data removed]",
      "text/plain": [
       "<Figure size 432x288 with 1 Axes>"
      ]
     },
     "metadata": {
      "needs_background": "light"
     },
     "output_type": "display_data"
    }
   ],
   "source": [
    "label = kmeans(x, K, 100)\n",
    "u_labels = np.unique(label)\n",
    "for i in u_labels:\n",
    "    plt.scatter(x[label == i , 0] , x[label == i , 1] , label = i)\n",
    "plt.legend()\n",
    "plt.show()"
   ]
  },
  {
   "cell_type": "code",
   "execution_count": null,
   "metadata": {},
   "outputs": [],
   "source": [
    "(trainX - testX[0, :])**2).sum(axis=1)"
   ]
  }
 ],
 "metadata": {
  "kernelspec": {
   "display_name": "Python 3 (ipykernel)",
   "language": "python",
   "name": "python3"
  },
  "language_info": {
   "codemirror_mode": {
    "name": "ipython",
    "version": 3
   },
   "file_extension": ".py",
   "mimetype": "text/x-python",
   "name": "python",
   "nbconvert_exporter": "python",
   "pygments_lexer": "ipython3",
   "version": "3.10.4"
  }
 },
 "nbformat": 4,
 "nbformat_minor": 4
}
