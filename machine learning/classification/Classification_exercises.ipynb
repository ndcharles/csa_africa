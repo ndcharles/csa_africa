{
 "cells": [
  {
   "cell_type": "markdown",
   "id": "b4e62400",
   "metadata": {},
   "source": [
    "# Exercises: Classification\n",
    "---\n",
    "<br>\n",
    "\n",
    "\n",
    "Today, we are going to practice what we have learned about classification. The tasks are split into two categories: *implementation of a classification algorithm from scratch* and *application of classifiers to a dataset and evaluating performance using sklearn*. \n",
    "\n",
    "While we haven't covered how to use ML libraries in the lectures, we are hoping that you can put everything you've learned from using numpy and matplotlib to practice when it comes to reading documentation. As usual, your friendly volunteers will be available for questions. "
   ]
  },
  {
   "cell_type": "markdown",
   "id": "d6597b01",
   "metadata": {},
   "source": [
    "#### Task 1: Implementing KNN from scratch. \n",
    "\n",
    "**Aims**:\n",
    "1. Based on the way KNN works as described in the lectures, implement your own KNN. \n",
    "2. Compute accuracy for a particular K value. Again, accuracy is an easy to compute metric. Do that from scratch.\n",
    "3. What's the effect of K on the accuracy? Plot that. \n",
    "\n",
    "\n",
    "The cells below read the data you are going to use for training and testing.\n",
    "\n",
    "    "
   ]
  },
  {
   "cell_type": "code",
   "execution_count": 2,
   "id": "b3f6ebb3",
   "metadata": {},
   "outputs": [],
   "source": [
    "import numpy as np\n",
    "import matplotlib.pyplot as plt\n",
    "%matplotlib inline\n",
    "\n",
    "traindata = np.loadtxt('classification_data/trainx.csv',delimiter=',')\n",
    "testdata = np.loadtxt('classification_data/testx.csv',delimiter=',')\n",
    "trainX = traindata[:,:2]\n",
    "traint = traindata[:,2]\n",
    "testX = testdata[:,:2]\n",
    "testt = testdata[:,2]"
   ]
  },
  {
   "cell_type": "code",
   "execution_count": 3,
   "id": "3e690138",
   "metadata": {},
   "outputs": [
    {
     "data": {
      "image/png": "[encoded data removed]",
      "text/plain": [
       "<Figure size 432x288 with 1 Axes>"
      ]
     },
     "metadata": {
      "needs_background": "light"
     },
     "output_type": "display_data"
    }
   ],
   "source": [
    "classes = {0:'ro',1:'bo'}\n",
    "plt.figure()\n",
    "for cl in classes:\n",
    "    pos = np.where(traint == cl)[0]\n",
    "    plt.plot(trainX[pos,0],trainX[pos,1],classes[cl])"
   ]
  },
  {
   "cell_type": "markdown",
   "id": "463acdfc",
   "metadata": {},
   "source": [
    "#### Some hints: \n",
    "\n",
    "1. Might be easier to write a knn function for a single test example (a row in the testX)\n",
    "2. Computing distances (you can do this like this to obtain a single numeric distance between a train point and a test point):  (trainPoints - testpoint)**2.sum(axis=1)\n",
    "3. In the spirit of writing good functions, think of what parameters you need to pass to your knn function\n",
    "4. For your accuracy implementation: remember that accuracy is correct predictions/total\n",
    "5. Try a different range of K: e.g from 2 to 100\n"
   ]
  },
  {
   "cell_type": "code",
   "execution_count": 98,
   "id": "ad751fe4-7cc8-4820-ab5e-4377b6064ac1",
   "metadata": {},
   "outputs": [],
   "source": [
    "#getting k-values\n",
    "k = 5"
   ]
  },
  {
   "cell_type": "code",
   "execution_count": 92,
   "id": "19654879-9422-46eb-86f0-77b63cf013c4",
   "metadata": {},
   "outputs": [],
   "source": [
    "# calculate distance between points\n",
    "distances = ((trainX - testX[0, :])**2).sum(axis=1)"
   ]
  },
  {
   "cell_type": "code",
   "execution_count": 93,
   "id": "e9264463-7c64-494d-bfaa-28c4c5415969",
   "metadata": {},
   "outputs": [],
   "source": [
    "#zip the distances to the traint\n",
    "neighbours = list(zip(traint, distances))"
   ]
  },
  {
   "cell_type": "code",
   "execution_count": 96,
   "id": "ca765ef9-0821-4f4c-83b9-a6d7e3b1bc72",
   "metadata": {},
   "outputs": [],
   "source": [
    "neighbours = sorted(neighbours, key=lambda x: x[1])"
   ]
  },
  {
   "cell_type": "code",
   "execution_count": 118,
   "id": "a47111a2-e59e-4b0d-88b3-b8ac2f4613a5",
   "metadata": {},
   "outputs": [],
   "source": [
    "from scipy.stats import mode"
   ]
  },
  {
   "cell_type": "code",
   "execution_count": 100,
   "id": "d1e7e36e-04a2-4744-9bf6-b854aaa600b1",
   "metadata": {},
   "outputs": [],
   "source": [
    "#neighbours_list = neighbours[:5]"
   ]
  },
  {
   "cell_type": "code",
   "execution_count": 117,
   "id": "b3661c9d-0489-4fa1-83d9-b6fc46214f50",
   "metadata": {},
   "outputs": [],
   "source": [
    "#labels = traint[np.s_[:neighbours_list.index()]]"
   ]
  },
  {
   "cell_type": "code",
   "execution_count": 122,
   "id": "a08267a9-354f-4cf6-80fb-4fc39c05c4b3",
   "metadata": {},
   "outputs": [
    {
     "data": {
      "text/plain": [
       "[array([0.02219949]),\n",
       " array([0.02219949]),\n",
       " array([0.02219949]),\n",
       " array([0.02219949]),\n",
       " array([0.02219949])]"
      ]
     },
     "execution_count": 122,
     "metadata": {},
     "output_type": "execute_result"
    }
   ],
   "source": [
    "y_pred = []\n",
    "nebor = []\n",
    "for i in range(5):\n",
    "    nebor.append(neighbours[i][1])  # appending K nearest neighbors\n",
    "    y_pred.append(mode(nebor)[0])  # For Classification\n",
    "\n",
    "y_pred"
   ]
  },
  {
   "cell_type": "code",
   "execution_count": 123,
   "id": "e2654f74-5de4-47b7-b3e0-bcd7915d7dfb",
   "metadata": {},
   "outputs": [
    {
     "data": {
      "text/plain": [
       "[0.022199489985263873,\n",
       " 0.023594228111560187,\n",
       " 0.03819232217923667,\n",
       " 0.08918604418798515,\n",
       " 0.24309665588353524]"
      ]
     },
     "execution_count": 123,
     "metadata": {},
     "output_type": "execute_result"
    }
   ],
   "source": [
    "nebor"
   ]
  },
  {
   "cell_type": "code",
   "execution_count": 41,
   "id": "8f09b939",
   "metadata": {},
   "outputs": [],
   "source": [
    "#dist_ance = []\n",
    "#for i in range(0, len(trainX)):\n",
    "#    dist_ance.append(((trainX[i] - testX[i,:])**2).sum())\n",
    "#    #dist_ance += distance"
   ]
  },
  {
   "cell_type": "markdown",
   "id": "5b80046b-4842-4400-86e1-b63a7c6e09ab",
   "metadata": {},
   "source": [
    "### KNN using Sklearn"
   ]
  },
  {
   "cell_type": "code",
   "execution_count": 136,
   "id": "dddeb333-8e53-4d7b-bfc5-199372a7ebe1",
   "metadata": {},
   "outputs": [],
   "source": [
    "import numpy as np\n",
    "import matplotlib.pyplot as plt\n",
    "from sklearn.neighbors import KNeighborsClassifier\n",
    "from sklearn.metrics import accuracy_score\n",
    "%matplotlib inline"
   ]
  },
  {
   "cell_type": "code",
   "execution_count": 133,
   "id": "4040ea05-2834-4d45-9e69-db134df2dff0",
   "metadata": {},
   "outputs": [],
   "source": [
    "traindata = np.loadtxt('classification_data/trainx.csv',delimiter=',')\n",
    "testdata = np.loadtxt('classification_data/testx.csv',delimiter=',')\n",
    "trainX = traindata[:,:2]\n",
    "traint = traindata[:,2]\n",
    "testX = testdata[:,:2]\n",
    "testt = testdata[:,2]"
   ]
  },
  {
   "cell_type": "code",
   "execution_count": 204,
   "id": "dac834d5-9f60-41a6-89dd-bfdba3b9fc2a",
   "metadata": {},
   "outputs": [
    {
     "data": {
      "text/plain": [
       "150"
      ]
     },
     "execution_count": 204,
     "metadata": {},
     "output_type": "execute_result"
    }
   ],
   "source": [
    "np.count_nonzero(traindata[traindata[:,2] == 1])"
   ]
  },
  {
   "cell_type": "code",
   "execution_count": 205,
   "id": "59eecfc0-ab62-4b22-8ac6-997c58285138",
   "metadata": {},
   "outputs": [
    {
     "data": {
      "text/plain": [
       "100"
      ]
     },
     "execution_count": 205,
     "metadata": {},
     "output_type": "execute_result"
    }
   ],
   "source": [
    "np.count_nonzero(traindata[traindata[:,2] == 0])"
   ]
  },
  {
   "cell_type": "code",
   "execution_count": 268,
   "id": "6bc03199-98f9-4281-ac90-9e1189faf17c",
   "metadata": {},
   "outputs": [],
   "source": [
    "def knn(xtrain, ytrain, xtest, ytest):\n",
    "    \n",
    "    accuracy = []\n",
    "    \n",
    "    for i in range(1, 51):\n",
    "        neigh = KNeighborsClassifier(n_neighbors=i)\n",
    "        neigh.fit(xtrain, ytrain)\n",
    "        pred_y = neigh.predict(xtest)\n",
    "        score_ = accuracy_score(ytest, pred_y)\n",
    "        accuracy.append(score_)\n",
    "    print(f\"The model accuracy is: {score_}\")\n",
    "    \n",
    "    plt.plot(range(1,51), accuracy)\n",
    "    plt.title(\"N-values (1-50) and accuracy scores\")\n",
    "    plt.show();\n",
    "    \n",
    "    return accuracy "
   ]
  },
  {
   "cell_type": "code",
   "execution_count": 269,
   "id": "5dc37f34-e52c-4523-9bd5-d6148b02e0c6",
   "metadata": {},
   "outputs": [
    {
     "name": "stdout",
     "output_type": "stream",
     "text": [
      "The model accuracy is: 0.88\n"
     ]
    },
    {
     "data": {
      "image/png": "[encoded data removed]",
      "text/plain": [
       "<Figure size 432x288 with 1 Axes>"
      ]
     },
     "metadata": {
      "needs_background": "light"
     },
     "output_type": "display_data"
    }
   ],
   "source": [
    "acc = knn(trainX, traint, testX, testt)"
   ]
  },
  {
   "cell_type": "code",
   "execution_count": 189,
   "id": "ec7e111b-553c-4c6d-a1d5-b71f18e44bf9",
   "metadata": {
    "tags": []
   },
   "outputs": [
    {
     "data": {
      "image/png": "[encoded data removed]",
      "text/plain": [
       "<Figure size 1440x576 with 1 Axes>"
      ]
     },
     "metadata": {
      "needs_background": "light"
     },
     "output_type": "display_data"
    }
   ],
   "source": [
    "#zooming in to the plot\n",
    "plt.figure(figsize=(20,8))\n",
    "neighbours = range(1, 51)\n",
    "plt.plot(neighbours, acc)\n",
    "plt.grid(\"on\")\n",
    "plt.xlim(20,30)\n",
    "plt.show();"
   ]
  },
  {
   "cell_type": "markdown",
   "id": "ea7fd83b-7d28-4ce2-ac54-e8d5da8df1a3",
   "metadata": {},
   "source": [
    "From a neighbourhood of 1 to 50, the model performed best at a neighbourhood value of 24."
   ]
  },
  {
   "cell_type": "markdown",
   "id": "7e3ad6a6-d753-468b-b7f6-89a593515f24",
   "metadata": {},
   "source": [
    "### Now to use n value of 24"
   ]
  },
  {
   "cell_type": "code",
   "execution_count": 272,
   "id": "dda0d997-26d8-4304-93dd-0829503cce8e",
   "metadata": {},
   "outputs": [],
   "source": [
    "def knneighbours(xtrain, ytrain, xtest, ytest, n):\n",
    "      \n",
    "    neigh = KNeighborsClassifier(n_neighbors=n)\n",
    "    neigh.fit(xtrain, ytrain)\n",
    "    pred_y = neigh.predict(xtest)\n",
    "    score_ = accuracy_score(ytest, pred_y)\n",
    "    print(f\"The model accuracy is: {score_}\") \n",
    "    \n",
    "    plt.hist(pred_y)\n",
    "    plt.hist(ytest, alpha=0.3)\n",
    "    plt.title(\"Predicted Y vs Original Y\")\n",
    "    plt.legend([\"Predicted Y\", \"Original Y\"])\n",
    "    plt.show()\n",
    "        \n",
    "    return "
   ]
  },
  {
   "cell_type": "code",
   "execution_count": 273,
   "id": "ee7bb0ab-47b2-4e1a-86dd-92652da5055e",
   "metadata": {},
   "outputs": [
    {
     "name": "stdout",
     "output_type": "stream",
     "text": [
      "The model accuracy is: 0.895\n"
     ]
    },
    {
     "data": {
      "image/png": "[encoded data removed]",
      "text/plain": [
       "<Figure size 432x288 with 1 Axes>"
      ]
     },
     "metadata": {
      "needs_background": "light"
     },
     "output_type": "display_data"
    }
   ],
   "source": [
    "knneighbours(trainX, traint, testX, testt, 24)"
   ]
  },
  {
   "cell_type": "markdown",
   "id": "d0748853-41ac-4f17-a8b9-9998e9cf056a",
   "metadata": {},
   "source": [
    "### Adding prediction parameter"
   ]
  },
  {
   "cell_type": "code",
   "execution_count": 183,
   "id": "38535f03-7dd0-401f-8698-491b38fe3b6c",
   "metadata": {},
   "outputs": [],
   "source": [
    "def knneighbours(xtrain, ytrain, xtest, ytest, prediction, n):\n",
    "      \n",
    "    neigh = KNeighborsClassifier(n_neighbors=n)\n",
    "    neigh.fit(xtrain, ytrain)\n",
    "    pred_y = neigh.predict(prediction)\n",
    "    #score_ = accuracy_score(ytest, pred_y)\n",
    "        \n",
    "    return print(f\"The model neighbourhood is: {pred_y}\") "
   ]
  },
  {
   "cell_type": "code",
   "execution_count": 184,
   "id": "8c1edbdc-b371-4196-a126-17960ec72f32",
   "metadata": {},
   "outputs": [],
   "source": [
    "a = np.empty([2, 2], dtype = float)"
   ]
  },
  {
   "cell_type": "code",
   "execution_count": 186,
   "id": "a5f6f674-9236-42bf-92b1-aabea5efbf78",
   "metadata": {},
   "outputs": [
    {
     "name": "stdout",
     "output_type": "stream",
     "text": [
      "The model neighbourhood is: [0. 1.]\n"
     ]
    }
   ],
   "source": [
    "knneighbours(trainX, traint, testX, testt, a, 24)"
   ]
  },
  {
   "cell_type": "code",
   "execution_count": null,
   "id": "ca801911-2c36-4d27-a6a2-828d60ffef65",
   "metadata": {},
   "outputs": [],
   "source": []
  },
  {
   "cell_type": "markdown",
   "id": "7082d6d0",
   "metadata": {},
   "source": [
    "#### Task 2: Getting familiar with sklearn. Exploring an example dataset, choosing some of the classifiers described in the morning session, and evaluating the performance of the chosen classifiers.\n",
    "\n",
    "In many situations the machine learning algorithms we would like to use are readily available as part of existing libraries. And as with any other code, we don't want to reinvent the wheel as those libraries often take into consideration complex optimisations that can speed up the training of the algorithm of interest. \n",
    "\n",
    "Suggested steps: \n",
    "1. Import the data from sklearn\n",
    "2. Don't forget to split your data into training and testing\n",
    "3. Choose classifiers and compare performance. What performance metric are you going to use and why?\n",
    "\n",
    "Note: Don't forget to add the necessary imports"
   ]
  },
  {
   "cell_type": "code",
   "execution_count": 1,
   "id": "157d6be2-437d-4ab7-8d68-3614a53d7f5b",
   "metadata": {},
   "outputs": [],
   "source": [
    "from sklearn.model_selection import train_test_split"
   ]
  },
  {
   "cell_type": "code",
   "execution_count": 2,
   "id": "4fbd9476",
   "metadata": {},
   "outputs": [],
   "source": [
    "from sklearn import datasets\n",
    "from sklearn.datasets import load_breast_cancer\n",
    "input_, target= datasets.load_breast_cancer(return_X_y=True, as_frame=True) "
   ]
  },
  {
   "cell_type": "code",
   "execution_count": 211,
   "id": "b90e349f",
   "metadata": {},
   "outputs": [
    {
     "data": {
      "text/html": [
       "<div>\n",
       "<style scoped>\n",
       "    .dataframe tbody tr th:only-of-type {\n",
       "        vertical-align: middle;\n",
       "    }\n",
       "\n",
       "    .dataframe tbody tr th {\n",
       "        vertical-align: top;\n",
       "    }\n",
       "\n",
       "    .dataframe thead th {\n",
       "        text-align: right;\n",
       "    }\n",
       "</style>\n",
       "<table border=\"1\" class=\"dataframe\">\n",
       "  <thead>\n",
       "    <tr style=\"text-align: right;\">\n",
       "      <th></th>\n",
       "      <th>mean radius</th>\n",
       "      <th>mean texture</th>\n",
       "      <th>mean perimeter</th>\n",
       "      <th>mean area</th>\n",
       "      <th>mean smoothness</th>\n",
       "      <th>mean compactness</th>\n",
       "      <th>mean concavity</th>\n",
       "      <th>mean concave points</th>\n",
       "      <th>mean symmetry</th>\n",
       "      <th>mean fractal dimension</th>\n",
       "      <th>...</th>\n",
       "      <th>worst radius</th>\n",
       "      <th>worst texture</th>\n",
       "      <th>worst perimeter</th>\n",
       "      <th>worst area</th>\n",
       "      <th>worst smoothness</th>\n",
       "      <th>worst compactness</th>\n",
       "      <th>worst concavity</th>\n",
       "      <th>worst concave points</th>\n",
       "      <th>worst symmetry</th>\n",
       "      <th>worst fractal dimension</th>\n",
       "    </tr>\n",
       "  </thead>\n",
       "  <tbody>\n",
       "    <tr>\n",
       "      <th>0</th>\n",
       "      <td>17.99</td>\n",
       "      <td>10.38</td>\n",
       "      <td>122.80</td>\n",
       "      <td>1001.0</td>\n",
       "      <td>0.11840</td>\n",
       "      <td>0.27760</td>\n",
       "      <td>0.30010</td>\n",
       "      <td>0.14710</td>\n",
       "      <td>0.2419</td>\n",
       "      <td>0.07871</td>\n",
       "      <td>...</td>\n",
       "      <td>25.380</td>\n",
       "      <td>17.33</td>\n",
       "      <td>184.60</td>\n",
       "      <td>2019.0</td>\n",
       "      <td>0.16220</td>\n",
       "      <td>0.66560</td>\n",
       "      <td>0.7119</td>\n",
       "      <td>0.2654</td>\n",
       "      <td>0.4601</td>\n",
       "      <td>0.11890</td>\n",
       "    </tr>\n",
       "    <tr>\n",
       "      <th>1</th>\n",
       "      <td>20.57</td>\n",
       "      <td>17.77</td>\n",
       "      <td>132.90</td>\n",
       "      <td>1326.0</td>\n",
       "      <td>0.08474</td>\n",
       "      <td>0.07864</td>\n",
       "      <td>0.08690</td>\n",
       "      <td>0.07017</td>\n",
       "      <td>0.1812</td>\n",
       "      <td>0.05667</td>\n",
       "      <td>...</td>\n",
       "      <td>24.990</td>\n",
       "      <td>23.41</td>\n",
       "      <td>158.80</td>\n",
       "      <td>1956.0</td>\n",
       "      <td>0.12380</td>\n",
       "      <td>0.18660</td>\n",
       "      <td>0.2416</td>\n",
       "      <td>0.1860</td>\n",
       "      <td>0.2750</td>\n",
       "      <td>0.08902</td>\n",
       "    </tr>\n",
       "    <tr>\n",
       "      <th>2</th>\n",
       "      <td>19.69</td>\n",
       "      <td>21.25</td>\n",
       "      <td>130.00</td>\n",
       "      <td>1203.0</td>\n",
       "      <td>0.10960</td>\n",
       "      <td>0.15990</td>\n",
       "      <td>0.19740</td>\n",
       "      <td>0.12790</td>\n",
       "      <td>0.2069</td>\n",
       "      <td>0.05999</td>\n",
       "      <td>...</td>\n",
       "      <td>23.570</td>\n",
       "      <td>25.53</td>\n",
       "      <td>152.50</td>\n",
       "      <td>1709.0</td>\n",
       "      <td>0.14440</td>\n",
       "      <td>0.42450</td>\n",
       "      <td>0.4504</td>\n",
       "      <td>0.2430</td>\n",
       "      <td>0.3613</td>\n",
       "      <td>0.08758</td>\n",
       "    </tr>\n",
       "    <tr>\n",
       "      <th>3</th>\n",
       "      <td>11.42</td>\n",
       "      <td>20.38</td>\n",
       "      <td>77.58</td>\n",
       "      <td>386.1</td>\n",
       "      <td>0.14250</td>\n",
       "      <td>0.28390</td>\n",
       "      <td>0.24140</td>\n",
       "      <td>0.10520</td>\n",
       "      <td>0.2597</td>\n",
       "      <td>0.09744</td>\n",
       "      <td>...</td>\n",
       "      <td>14.910</td>\n",
       "      <td>26.50</td>\n",
       "      <td>98.87</td>\n",
       "      <td>567.7</td>\n",
       "      <td>0.20980</td>\n",
       "      <td>0.86630</td>\n",
       "      <td>0.6869</td>\n",
       "      <td>0.2575</td>\n",
       "      <td>0.6638</td>\n",
       "      <td>0.17300</td>\n",
       "    </tr>\n",
       "    <tr>\n",
       "      <th>4</th>\n",
       "      <td>20.29</td>\n",
       "      <td>14.34</td>\n",
       "      <td>135.10</td>\n",
       "      <td>1297.0</td>\n",
       "      <td>0.10030</td>\n",
       "      <td>0.13280</td>\n",
       "      <td>0.19800</td>\n",
       "      <td>0.10430</td>\n",
       "      <td>0.1809</td>\n",
       "      <td>0.05883</td>\n",
       "      <td>...</td>\n",
       "      <td>22.540</td>\n",
       "      <td>16.67</td>\n",
       "      <td>152.20</td>\n",
       "      <td>1575.0</td>\n",
       "      <td>0.13740</td>\n",
       "      <td>0.20500</td>\n",
       "      <td>0.4000</td>\n",
       "      <td>0.1625</td>\n",
       "      <td>0.2364</td>\n",
       "      <td>0.07678</td>\n",
       "    </tr>\n",
       "    <tr>\n",
       "      <th>...</th>\n",
       "      <td>...</td>\n",
       "      <td>...</td>\n",
       "      <td>...</td>\n",
       "      <td>...</td>\n",
       "      <td>...</td>\n",
       "      <td>...</td>\n",
       "      <td>...</td>\n",
       "      <td>...</td>\n",
       "      <td>...</td>\n",
       "      <td>...</td>\n",
       "      <td>...</td>\n",
       "      <td>...</td>\n",
       "      <td>...</td>\n",
       "      <td>...</td>\n",
       "      <td>...</td>\n",
       "      <td>...</td>\n",
       "      <td>...</td>\n",
       "      <td>...</td>\n",
       "      <td>...</td>\n",
       "      <td>...</td>\n",
       "      <td>...</td>\n",
       "    </tr>\n",
       "    <tr>\n",
       "      <th>564</th>\n",
       "      <td>21.56</td>\n",
       "      <td>22.39</td>\n",
       "      <td>142.00</td>\n",
       "      <td>1479.0</td>\n",
       "      <td>0.11100</td>\n",
       "      <td>0.11590</td>\n",
       "      <td>0.24390</td>\n",
       "      <td>0.13890</td>\n",
       "      <td>0.1726</td>\n",
       "      <td>0.05623</td>\n",
       "      <td>...</td>\n",
       "      <td>25.450</td>\n",
       "      <td>26.40</td>\n",
       "      <td>166.10</td>\n",
       "      <td>2027.0</td>\n",
       "      <td>0.14100</td>\n",
       "      <td>0.21130</td>\n",
       "      <td>0.4107</td>\n",
       "      <td>0.2216</td>\n",
       "      <td>0.2060</td>\n",
       "      <td>0.07115</td>\n",
       "    </tr>\n",
       "    <tr>\n",
       "      <th>565</th>\n",
       "      <td>20.13</td>\n",
       "      <td>28.25</td>\n",
       "      <td>131.20</td>\n",
       "      <td>1261.0</td>\n",
       "      <td>0.09780</td>\n",
       "      <td>0.10340</td>\n",
       "      <td>0.14400</td>\n",
       "      <td>0.09791</td>\n",
       "      <td>0.1752</td>\n",
       "      <td>0.05533</td>\n",
       "      <td>...</td>\n",
       "      <td>23.690</td>\n",
       "      <td>38.25</td>\n",
       "      <td>155.00</td>\n",
       "      <td>1731.0</td>\n",
       "      <td>0.11660</td>\n",
       "      <td>0.19220</td>\n",
       "      <td>0.3215</td>\n",
       "      <td>0.1628</td>\n",
       "      <td>0.2572</td>\n",
       "      <td>0.06637</td>\n",
       "    </tr>\n",
       "    <tr>\n",
       "      <th>566</th>\n",
       "      <td>16.60</td>\n",
       "      <td>28.08</td>\n",
       "      <td>108.30</td>\n",
       "      <td>858.1</td>\n",
       "      <td>0.08455</td>\n",
       "      <td>0.10230</td>\n",
       "      <td>0.09251</td>\n",
       "      <td>0.05302</td>\n",
       "      <td>0.1590</td>\n",
       "      <td>0.05648</td>\n",
       "      <td>...</td>\n",
       "      <td>18.980</td>\n",
       "      <td>34.12</td>\n",
       "      <td>126.70</td>\n",
       "      <td>1124.0</td>\n",
       "      <td>0.11390</td>\n",
       "      <td>0.30940</td>\n",
       "      <td>0.3403</td>\n",
       "      <td>0.1418</td>\n",
       "      <td>0.2218</td>\n",
       "      <td>0.07820</td>\n",
       "    </tr>\n",
       "    <tr>\n",
       "      <th>567</th>\n",
       "      <td>20.60</td>\n",
       "      <td>29.33</td>\n",
       "      <td>140.10</td>\n",
       "      <td>1265.0</td>\n",
       "      <td>0.11780</td>\n",
       "      <td>0.27700</td>\n",
       "      <td>0.35140</td>\n",
       "      <td>0.15200</td>\n",
       "      <td>0.2397</td>\n",
       "      <td>0.07016</td>\n",
       "      <td>...</td>\n",
       "      <td>25.740</td>\n",
       "      <td>39.42</td>\n",
       "      <td>184.60</td>\n",
       "      <td>1821.0</td>\n",
       "      <td>0.16500</td>\n",
       "      <td>0.86810</td>\n",
       "      <td>0.9387</td>\n",
       "      <td>0.2650</td>\n",
       "      <td>0.4087</td>\n",
       "      <td>0.12400</td>\n",
       "    </tr>\n",
       "    <tr>\n",
       "      <th>568</th>\n",
       "      <td>7.76</td>\n",
       "      <td>24.54</td>\n",
       "      <td>47.92</td>\n",
       "      <td>181.0</td>\n",
       "      <td>0.05263</td>\n",
       "      <td>0.04362</td>\n",
       "      <td>0.00000</td>\n",
       "      <td>0.00000</td>\n",
       "      <td>0.1587</td>\n",
       "      <td>0.05884</td>\n",
       "      <td>...</td>\n",
       "      <td>9.456</td>\n",
       "      <td>30.37</td>\n",
       "      <td>59.16</td>\n",
       "      <td>268.6</td>\n",
       "      <td>0.08996</td>\n",
       "      <td>0.06444</td>\n",
       "      <td>0.0000</td>\n",
       "      <td>0.0000</td>\n",
       "      <td>0.2871</td>\n",
       "      <td>0.07039</td>\n",
       "    </tr>\n",
       "  </tbody>\n",
       "</table>\n",
       "<p>569 rows × 30 columns</p>\n",
       "</div>"
      ],
      "text/plain": [
       "     mean radius  mean texture  mean perimeter  mean area  mean smoothness  \\\n",
       "0          17.99         10.38          122.80     1001.0          0.11840   \n",
       "1          20.57         17.77          132.90     1326.0          0.08474   \n",
       "2          19.69         21.25          130.00     1203.0          0.10960   \n",
       "3          11.42         20.38           77.58      386.1          0.14250   \n",
       "4          20.29         14.34          135.10     1297.0          0.10030   \n",
       "..           ...           ...             ...        ...              ...   \n",
       "564        21.56         22.39          142.00     1479.0          0.11100   \n",
       "565        20.13         28.25          131.20     1261.0          0.09780   \n",
       "566        16.60         28.08          108.30      858.1          0.08455   \n",
       "567        20.60         29.33          140.10     1265.0          0.11780   \n",
       "568         7.76         24.54           47.92      181.0          0.05263   \n",
       "\n",
       "     mean compactness  mean concavity  mean concave points  mean symmetry  \\\n",
       "0             0.27760         0.30010              0.14710         0.2419   \n",
       "1             0.07864         0.08690              0.07017         0.1812   \n",
       "2             0.15990         0.19740              0.12790         0.2069   \n",
       "3             0.28390         0.24140              0.10520         0.2597   \n",
       "4             0.13280         0.19800              0.10430         0.1809   \n",
       "..                ...             ...                  ...            ...   \n",
       "564           0.11590         0.24390              0.13890         0.1726   \n",
       "565           0.10340         0.14400              0.09791         0.1752   \n",
       "566           0.10230         0.09251              0.05302         0.1590   \n",
       "567           0.27700         0.35140              0.15200         0.2397   \n",
       "568           0.04362         0.00000              0.00000         0.1587   \n",
       "\n",
       "     mean fractal dimension  ...  worst radius  worst texture  \\\n",
       "0                   0.07871  ...        25.380          17.33   \n",
       "1                   0.05667  ...        24.990          23.41   \n",
       "2                   0.05999  ...        23.570          25.53   \n",
       "3                   0.09744  ...        14.910          26.50   \n",
       "4                   0.05883  ...        22.540          16.67   \n",
       "..                      ...  ...           ...            ...   \n",
       "564                 0.05623  ...        25.450          26.40   \n",
       "565                 0.05533  ...        23.690          38.25   \n",
       "566                 0.05648  ...        18.980          34.12   \n",
       "567                 0.07016  ...        25.740          39.42   \n",
       "568                 0.05884  ...         9.456          30.37   \n",
       "\n",
       "     worst perimeter  worst area  worst smoothness  worst compactness  \\\n",
       "0             184.60      2019.0           0.16220            0.66560   \n",
       "1             158.80      1956.0           0.12380            0.18660   \n",
       "2             152.50      1709.0           0.14440            0.42450   \n",
       "3              98.87       567.7           0.20980            0.86630   \n",
       "4             152.20      1575.0           0.13740            0.20500   \n",
       "..               ...         ...               ...                ...   \n",
       "564           166.10      2027.0           0.14100            0.21130   \n",
       "565           155.00      1731.0           0.11660            0.19220   \n",
       "566           126.70      1124.0           0.11390            0.30940   \n",
       "567           184.60      1821.0           0.16500            0.86810   \n",
       "568            59.16       268.6           0.08996            0.06444   \n",
       "\n",
       "     worst concavity  worst concave points  worst symmetry  \\\n",
       "0             0.7119                0.2654          0.4601   \n",
       "1             0.2416                0.1860          0.2750   \n",
       "2             0.4504                0.2430          0.3613   \n",
       "3             0.6869                0.2575          0.6638   \n",
       "4             0.4000                0.1625          0.2364   \n",
       "..               ...                   ...             ...   \n",
       "564           0.4107                0.2216          0.2060   \n",
       "565           0.3215                0.1628          0.2572   \n",
       "566           0.3403                0.1418          0.2218   \n",
       "567           0.9387                0.2650          0.4087   \n",
       "568           0.0000                0.0000          0.2871   \n",
       "\n",
       "     worst fractal dimension  \n",
       "0                    0.11890  \n",
       "1                    0.08902  \n",
       "2                    0.08758  \n",
       "3                    0.17300  \n",
       "4                    0.07678  \n",
       "..                       ...  \n",
       "564                  0.07115  \n",
       "565                  0.06637  \n",
       "566                  0.07820  \n",
       "567                  0.12400  \n",
       "568                  0.07039  \n",
       "\n",
       "[569 rows x 30 columns]"
      ]
     },
     "execution_count": 211,
     "metadata": {},
     "output_type": "execute_result"
    }
   ],
   "source": [
    "#cancer has data and targets\n",
    "input_"
   ]
  },
  {
   "cell_type": "code",
   "execution_count": 215,
   "id": "1761ee7c-472a-4118-b47c-450455cf748b",
   "metadata": {},
   "outputs": [],
   "source": [
    "X_train, X_test, y_train, y_test = train_test_split(input_, target, test_size=0.20, random_state=53)"
   ]
  },
  {
   "cell_type": "code",
   "execution_count": 275,
   "id": "a2d4558e-4eb4-4012-bf25-f10768a11ffe",
   "metadata": {},
   "outputs": [
    {
     "name": "stdout",
     "output_type": "stream",
     "text": [
      "The model accuracy is: 0.9298245614035088\n"
     ]
    },
    {
     "data": {
      "image/png": "[encoded data removed]",
      "text/plain": [
       "<Figure size 432x288 with 1 Axes>"
      ]
     },
     "metadata": {
      "needs_background": "light"
     },
     "output_type": "display_data"
    }
   ],
   "source": [
    "breast_cancer = knn(X_train, y_train, X_test, y_test)"
   ]
  },
  {
   "cell_type": "code",
   "execution_count": 258,
   "id": "aef683a5-5c5c-4bb4-b101-727b344c108d",
   "metadata": {},
   "outputs": [],
   "source": [
    "def knneighbour(xtrain, ytrain, xtest, ytest, n):\n",
    "      \n",
    "    neigh = KNeighborsClassifier(n_neighbors=n)\n",
    "    neigh.fit(xtrain, ytrain)\n",
    "    pred_y = neigh.predict(xtest)\n",
    "    score_ = accuracy_score(ytest, pred_y)\n",
    "    print(f\"The model accuracy is: {score_}\") \n",
    "    \n",
    "    plt.hist(pred_y)\n",
    "    plt.hist(y_test, alpha=0.3)\n",
    "    plt.legend([\"Predicted Y\", \"Original Y\"])\n",
    "    plt.show()\n",
    "    \n",
    "    return"
   ]
  },
  {
   "cell_type": "code",
   "execution_count": 276,
   "id": "b4e519fc-f187-4e45-a0bf-1b5bf3f1fad6",
   "metadata": {},
   "outputs": [
    {
     "name": "stdout",
     "output_type": "stream",
     "text": [
      "The model accuracy is: 0.9649122807017544\n"
     ]
    },
    {
     "data": {
      "image/png": "[encoded data removed]",
      "text/plain": [
       "<Figure size 432x288 with 1 Axes>"
      ]
     },
     "metadata": {
      "needs_background": "light"
     },
     "output_type": "display_data"
    }
   ],
   "source": [
    "knneighbour(X_train, y_train, X_test, y_test, 8)"
   ]
  },
  {
   "cell_type": "code",
   "execution_count": 279,
   "id": "84fc9bfa-55ff-4e45-bc2d-7dd044347966",
   "metadata": {},
   "outputs": [],
   "source": [
    "def knneighbour(xtrain, ytrain, xtest, ytest, prediction, n):\n",
    "      \n",
    "    neigh = KNeighborsClassifier(n_neighbors=n)\n",
    "    neigh.fit(xtrain, ytrain)\n",
    "    pred_y = neigh.predict(prediction)\n",
    "    #score_ = accuracy_score(ytest, pred_y)\n",
    "        \n",
    "    return print(f\"The model neighbourhood is: {pred_y}\") "
   ]
  },
  {
   "cell_type": "code",
   "execution_count": 281,
   "id": "00a92446-84e4-42ce-b9a6-434453466fce",
   "metadata": {},
   "outputs": [],
   "source": [
    "canc = np.empty([1, 30], dtype = float)"
   ]
  },
  {
   "cell_type": "code",
   "execution_count": 283,
   "id": "efbfbc55-241f-4980-974f-68d2f758ec9a",
   "metadata": {},
   "outputs": [
    {
     "name": "stdout",
     "output_type": "stream",
     "text": [
      "The model neighbourhood is: [1]\n"
     ]
    },
    {
     "name": "stderr",
     "output_type": "stream",
     "text": [
      "C:\\Users\\user\\AppData\\Local\\Programs\\Python\\Python310\\lib\\site-packages\\sklearn\\base.py:450: UserWarning: X does not have valid feature names, but KNeighborsClassifier was fitted with feature names\n",
      "  warnings.warn(\n"
     ]
    }
   ],
   "source": [
    "knneighbour(X_train, y_train, X_test, y_test, canc, 9)"
   ]
  },
  {
   "cell_type": "markdown",
   "id": "5d113666-4c7e-4b19-8735-21b1e674571b",
   "metadata": {},
   "source": [
    "### Using SVM Classifier on Cancer dataset"
   ]
  },
  {
   "cell_type": "code",
   "execution_count": 3,
   "id": "26be6475-8f52-49f3-a630-c784c51c807b",
   "metadata": {},
   "outputs": [],
   "source": [
    "from sklearn.svm import SVC"
   ]
  },
  {
   "cell_type": "code",
   "execution_count": 4,
   "id": "cbe3cc09-cbed-4153-b9d8-fac14c98a58e",
   "metadata": {},
   "outputs": [],
   "source": [
    "x_train, x_test, t_train, t_test = train_test_split(input_, target, test_size=0.20, random_state=47)"
   ]
  },
  {
   "cell_type": "code",
   "execution_count": 5,
   "id": "da46e550-fe41-4e8e-81eb-1dccb1d107d2",
   "metadata": {},
   "outputs": [],
   "source": [
    "svm = SVC(kernel=\"linear\")"
   ]
  },
  {
   "cell_type": "code",
   "execution_count": 6,
   "id": "1c70a6bf-ef49-4108-a436-28ac83b13ca2",
   "metadata": {},
   "outputs": [
    {
     "data": {
      "text/html": [
       "<style>#sk-container-id-1 {color: black;background-color: white;}#sk-container-id-1 pre{padding: 0;}#sk-container-id-1 div.sk-toggleable {background-color: white;}#sk-container-id-1 label.sk-toggleable__label {cursor: pointer;display: block;width: 100%;margin-bottom: 0;padding: 0.3em;box-sizing: border-box;text-align: center;}#sk-container-id-1 label.sk-toggleable__label-arrow:before {content: \"▸\";float: left;margin-right: 0.25em;color: #696969;}#sk-container-id-1 label.sk-toggleable__label-arrow:hover:before {color: black;}#sk-container-id-1 div.sk-estimator:hover label.sk-toggleable__label-arrow:before {color: black;}#sk-container-id-1 div.sk-toggleable__content {max-height: 0;max-width: 0;overflow: hidden;text-align: left;background-color: #f0f8ff;}#sk-container-id-1 div.sk-toggleable__content pre {margin: 0.2em;color: black;border-radius: 0.25em;background-color: #f0f8ff;}#sk-container-id-1 input.sk-toggleable__control:checked~div.sk-toggleable__content {max-height: 200px;max-width: 100%;overflow: auto;}#sk-container-id-1 input.sk-toggleable__control:checked~label.sk-toggleable__label-arrow:before {content: \"▾\";}#sk-container-id-1 div.sk-estimator input.sk-toggleable__control:checked~label.sk-toggleable__label {background-color: #d4ebff;}#sk-container-id-1 div.sk-label input.sk-toggleable__control:checked~label.sk-toggleable__label {background-color: #d4ebff;}#sk-container-id-1 input.sk-hidden--visually {border: 0;clip: rect(1px 1px 1px 1px);clip: rect(1px, 1px, 1px, 1px);height: 1px;margin: -1px;overflow: hidden;padding: 0;position: absolute;width: 1px;}#sk-container-id-1 div.sk-estimator {font-family: monospace;background-color: #f0f8ff;border: 1px dotted black;border-radius: 0.25em;box-sizing: border-box;margin-bottom: 0.5em;}#sk-container-id-1 div.sk-estimator:hover {background-color: #d4ebff;}#sk-container-id-1 div.sk-parallel-item::after {content: \"\";width: 100%;border-bottom: 1px solid gray;flex-grow: 1;}#sk-container-id-1 div.sk-label:hover label.sk-toggleable__label {background-color: #d4ebff;}#sk-container-id-1 div.sk-serial::before {content: \"\";position: absolute;border-left: 1px solid gray;box-sizing: border-box;top: 0;bottom: 0;left: 50%;z-index: 0;}#sk-container-id-1 div.sk-serial {display: flex;flex-direction: column;align-items: center;background-color: white;padding-right: 0.2em;padding-left: 0.2em;position: relative;}#sk-container-id-1 div.sk-item {position: relative;z-index: 1;}#sk-container-id-1 div.sk-parallel {display: flex;align-items: stretch;justify-content: center;background-color: white;position: relative;}#sk-container-id-1 div.sk-item::before, #sk-container-id-1 div.sk-parallel-item::before {content: \"\";position: absolute;border-left: 1px solid gray;box-sizing: border-box;top: 0;bottom: 0;left: 50%;z-index: -1;}#sk-container-id-1 div.sk-parallel-item {display: flex;flex-direction: column;z-index: 1;position: relative;background-color: white;}#sk-container-id-1 div.sk-parallel-item:first-child::after {align-self: flex-end;width: 50%;}#sk-container-id-1 div.sk-parallel-item:last-child::after {align-self: flex-start;width: 50%;}#sk-container-id-1 div.sk-parallel-item:only-child::after {width: 0;}#sk-container-id-1 div.sk-dashed-wrapped {border: 1px dashed gray;margin: 0 0.4em 0.5em 0.4em;box-sizing: border-box;padding-bottom: 0.4em;background-color: white;}#sk-container-id-1 div.sk-label label {font-family: monospace;font-weight: bold;display: inline-block;line-height: 1.2em;}#sk-container-id-1 div.sk-label-container {text-align: center;}#sk-container-id-1 div.sk-container {/* jupyter's `normalize.less` sets `[hidden] { display: none; }` but bootstrap.min.css set `[hidden] { display: none !important; }` so we also need the `!important` here to be able to override the default hidden behavior on the sphinx rendered scikit-learn.org. See: https://github.com/scikit-learn/scikit-learn/issues/21755 */display: inline-block !important;position: relative;}#sk-container-id-1 div.sk-text-repr-fallback {display: none;}</style><div id=\"sk-container-id-1\" class=\"sk-top-container\"><div class=\"sk-text-repr-fallback\"><pre>SVC(kernel=&#x27;linear&#x27;)</pre><b>In a Jupyter environment, please rerun this cell to show the HTML representation or trust the notebook. <br />On GitHub, the HTML representation is unable to render, please try loading this page with nbviewer.org.</b></div><div class=\"sk-container\" hidden><div class=\"sk-item\"><div class=\"sk-estimator sk-toggleable\"><input class=\"sk-toggleable__control sk-hidden--visually\" id=\"sk-estimator-id-1\" type=\"checkbox\" checked><label for=\"sk-estimator-id-1\" class=\"sk-toggleable__label sk-toggleable__label-arrow\">SVC</label><div class=\"sk-toggleable__content\"><pre>SVC(kernel=&#x27;linear&#x27;)</pre></div></div></div></div></div>"
      ],
      "text/plain": [
       "SVC(kernel='linear')"
      ]
     },
     "execution_count": 6,
     "metadata": {},
     "output_type": "execute_result"
    }
   ],
   "source": [
    "svm.fit(x_train, t_train)"
   ]
  },
  {
   "cell_type": "code",
   "execution_count": 7,
   "id": "a79bf5c4-2e45-432a-b3c8-2d404859a3fc",
   "metadata": {},
   "outputs": [],
   "source": [
    "y_pred = svm.predict(x_test)"
   ]
  },
  {
   "cell_type": "code",
   "execution_count": 13,
   "id": "1847fe2f-591b-4cce-bce6-92af157f2eca",
   "metadata": {},
   "outputs": [],
   "source": [
    "from sklearn.metrics import accuracy_score\n",
    "import matplotlib.pyplot as plt"
   ]
  },
  {
   "cell_type": "code",
   "execution_count": 10,
   "id": "072f2a16",
   "metadata": {},
   "outputs": [],
   "source": [
    "svm_accuracy = accuracy_score(t_test, y_pred)"
   ]
  },
  {
   "cell_type": "code",
   "execution_count": 11,
   "id": "a9d7654f-dbfb-4a1d-8c47-544ad6353542",
   "metadata": {},
   "outputs": [
    {
     "data": {
      "text/plain": [
       "0.956140350877193"
      ]
     },
     "execution_count": 11,
     "metadata": {},
     "output_type": "execute_result"
    }
   ],
   "source": [
    "svm_accuracy"
   ]
  },
  {
   "cell_type": "code",
   "execution_count": 14,
   "id": "2c2eacc1-4f87-4ff3-96a2-c4d19aa1b95a",
   "metadata": {},
   "outputs": [
    {
     "data": {
      "image/png": "[encoded data removed]",
      "text/plain": [
       "<Figure size 432x288 with 1 Axes>"
      ]
     },
     "metadata": {
      "needs_background": "light"
     },
     "output_type": "display_data"
    }
   ],
   "source": [
    "plt.hist(t_test)\n",
    "plt.hist(y_pred, alpha=0.4)\n",
    "plt.plot();"
   ]
  },
  {
   "cell_type": "code",
   "execution_count": null,
   "id": "90e5d274-babe-43f3-8eea-67cdbc0a41fb",
   "metadata": {},
   "outputs": [],
   "source": [
    "svm.predict(canc)"
   ]
  },
  {
   "cell_type": "markdown",
   "id": "cb3e8c5f-838f-450b-98d2-0cf32fc25826",
   "metadata": {},
   "source": [
    "Comparing accuracies \n",
    "\n",
    "- Accuracy for KNN is 0.9649\n",
    "- Accuracy for SVC is 0.9561"
   ]
  },
  {
   "cell_type": "code",
   "execution_count": 16,
   "id": "32e425bd-9fc5-40a5-924f-7d1396354912",
   "metadata": {},
   "outputs": [],
   "source": [
    "from sklearn.metrics import confusion_matrix, ConfusionMatrixDisplay"
   ]
  },
  {
   "cell_type": "code",
   "execution_count": 18,
   "id": "17861262-6212-471d-9747-c1089dcd981c",
   "metadata": {},
   "outputs": [],
   "source": [
    "cm = confusion_matrix(t_test, y_pred)"
   ]
  },
  {
   "cell_type": "code",
   "execution_count": 19,
   "id": "aff7ef1f-7c36-4e53-a6d9-1f3693a18ff4",
   "metadata": {},
   "outputs": [
    {
     "data": {
      "text/plain": [
       "array([[43,  1],\n",
       "       [ 4, 66]], dtype=int64)"
      ]
     },
     "execution_count": 19,
     "metadata": {},
     "output_type": "execute_result"
    }
   ],
   "source": [
    "cm"
   ]
  },
  {
   "cell_type": "code",
   "execution_count": 20,
   "id": "fa402905-855e-4a71-8566-ed1b27d95dbb",
   "metadata": {},
   "outputs": [],
   "source": [
    "disp = ConfusionMatrixDisplay(confusion_matrix=cm, display_labels=svm.classes_)"
   ]
  },
  {
   "cell_type": "code",
   "execution_count": 21,
   "id": "8b0722f4-1b53-4d16-b86f-58d52f3ceb48",
   "metadata": {},
   "outputs": [
    {
     "data": {
      "text/plain": [
       "<sklearn.metrics._plot.confusion_matrix.ConfusionMatrixDisplay at 0x2ac678bea10>"
      ]
     },
     "execution_count": 21,
     "metadata": {},
     "output_type": "execute_result"
    },
    {
     "data": {
      "image/png": "[encoded data removed]",
      "text/plain": [
       "<Figure size 432x288 with 2 Axes>"
      ]
     },
     "metadata": {
      "needs_background": "light"
     },
     "output_type": "display_data"
    }
   ],
   "source": [
    "disp.plot()"
   ]
  },
  {
   "cell_type": "code",
   "execution_count": 26,
   "id": "f66e204d-af62-4b8e-8077-4a4fd28c37b8",
   "metadata": {},
   "outputs": [],
   "source": [
    "a = np.empty([2, 30], dtype = float)"
   ]
  },
  {
   "cell_type": "code",
   "execution_count": 27,
   "id": "e0657263-b604-4fc2-8a7c-3c3c5bb410e7",
   "metadata": {},
   "outputs": [
    {
     "name": "stderr",
     "output_type": "stream",
     "text": [
      "C:\\Users\\user\\AppData\\Local\\Programs\\Python\\Python310\\lib\\site-packages\\sklearn\\base.py:450: UserWarning: X does not have valid feature names, but SVC was fitted with feature names\n",
      "  warnings.warn(\n"
     ]
    },
    {
     "data": {
      "text/plain": [
       "array([0, 1])"
      ]
     },
     "execution_count": 27,
     "metadata": {},
     "output_type": "execute_result"
    }
   ],
   "source": [
    "svm.predict(a)"
   ]
  }
 ],
 "metadata": {
  "kernelspec": {
   "display_name": "Python 3 (ipykernel)",
   "language": "python",
   "name": "python3"
  },
  "language_info": {
   "codemirror_mode": {
    "name": "ipython",
    "version": 3
   },
   "file_extension": ".py",
   "mimetype": "text/x-python",
   "name": "python",
   "nbconvert_exporter": "python",
   "pygments_lexer": "ipython3",
   "version": "3.10.4"
  }
 },
 "nbformat": 4,
 "nbformat_minor": 5
}
