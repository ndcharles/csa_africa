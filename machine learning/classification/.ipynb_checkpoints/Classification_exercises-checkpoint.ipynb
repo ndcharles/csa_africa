{
 "cells": [
  {
   "cell_type": "markdown",
   "id": "b4e62400",
   "metadata": {},
   "source": [
    "# Exercises: Classification\n",
    "---\n",
    "<br>\n",
    "\n",
    "\n",
    "Today, we are going to practice what we have learned about classification. The tasks are split into two categories: *implementation of a classification algorithm from scratch* and *application of classifiers to a dataset and evaluating performance using sklearn*. \n",
    "\n",
    "While we haven't covered how to use ML libraries in the lectures, we are hoping that you can put everything you've learned from using numpy and matplotlib to practice when it comes to reading documentation. As usual, your friendly volunteers will be available for questions. "
   ]
  },
  {
   "cell_type": "markdown",
   "id": "d6597b01",
   "metadata": {},
   "source": [
    "#### Task 1: Implementing KNN from scratch. \n",
    "\n",
    "**Aims**:\n",
    "1. Based on the way KNN works as described in the lectures, implement your own KNN. \n",
    "2. Compute accuracy for a particular K value. Again, accuracy is an easy to compute metric. Do that from scratch.\n",
    "3. What's the effect of K on the accuracy? Plot that. \n",
    "\n",
    "\n",
    "The cells below read the data you are going to use for training and testing.\n",
    "\n",
    "    "
   ]
  },
  {
   "cell_type": "code",
   "execution_count": null,
   "id": "b3f6ebb3",
   "metadata": {},
   "outputs": [],
   "source": [
    "import numpy as np\n",
    "import matplotlib.pyplot as plt\n",
    "%matplotlib inline\n",
    "\n",
    "traindata = np.loadtxt('classification_data/trainx.csv',delimiter=',')\n",
    "testdata = np.loadtxt('classification_data/testx.csv',delimiter=',')\n",
    "trainX = traindata[:,:2]\n",
    "traint = traindata[:,2]\n",
    "testX = testdata[:,:2]\n",
    "testt = testdata[:,2]"
   ]
  },
  {
   "cell_type": "code",
   "execution_count": null,
   "id": "3e690138",
   "metadata": {},
   "outputs": [],
   "source": [
    "classes = {0:'ro',1:'bo'}\n",
    "plt.figure()\n",
    "for cl in classes:\n",
    "    pos = np.where(traint == cl)[0]\n",
    "    plt.plot(trainX[pos,0],trainX[pos,1],classes[cl])"
   ]
  },
  {
   "cell_type": "markdown",
   "id": "463acdfc",
   "metadata": {},
   "source": [
    "#### Some hints: \n",
    "\n",
    "1. Might be easier to write a knn function for a single test example (a row in the testX)\n",
    "2. Computing distances (you can do this like this to obtain a single numeric distance between a train point and a test point):  (trainPoints - testpoint)**2.sum(axis=1)\n",
    "3. In the spirit of writing good functions, think of what parameters you need to pass to your knn function\n",
    "4. For your accuracy implementation: remember that accuracy is correct predictions/total\n",
    "5. Try a different range of K: e.g from 2 to 100\n"
   ]
  },
  {
   "cell_type": "code",
   "execution_count": null,
   "id": "def94e3a",
   "metadata": {},
   "outputs": [],
   "source": [
    "###YOUR CODE GOES HERE\n",
    "\n"
   ]
  },
  {
   "cell_type": "code",
   "execution_count": null,
   "id": "8f09b939",
   "metadata": {},
   "outputs": [],
   "source": []
  },
  {
   "cell_type": "markdown",
   "id": "7082d6d0",
   "metadata": {},
   "source": [
    "#### Task 2: Getting familiar with sklearn. Exploring an example dataset, choosing some of the classifiers described in the morning session, and evaluating the performance of the chosen classifiers.\n",
    "\n",
    "In many situations the machine learning algorithms we would like to use are readily available as part of existing libraries. And as with any other code, we don't want to reinvent the wheel as those libraries often take into consideration complex optimisations that can speed up the training of the algorithm of interest. \n",
    "\n",
    "Suggested steps: \n",
    "1. Import the data from sklearn\n",
    "2. Don't forget to split your data into training and testing\n",
    "3. Choose classifiers and compare performance. What performance metric are you going to use and why?\n",
    "\n",
    "Note: Don't forget to add the necessary imports"
   ]
  },
  {
   "cell_type": "code",
   "execution_count": null,
   "id": "4fbd9476",
   "metadata": {},
   "outputs": [],
   "source": [
    "from sklearn import datasets\n",
    "from sklearn.datasets import load_breast_cancer\n",
    "cancer = datasets.load_breast_cancer() "
   ]
  },
  {
   "cell_type": "code",
   "execution_count": null,
   "id": "b90e349f",
   "metadata": {},
   "outputs": [],
   "source": [
    "#cancer has data and targets\n",
    "print (cancer)"
   ]
  },
  {
   "cell_type": "code",
   "execution_count": null,
   "id": "072f2a16",
   "metadata": {},
   "outputs": [],
   "source": [
    "X = cancer.data\n",
    "y = cancer.target"
   ]
  },
  {
   "cell_type": "code",
   "execution_count": null,
   "id": "c0d4a2c5",
   "metadata": {},
   "outputs": [],
   "source": [
    "###YOUR CODE GOES HERE\n",
    "\n"
   ]
  },
  {
   "cell_type": "code",
   "execution_count": null,
   "id": "f289a595",
   "metadata": {},
   "outputs": [],
   "source": []
  }
 ],
 "metadata": {
  "kernelspec": {
   "display_name": "Python 3",
   "language": "python",
   "name": "python3"
  },
  "language_info": {
   "codemirror_mode": {
    "name": "ipython",
    "version": 3
   },
   "file_extension": ".py",
   "mimetype": "text/x-python",
   "name": "python",
   "nbconvert_exporter": "python",
   "pygments_lexer": "ipython3",
   "version": "3.6.8"
  }
 },
 "nbformat": 4,
 "nbformat_minor": 5
}
