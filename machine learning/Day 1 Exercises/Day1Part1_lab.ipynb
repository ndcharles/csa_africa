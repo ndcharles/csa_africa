{
 "cells": [
  {
   "cell_type": "markdown",
   "id": "3faf493a",
   "metadata": {},
   "source": [
    "# Wk2 Trk3, Day 1\n",
    "<br>\n",
    "\n",
    "# Exercises: NumPy\n",
    "---\n",
    "<br>\n",
    "\n",
    "#### CSAA2022\n",
    "\n",
    "Welcome to the first half of today's lab! In this lab, we are going to practice the fundamentals of numpy by creating arrays, accessing elements, subsetting using Boolean indexing and finally, we are also going to practice some well known numpy functions. \n",
    "\n",
    "\n",
    "Of course, we are not able to cover it all and as such we recommend the online resouces below. As always, documentation is your friend, so make sure you have a look if uncertain. \n",
    "\n",
    "Useful references: \n",
    "* [Official NumPy reference ](https://numpy.org/doc/stable/reference/index.html)\n",
    "* [Cheatsheet](https://s3.amazonaws.com/assets.datacamp.com/blog_assets/Numpy_Python_Cheat_Sheet.pdf)\n"
   ]
  },
  {
   "cell_type": "code",
   "execution_count": 1,
   "id": "5c4d44e1",
   "metadata": {},
   "outputs": [],
   "source": [
    "#first step if we want to use functions that have been already implemented in a library is to import that library\n",
    "\n",
    "#traditional way of importing numpy\n",
    "import numpy as np"
   ]
  },
  {
   "cell_type": "markdown",
   "id": "b0225a14",
   "metadata": {},
   "source": [
    "#### Task 1: Mastering the basics"
   ]
  },
  {
   "cell_type": "markdown",
   "id": "2002afa1",
   "metadata": {},
   "source": [
    "##### Part A: Create some arrays\n",
    "\n",
    "\n",
    "* Create an array from the following list \n",
    "        sample_list = [1.0,4.0,9.0,23.0]\n",
    "\n",
    "* **Do not use** *np.array* for the next problems: \n",
    "    * create a 10 x 10 matrix of all ones\n",
    "    * a 15 element vector, with all elements equal to np.pi\n",
    "    * an 1D array with elements between 0 and 50, stepping by 2\n",
    "    * an array of random numbers of 0 mean and unit std; choose the size yourselves \n",
    "    * create an array of even numbers between 100 and 500 and then divide it by 2\n",
    "\n",
    "\n",
    "\n"
   ]
  },
  {
   "cell_type": "code",
   "execution_count": 5,
   "id": "7abda0cb",
   "metadata": {},
   "outputs": [],
   "source": [
    "matrix_1 = np.ones((10,10), dtype=int)"
   ]
  },
  {
   "cell_type": "code",
   "execution_count": 6,
   "id": "8c4682bc-bcc7-472e-9769-ef35955f02d2",
   "metadata": {},
   "outputs": [
    {
     "data": {
      "text/plain": [
       "array([[1, 1, 1, 1, 1, 1, 1, 1, 1, 1],\n",
       "       [1, 1, 1, 1, 1, 1, 1, 1, 1, 1],\n",
       "       [1, 1, 1, 1, 1, 1, 1, 1, 1, 1],\n",
       "       [1, 1, 1, 1, 1, 1, 1, 1, 1, 1],\n",
       "       [1, 1, 1, 1, 1, 1, 1, 1, 1, 1],\n",
       "       [1, 1, 1, 1, 1, 1, 1, 1, 1, 1],\n",
       "       [1, 1, 1, 1, 1, 1, 1, 1, 1, 1],\n",
       "       [1, 1, 1, 1, 1, 1, 1, 1, 1, 1],\n",
       "       [1, 1, 1, 1, 1, 1, 1, 1, 1, 1],\n",
       "       [1, 1, 1, 1, 1, 1, 1, 1, 1, 1]])"
      ]
     },
     "execution_count": 6,
     "metadata": {},
     "output_type": "execute_result"
    }
   ],
   "source": [
    "matrix_1"
   ]
  },
  {
   "cell_type": "code",
   "execution_count": 10,
   "id": "46b03803-c01f-4fb1-902c-619dba4e0caa",
   "metadata": {},
   "outputs": [
    {
     "data": {
      "text/plain": [
       "array([3.14159265, 3.14159265, 3.14159265, 3.14159265, 3.14159265,\n",
       "       3.14159265, 3.14159265, 3.14159265, 3.14159265, 3.14159265,\n",
       "       3.14159265, 3.14159265, 3.14159265, 3.14159265, 3.14159265])"
      ]
     },
     "execution_count": 10,
     "metadata": {},
     "output_type": "execute_result"
    }
   ],
   "source": [
    "pi_ = np.full((15), np.pi)\n",
    "pi_"
   ]
  },
  {
   "cell_type": "code",
   "execution_count": 44,
   "id": "ca450b38-91fb-4466-9622-875444b4e0f1",
   "metadata": {},
   "outputs": [
    {
     "data": {
      "text/plain": [
       "array([ 0,  2,  4,  6,  8, 10, 12, 14, 16, 18, 20, 22, 24, 26, 28, 30, 32,\n",
       "       34, 36, 38, 40, 42, 44, 46, 48])"
      ]
     },
     "execution_count": 44,
     "metadata": {},
     "output_type": "execute_result"
    }
   ],
   "source": [
    "# an 1D array with elements between 0 and 50, stepping by 2\n",
    "one_d = np.arange(0, 50, 2)\n",
    "one_d"
   ]
  },
  {
   "cell_type": "code",
   "execution_count": 45,
   "id": "6e1605cf-34e0-48f8-bd3f-10a0fee7b5b2",
   "metadata": {},
   "outputs": [
    {
     "data": {
      "text/plain": [
       "array([[ 0.39220412, -0.47762695,  0.47331774,  1.69140022, -0.57057201],\n",
       "       [ 1.12293504, -1.57591732,  0.68556898,  0.09124149, -0.60237266],\n",
       "       [-1.10300214, -0.14476676, -0.35098944,  0.61556337,  0.28929372],\n",
       "       [-0.68313017,  0.22380647, -0.99048252, -0.96561917, -0.29369189]])"
      ]
     },
     "execution_count": 45,
     "metadata": {},
     "output_type": "execute_result"
    }
   ],
   "source": [
    "# an array of random numbers of 0 mean and unit std; choose the size yourselves\n",
    "random_numbers = np.random.randn(4,5)\n",
    "random_numbers"
   ]
  },
  {
   "cell_type": "code",
   "execution_count": 46,
   "id": "a6de7eb1-02bd-4981-a788-f8751ba19a85",
   "metadata": {},
   "outputs": [
    {
     "data": {
      "text/plain": [
       "array([ 50.,  51.,  52.,  53.,  54.,  55.,  56.,  57.,  58.,  59.,  60.,\n",
       "        61.,  62.,  63.,  64.,  65.,  66.,  67.,  68.,  69.,  70.,  71.,\n",
       "        72.,  73.,  74.,  75.,  76.,  77.,  78.,  79.,  80.,  81.,  82.,\n",
       "        83.,  84.,  85.,  86.,  87.,  88.,  89.,  90.,  91.,  92.,  93.,\n",
       "        94.,  95.,  96.,  97.,  98.,  99., 100., 101., 102., 103., 104.,\n",
       "       105., 106., 107., 108., 109., 110., 111., 112., 113., 114., 115.,\n",
       "       116., 117., 118., 119., 120., 121., 122., 123., 124., 125., 126.,\n",
       "       127., 128., 129., 130., 131., 132., 133., 134., 135., 136., 137.,\n",
       "       138., 139., 140., 141., 142., 143., 144., 145., 146., 147., 148.,\n",
       "       149., 150., 151., 152., 153., 154., 155., 156., 157., 158., 159.,\n",
       "       160., 161., 162., 163., 164., 165., 166., 167., 168., 169., 170.,\n",
       "       171., 172., 173., 174., 175., 176., 177., 178., 179., 180., 181.,\n",
       "       182., 183., 184., 185., 186., 187., 188., 189., 190., 191., 192.,\n",
       "       193., 194., 195., 196., 197., 198., 199., 200., 201., 202., 203.,\n",
       "       204., 205., 206., 207., 208., 209., 210., 211., 212., 213., 214.,\n",
       "       215., 216., 217., 218., 219., 220., 221., 222., 223., 224., 225.,\n",
       "       226., 227., 228., 229., 230., 231., 232., 233., 234., 235., 236.,\n",
       "       237., 238., 239., 240., 241., 242., 243., 244., 245., 246., 247.,\n",
       "       248., 249.])"
      ]
     },
     "execution_count": 46,
     "metadata": {},
     "output_type": "execute_result"
    }
   ],
   "source": [
    "# create an array of even numbers between 100 and 500 and then divide it by 2\n",
    "even_numbers = np.arange(100, 500, 2) / 2\n",
    "even_numbers"
   ]
  },
  {
   "cell_type": "markdown",
   "id": "c45690f2",
   "metadata": {},
   "source": [
    "##### Part B: Practing indexing and slicing\n",
    "\n",
    "Given the array below, access the following elements:\n",
    "\n",
    "* access 39 using negative indexing\n",
    "* slice the first five elements of each row\n",
    "* slice the numbers between 0 and 5\n",
    "* slice all the odd numbers (use Boolean indexing)"
   ]
  },
  {
   "cell_type": "code",
   "execution_count": 11,
   "id": "71353da3",
   "metadata": {},
   "outputs": [
    {
     "data": {
      "text/plain": [
       "array([[ 0,  1,  2,  3,  4,  5,  6,  7,  8,  9, 10, 11, 12, 13, 14, 15,\n",
       "        16, 17, 18, 19],\n",
       "       [20, 21, 22, 23, 24, 25, 26, 27, 28, 29, 30, 31, 32, 33, 34, 35,\n",
       "        36, 37, 38, 39]])"
      ]
     },
     "execution_count": 11,
     "metadata": {},
     "output_type": "execute_result"
    }
   ],
   "source": [
    "test1 = np.arange(0,40).reshape(2,20)\n",
    "test1"
   ]
  },
  {
   "cell_type": "code",
   "execution_count": 14,
   "id": "e7de5362-0b11-4668-bc96-e74d3703771e",
   "metadata": {},
   "outputs": [
    {
     "data": {
      "text/plain": [
       "39"
      ]
     },
     "execution_count": 14,
     "metadata": {},
     "output_type": "execute_result"
    }
   ],
   "source": [
    "test1[1,-1]"
   ]
  },
  {
   "cell_type": "code",
   "execution_count": 48,
   "id": "98e816d9-425d-4370-80d3-49cda1afbc77",
   "metadata": {},
   "outputs": [
    {
     "data": {
      "text/plain": [
       "array([[ 0,  1,  2,  3,  4],\n",
       "       [20, 21, 22, 23, 24]])"
      ]
     },
     "execution_count": 48,
     "metadata": {},
     "output_type": "execute_result"
    }
   ],
   "source": [
    "# slice the first five elements of each row\n",
    "first_five_elements = test1[:,0:5]\n",
    "first_five_elements"
   ]
  },
  {
   "cell_type": "code",
   "execution_count": 51,
   "id": "16e52e31-90f3-4d1e-9378-b77100dcdb8a",
   "metadata": {},
   "outputs": [
    {
     "data": {
      "text/plain": [
       "array([0, 1, 2, 3, 4])"
      ]
     },
     "execution_count": 51,
     "metadata": {},
     "output_type": "execute_result"
    }
   ],
   "source": [
    "# slice the numbers between 0 and 5\n",
    "between_zero_five = test1[0,0:5]\n",
    "between_zero_five"
   ]
  },
  {
   "cell_type": "code",
   "execution_count": 49,
   "id": "03e01f05-ab00-447d-bfad-4b94fb1fec9e",
   "metadata": {},
   "outputs": [
    {
     "data": {
      "text/plain": [
       "array([ 1,  3,  5,  7,  9, 11, 13, 15, 17, 19, 21, 23, 25, 27, 29, 31, 33,\n",
       "       35, 37, 39])"
      ]
     },
     "execution_count": 49,
     "metadata": {},
     "output_type": "execute_result"
    }
   ],
   "source": [
    "# slice all the odd numbers (use Boolean indexing)\n",
    "all_odd = test1[test1 %2 != 0]\n",
    "all_odd"
   ]
  },
  {
   "cell_type": "markdown",
   "id": "b99eb5da",
   "metadata": {},
   "source": [
    "#### Task 2: Snails\n",
    "\n",
    "The snails data can be found in the dataLab folder. \n",
    "\n",
    "Groups of 20 snails were held for periods of 1, 2, 3 or 4 weeks in carefully controlled conditions of temperature\n",
    "and relative humidity. The two species of snails are labelled as 0 and 1. At the end of the exposure time the snails were tested to see if\n",
    "they had survived.\n",
    "\n",
    "Data format, 6 columns as follows: \n",
    "    \n",
    "    * species (0 or 1)\n",
    "    * exposure (weeks)\n",
    "    * humidity\n",
    "    * temperature\n",
    "    * ndeaths\n",
    "    * nsnails (initial number at the start)\n",
    "    \n",
    "    \n",
    "    \n",
    "**What you need to do**: \n",
    "\n",
    "* Read the data. Use numpy!\n",
    "* Practice indexing and slicing: \n",
    "        * temperature of last entry\n",
    "        * humidity of the 5th entry\n",
    "        * get 2nd and 3rd column\n",
    "        * get the first 5 rows\n",
    "        \n",
    "* Compute the following: \n",
    "        * total number of deaths :(\n",
    "        * total number of snails that survived :)\n",
    "        * max temperature\n",
    "        * mean humidity\n",
    "        * average death rate \n",
    "* Split the snails in 2 arrays based on their species\n",
    "* Which group of snails has the highest average death rate? \n",
    "* What are the optimum living conditions (temperature and humidity) for snails? Use only snails kept for the full duration of the experiment. \n"
   ]
  },
  {
   "cell_type": "code",
   "execution_count": 15,
   "id": "9d15f16b",
   "metadata": {},
   "outputs": [],
   "source": [
    "file = np.loadtxt(\"labData/snails.txt\")"
   ]
  },
  {
   "cell_type": "code",
   "execution_count": 21,
   "id": "eb31e743-9bb4-4eed-99ca-b79cd4103efa",
   "metadata": {},
   "outputs": [],
   "source": [
    "#np.set_printoptions(suppress=True)"
   ]
  },
  {
   "cell_type": "markdown",
   "id": "85abaf31-fe6d-428f-8c9b-cac446b5ef49",
   "metadata": {},
   "source": [
    "columns are * species (0 or 1) * exposure (weeks) * humidity * temperature * ndeaths * nsnails (initial number at the start)"
   ]
  },
  {
   "cell_type": "code",
   "execution_count": null,
   "id": "4e0608d3-55a3-4a31-98ab-980f7a34f1e8",
   "metadata": {},
   "outputs": [],
   "source": []
  },
  {
   "cell_type": "code",
   "execution_count": 19,
   "id": "ecceb050-17fa-4860-a31a-f4ddea1763f5",
   "metadata": {},
   "outputs": [
    {
     "data": {
      "text/plain": [
       "(96, 6)"
      ]
     },
     "execution_count": 19,
     "metadata": {},
     "output_type": "execute_result"
    }
   ],
   "source": [
    "file.shape"
   ]
  },
  {
   "cell_type": "code",
   "execution_count": 24,
   "id": "ac0cbbd0-9124-475a-ab84-0166f0acdae4",
   "metadata": {},
   "outputs": [
    {
     "data": {
      "text/plain": [
       "20.0"
      ]
     },
     "execution_count": 24,
     "metadata": {},
     "output_type": "execute_result"
    }
   ],
   "source": [
    "# temperature of last entry\n",
    "last_entry_temp = file[95,3]\n",
    "last_entry_temp"
   ]
  },
  {
   "cell_type": "code",
   "execution_count": 26,
   "id": "a7ddf834-8dc5-49cd-87a7-af3b52c4b1e7",
   "metadata": {},
   "outputs": [
    {
     "data": {
      "text/plain": [
       "75.8"
      ]
     },
     "execution_count": 26,
     "metadata": {},
     "output_type": "execute_result"
    }
   ],
   "source": [
    "# humidity of the 5th entry\n",
    "humidity_last_entry = file[95,2]\n",
    "humidity_last_entry"
   ]
  },
  {
   "cell_type": "code",
   "execution_count": null,
   "id": "68de9f40-78ae-41f2-b219-339d96ab89fe",
   "metadata": {},
   "outputs": [],
   "source": [
    "# get 2nd and 3rd column\n",
    "second_third_columns = file[:,2:4]\n",
    "second_third_columns"
   ]
  },
  {
   "cell_type": "code",
   "execution_count": 29,
   "id": "9faee061-513a-4e37-ac62-3d2fabd45745",
   "metadata": {},
   "outputs": [
    {
     "data": {
      "text/plain": [
       "array([[ 0. ,  1. , 60. , 10. ,  0. , 20. ],\n",
       "       [ 0. ,  1. , 60. , 15. ,  0. , 20. ],\n",
       "       [ 0. ,  1. , 60. , 20. ,  0. , 20. ],\n",
       "       [ 0. ,  1. , 65.8, 10. ,  0. , 20. ],\n",
       "       [ 0. ,  1. , 65.8, 15. ,  0. , 20. ]])"
      ]
     },
     "execution_count": 29,
     "metadata": {},
     "output_type": "execute_result"
    }
   ],
   "source": [
    "# get the first 5 rows\n",
    "first_five_rows = file[0:5,:]\n",
    "first_five_rows"
   ]
  },
  {
   "cell_type": "markdown",
   "id": "32a81545-0560-409b-a9a2-af65b93b1d3f",
   "metadata": {},
   "source": [
    "### Calculations"
   ]
  },
  {
   "cell_type": "code",
   "execution_count": 31,
   "id": "2c2e9b84-1f86-49f1-ac18-accaa8699a39",
   "metadata": {},
   "outputs": [
    {
     "data": {
      "text/plain": [
       "275.0"
      ]
     },
     "execution_count": 31,
     "metadata": {},
     "output_type": "execute_result"
    }
   ],
   "source": [
    "# total number of deaths\n",
    "total_number_deaths = file[:,4].sum()\n",
    "total_number_deaths"
   ]
  },
  {
   "cell_type": "code",
   "execution_count": 84,
   "id": "7ec51085-6d81-4f2b-aa34-73eca3619b2e",
   "metadata": {},
   "outputs": [
    {
     "data": {
      "text/plain": [
       "array([20., 20., 20., 20., 20., 20., 20., 20., 20., 20., 20., 20., 20.,\n",
       "       19., 19., 20., 19., 20., 20., 20., 20., 20., 20., 20., 19., 16.,\n",
       "       15., 20., 18., 16., 20., 18., 17., 20., 19., 18., 13., 13., 13.,\n",
       "       16., 16., 13., 17., 17., 15., 18., 17., 17., 20., 20., 20., 20.,\n",
       "       20., 20., 20., 20., 20., 20., 20., 20., 20., 17., 18., 20., 18.,\n",
       "       19., 20., 20., 19., 19., 20., 19., 13.,  9.,  9., 16., 15., 11.,\n",
       "       18., 16., 14., 18., 17., 15.,  8.,  6.,  4., 10.,  8.,  8., 15.,\n",
       "       13., 11., 16., 15., 13.])"
      ]
     },
     "execution_count": 84,
     "metadata": {},
     "output_type": "execute_result"
    }
   ],
   "source": [
    "# total number of snails that survived\n",
    "# survived = initial - death\n",
    "survived = file[:,5] - file[:,4]\n",
    "survived"
   ]
  },
  {
   "cell_type": "code",
   "execution_count": 37,
   "id": "ea7007a9-7526-4183-b635-71d046be528a",
   "metadata": {},
   "outputs": [
    {
     "name": "stdout",
     "output_type": "stream",
     "text": [
      "The total number of snails that survived are 1645.0\n"
     ]
    }
   ],
   "source": [
    "# total nuber that survived\n",
    "print(f\"The total number of snails that survived are {np.sum(survived)}\")"
   ]
  },
  {
   "cell_type": "code",
   "execution_count": 38,
   "id": "9afb7149-b5a5-47f9-9842-f599c3e626b6",
   "metadata": {},
   "outputs": [
    {
     "name": "stdout",
     "output_type": "stream",
     "text": [
      "The maximum temperature is 20.0\n"
     ]
    }
   ],
   "source": [
    "# maximum temperature (column 3)\n",
    "print(f\"The maximum temperature is {file[:,3].max()}\")"
   ]
  },
  {
   "cell_type": "code",
   "execution_count": 39,
   "id": "b24be773-d44f-4b74-8ae1-01624a407c32",
   "metadata": {},
   "outputs": [
    {
     "name": "stdout",
     "output_type": "stream",
     "text": [
      "The mean humidity is 68.02499999999999\n"
     ]
    }
   ],
   "source": [
    "# mean humidity\n",
    "print(f\"The mean humidity is {file[:,2].mean()}\")"
   ]
  },
  {
   "cell_type": "code",
   "execution_count": 42,
   "id": "c5d10a04-be33-4b13-a161-0cb0bd7e6228",
   "metadata": {},
   "outputs": [
    {
     "name": "stdout",
     "output_type": "stream",
     "text": [
      "The average death rate per week is 68.75\n"
     ]
    }
   ],
   "source": [
    "# average death rate = total death / total time\n",
    "print(f\"The average death rate per week is {(file[:,4].sum())/4}\")"
   ]
  },
  {
   "cell_type": "code",
   "execution_count": 75,
   "id": "45927aa6-4f1c-40d1-bc60-c0f3f7341224",
   "metadata": {},
   "outputs": [],
   "source": [
    "#file[file[:,0]==0]"
   ]
  },
  {
   "cell_type": "code",
   "execution_count": 77,
   "id": "d3e0174e-3ef2-4af4-af71-59880097eec8",
   "metadata": {},
   "outputs": [],
   "source": [
    "# Split the snails in 2 arrays based on their species\n",
    "species0 = file[file[:,0] == 0]\n",
    "species1 = file[file[:,0] == 1]\n",
    "#species0, species1"
   ]
  },
  {
   "cell_type": "code",
   "execution_count": 79,
   "id": "201a1e29-05ca-497a-8689-37606270fac9",
   "metadata": {},
   "outputs": [
    {
     "name": "stdout",
     "output_type": "stream",
     "text": [
      "The death rate for species 0 is 20.5 and 48.25 for species 1\n"
     ]
    }
   ],
   "source": [
    "# Which group of snails has the highest average death rate?\n",
    "species0_death_rate = species0[:,4].sum()/4\n",
    "species1_death_rate = species1[:,4].sum()/4\n",
    "print(f\"The death rate for species 0 is {species0_death_rate} and {species1_death_rate} for species 1\")"
   ]
  },
  {
   "cell_type": "markdown",
   "id": "b3c01df4-1d36-4c6b-b4dd-30fb19226ed8",
   "metadata": {},
   "source": [
    "Thus, Species 1 has the highest death rate per week"
   ]
  },
  {
   "cell_type": "code",
   "execution_count": 98,
   "id": "fc8fd587-bd4c-4558-8c4c-44a79d8eb67f",
   "metadata": {},
   "outputs": [],
   "source": [
    "# What are the optimum living conditions (temperature and humidity) for snails?\n",
    "# Use only snails kept for the full duration of the experiment.\n",
    "least_death = file[file[:,1] == 4]"
   ]
  }
 ],
 "metadata": {
  "kernelspec": {
   "display_name": "Python 3 (ipykernel)",
   "language": "python",
   "name": "python3"
  },
  "language_info": {
   "codemirror_mode": {
    "name": "ipython",
    "version": 3
   },
   "file_extension": ".py",
   "mimetype": "text/x-python",
   "name": "python",
   "nbconvert_exporter": "python",
   "pygments_lexer": "ipython3",
   "version": "3.10.4"
  }
 },
 "nbformat": 4,
 "nbformat_minor": 5
}
