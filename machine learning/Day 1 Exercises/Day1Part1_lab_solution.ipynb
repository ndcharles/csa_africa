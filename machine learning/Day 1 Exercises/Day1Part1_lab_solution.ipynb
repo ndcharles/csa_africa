{
 "cells": [
  {
   "cell_type": "markdown",
   "id": "3faf493a",
   "metadata": {},
   "source": [
    "# Wk2 Trk1, Day 1, Part 1: 06/09/21\n",
    "<br>\n",
    "\n",
    "# Exercises: NumPy\n",
    "---\n",
    "<br>\n",
    "\n",
    "\n",
    "Welcome to the first half of today's lab! In this lab, we are going to practice the fundamentals of numpy by creating arrays, accessing elements, subsetting using Boolean indexing and finally, we are also going to practice some well known numpy functions. \n",
    "\n",
    "\n",
    "Of course, we are not able to cover it all and as such we recommend the online resouces below. As always, documentation is your friend, so make sure you have a look if uncertain. \n",
    "\n",
    "Useful references: \n",
    "* [Official NumPy reference ](https://numpy.org/doc/stable/reference/index.html)\n",
    "* [Cheatsheet](https://s3.amazonaws.com/assets.datacamp.com/blog_assets/Numpy_Python_Cheat_Sheet.pdf)\n"
   ]
  },
  {
   "cell_type": "code",
   "execution_count": 1,
   "id": "5c4d44e1",
   "metadata": {},
   "outputs": [],
   "source": [
    "#first step if we want to use functions that have been already implemented in a library is to import that library\n",
    "\n",
    "#traditional way of importing numpy\n",
    "import numpy as np"
   ]
  },
  {
   "cell_type": "markdown",
   "id": "b0225a14",
   "metadata": {},
   "source": [
    "#### Task 1: Mastering the basics"
   ]
  },
  {
   "cell_type": "markdown",
   "id": "2002afa1",
   "metadata": {},
   "source": [
    "##### Part A: Create some arrays\n",
    "\n",
    "\n",
    "* Create an array from the following list \n",
    "        sample_list = [1.0,4.0,9.0,23.0]\n",
    "\n",
    "* **Do not use** *np.array* for the next problems: \n",
    "    * create a 10 x 10 matrix of all ones\n",
    "    * a 15 element vector, with all elements equal to np.pi\n",
    "    * an 1D array with elements between 0 and 50, stepping by 2\n",
    "    * an array of random numbers of 0 mean and unit std; choose the size yourselves \n",
    "    * create an array of even numbers between 100 and 500 and then divide it by 2\n",
    "\n",
    "\n",
    "\n"
   ]
  },
  {
   "cell_type": "code",
   "execution_count": 2,
   "id": "c7d4ffb3",
   "metadata": {},
   "outputs": [],
   "source": [
    "#YOUR CODE GOES HERE\n",
    "\n",
    "#those should be relatively easy if they attended the lecture. \n",
    "#Do not help too much here and encourage them to look at the documentation"
   ]
  },
  {
   "cell_type": "code",
   "execution_count": 3,
   "id": "7abda0cb",
   "metadata": {},
   "outputs": [],
   "source": [
    "sample_array = np.array([1.0,4.0,9.0,23.0])\n",
    "\n",
    "ten_by_ten = np.ones((10,10))\n",
    "\n",
    "pi_el = np.full(15,np.pi)\n",
    "\n",
    "arr_to50 = np.arange(50,step=2)\n",
    "\n",
    "r = np.random.normal(0, 1, (40,))\n",
    "\n",
    "even = np.arange(100,500,2)\n",
    "res = even/2"
   ]
  },
  {
   "cell_type": "markdown",
   "id": "c45690f2",
   "metadata": {},
   "source": [
    "##### Part B: Practing indexing and slicing\n",
    "\n",
    "Given the array below, access the following elements:\n",
    "\n",
    "* access 39 using negative indexing\n",
    "* slice the first five elements of each row\n",
    "* slice the numbers between 0 and 5\n",
    "* slice all the odd numbers (use Boolean indexing)"
   ]
  },
  {
   "cell_type": "code",
   "execution_count": 4,
   "id": "71353da3",
   "metadata": {},
   "outputs": [],
   "source": [
    "test1 = np.arange(0,40).reshape(2,20)"
   ]
  },
  {
   "cell_type": "code",
   "execution_count": 5,
   "id": "3345a968",
   "metadata": {},
   "outputs": [
    {
     "name": "stdout",
     "output_type": "stream",
     "text": [
      "[[ 0  1  2  3  4  5  6  7  8  9 10 11 12 13 14 15 16 17 18 19]\n",
      " [20 21 22 23 24 25 26 27 28 29 30 31 32 33 34 35 36 37 38 39]]\n",
      "----------\n",
      "39\n",
      "----------\n",
      "[[ 0  1  2  3  4]\n",
      " [20 21 22 23 24]]\n",
      "----------\n",
      "[0 1 2 3 4]\n",
      "----------\n",
      "[ 1  3  5  7  9 11 13 15 17 19 21 23 25 27 29 31 33 35 37 39]\n"
     ]
    }
   ],
   "source": [
    "## YOUR CODE GOES HERE\n",
    "\n",
    "print (test1)\n",
    "print (\"----------\")\n",
    "print (test1[1,-1])\n",
    "print (\"----------\")\n",
    "print (test1[:,:5])\n",
    "print (\"----------\")\n",
    "print (test1[test1<5])\n",
    "print (\"----------\")\n",
    "print (test1[test1%2!=0])\n"
   ]
  },
  {
   "cell_type": "markdown",
   "id": "b99eb5da",
   "metadata": {},
   "source": [
    "#### Task 2: Snails\n",
    "\n",
    "The snails data can be found in the dataLab folder. \n",
    "\n",
    "Groups of 20 snails were held for periods of 1, 2, 3 or 4 weeks in carefully controlled conditions of temperature\n",
    "and relative humidity. The two species of snails are labelled as 0 and 1. At the end of the exposure time the snails were tested to see if\n",
    "they had survived.\n",
    "\n",
    "Data format, 6 columns as follows: \n",
    "    * species (0 or 1)\n",
    "    * exposure (weeks)\n",
    "    * humidity\n",
    "    * temperature\n",
    "    * ndeaths\n",
    "    * nsnails (initial number at the start)\n",
    "    \n",
    "    \n",
    "    \n",
    "**What you need to do**: \n",
    "\n",
    "* Read the data. Use numpy!\n",
    "* Practice indexing and slicing: \n",
    "        * temperature of last entry\n",
    "        * humidity of the 5th entry\n",
    "        * get 2nd and 3rd column\n",
    "        * get the first 5 rows\n",
    "        \n",
    "* Compute the following: \n",
    "        * total number of deaths :(\n",
    "        * total number of snails that survived :)\n",
    "        * max temperature\n",
    "        * mean humidity\n",
    "        * average death rate \n",
    "* Split the snails in 2 arrays based on their species\n",
    "* Which group of snails has the highest average death rate? \n",
    "* What are the optimum living conditions (temperature and humidity) for snails? Use only snails kept for the full duration of the experiment. \n"
   ]
  },
  {
   "cell_type": "code",
   "execution_count": 10,
   "id": "9d15f16b",
   "metadata": {},
   "outputs": [],
   "source": [
    "snails = np.loadtxt(\"labData/snails.txt\")"
   ]
  },
  {
   "cell_type": "code",
   "execution_count": 50,
   "id": "5b914414",
   "metadata": {},
   "outputs": [
    {
     "name": "stdout",
     "output_type": "stream",
     "text": [
      "[[ 0.   1.  60.  10.   0.  20. ]\n",
      " [ 0.   1.  60.  15.   0.  20. ]\n",
      " [ 0.   1.  60.  20.   0.  20. ]\n",
      " [ 0.   1.  65.8 10.   0.  20. ]\n",
      " [ 0.   1.  65.8 15.   0.  20. ]]\n"
     ]
    }
   ],
   "source": [
    "temp_last = snails[-1,3]\n",
    "hum_5th = snails[4,2]\n",
    "cols_2_3 = snails[:,1:3]\n",
    "first_5 = snails[:5,:]"
   ]
  },
  {
   "cell_type": "code",
   "execution_count": 53,
   "id": "fc1482b8",
   "metadata": {},
   "outputs": [],
   "source": [
    "total_deaths = np.sum(snails[:,4])\n",
    "alive = np.sum(snails[:,5]) - total_deaths\n",
    "max_temp = np.max(snails[:,3])\n",
    "mean_hum = np.mean(snails[:,2])\n",
    "average_death_rate = np.mean(snails[:,4]/ snails[:,5])"
   ]
  },
  {
   "cell_type": "code",
   "execution_count": 54,
   "id": "8c4ad757",
   "metadata": {},
   "outputs": [],
   "source": [
    "species_0 = snails[snails[:,0]==0]\n",
    "species_1 = snails[snails[:,0]==1]"
   ]
  },
  {
   "cell_type": "code",
   "execution_count": 55,
   "id": "c6658705",
   "metadata": {},
   "outputs": [
    {
     "name": "stdout",
     "output_type": "stream",
     "text": [
      "weakest_snail\n",
      " 1\n"
     ]
    }
   ],
   "source": [
    "average_death_rate_0 = np.mean(species_0[:,4]/ species_0[:,5])\n",
    "average_death_rate_1 = np.mean(species_1[:,4]/ species_1[:,5])\n",
    "\n",
    "weakest_snail = 0 if average_death_rate_0>average_death_rate_1 else 1\n",
    "print(\"weakest_snail\\n\",weakest_snail)"
   ]
  },
  {
   "cell_type": "code",
   "execution_count": 58,
   "id": "784f3048",
   "metadata": {},
   "outputs": [],
   "source": [
    "#optimum living condition \n",
    "deaths = snails[:,4]/ snails[:,5]\n",
    "death_rate = np.sort(deaths)\n",
    "\n",
    "death_rate_order = np.argsort(deaths)\n",
    "exposure_death_order = snails[:,1][death_rate_order]\n",
    "\n",
    "week_4 = snails[snails[:,1]==4]\n",
    "week_4_deaths = week_4[:,4]/ week_4[:,5]\n",
    "\n",
    "best_conditions = np.argmin(week_4_deaths)"
   ]
  },
  {
   "cell_type": "code",
   "execution_count": null,
   "id": "75c0f191",
   "metadata": {},
   "outputs": [],
   "source": []
  }
 ],
 "metadata": {
  "kernelspec": {
   "display_name": "Python 3 (ipykernel)",
   "language": "python",
   "name": "python3"
  },
  "language_info": {
   "codemirror_mode": {
    "name": "ipython",
    "version": 3
   },
   "file_extension": ".py",
   "mimetype": "text/x-python",
   "name": "python",
   "nbconvert_exporter": "python",
   "pygments_lexer": "ipython3",
   "version": "3.10.4"
  }
 },
 "nbformat": 4,
 "nbformat_minor": 5
}
