{
 "cells": [
  {
   "cell_type": "markdown",
   "metadata": {
    "slideshow": {
     "slide_type": "slide"
    }
   },
   "source": [
    "## Python programming paradigms\n",
    "\n",
    "Python supports different programming approaches:\n",
    "\n",
    "* procedural programming: set of steps in the form of functions and code blocks that flow sequentially\n",
    "\n",
    "* functional programming: programs that uses higher-order functions: map, reduce, filter, etc.\n",
    "\n",
    "* event-driven programming: graphical user interface programs where functions are called in response to clicks on buttons.\n",
    "\n",
    "In this lecture, we will study object-oriented programming, which is an approach used to solve a programming problem by creating **objects**."
   ]
  },
  {
   "cell_type": "markdown",
   "metadata": {
    "slideshow": {
     "slide_type": "slide"
    }
   },
   "source": [
    "## Outline\n",
    "In this lecture, we will cover:\n",
    "* objects and classes\n",
    "* defining a class\n",
    "* class variables and instance variables\n",
    "* instance methods\n",
    "* special methods\n",
    "* operator overloading"
   ]
  },
  {
   "cell_type": "markdown",
   "metadata": {
    "slideshow": {
     "slide_type": "slide"
    }
   },
   "source": [
    "## What is an object?\n",
    "\n",
    "<div class=\"alert alert-info\"> \n",
    "    <b><u>DEFINITION </u> </b>\n",
    "    <br> <br>\n",
    "    An <b>object</b> is a collection of data along with <b>attributes (properties)</b> and <b>methods (functions)</b> that act on those data via the dot <b>( . )</b> syntax.\n",
    "</div>\n",
    "\n",
    "<div class=\"alert alert-info\"> \n",
    "    Everything in Python is an object!\n",
    "</div>"
   ]
  },
  {
   "cell_type": "code",
   "execution_count": null,
   "metadata": {
    "slideshow": {
     "slide_type": "slide"
    }
   },
   "outputs": [],
   "source": [
    "a = 3 + 2j\n",
    "\n",
    "# object type\n",
    "print(type(a))\n",
    "\n",
    "# attributes of complex object\n",
    "print(a.real) # the real value\n",
    "print(a.imag) # the imaginary value\n",
    "\n",
    "# methods are similar to attributes\n",
    "# except they are functions that you can call\n",
    "# using opening and closing parentheses\n",
    "print(a.conjugate())"
   ]
  },
  {
   "cell_type": "code",
   "execution_count": null,
   "metadata": {
    "slideshow": {
     "slide_type": "slide"
    }
   },
   "outputs": [],
   "source": [
    "# attributes of int object\n",
    "\n",
    "a = 3\n",
    "print(f\"{a.numerator} / {a.denominator}\")"
   ]
  },
  {
   "cell_type": "code",
   "execution_count": null,
   "metadata": {
    "slideshow": {
     "slide_type": "slide"
    }
   },
   "outputs": [],
   "source": [
    "# method of float object\n",
    "\n",
    "b = float(3)\n",
    "print(b.is_integer())"
   ]
  },
  {
   "cell_type": "code",
   "execution_count": null,
   "metadata": {
    "slideshow": {
     "slide_type": "skip"
    }
   },
   "outputs": [],
   "source": [
    "dir(int)"
   ]
  },
  {
   "cell_type": "code",
   "execution_count": null,
   "metadata": {
    "slideshow": {
     "slide_type": "skip"
    }
   },
   "outputs": [],
   "source": [
    "# use .__dict__ to access attributes and methods of an object\n",
    "\n",
    "int.__dict__"
   ]
  },
  {
   "cell_type": "code",
   "execution_count": null,
   "metadata": {
    "slideshow": {
     "slide_type": "skip"
    }
   },
   "outputs": [],
   "source": [
    "# use the help function if you want to know\n",
    "# what a specific method does\n",
    "\n",
    "help(a.bit_length)"
   ]
  },
  {
   "cell_type": "markdown",
   "metadata": {
    "slideshow": {
     "slide_type": "slide"
    }
   },
   "source": [
    "<div class=\"alert alert-info\"> \n",
    "    <b>Recall</b>: An object contains data and has two characteristics: attributes and methods.\n",
    "</div>\n"
   ]
  },
  {
   "cell_type": "markdown",
   "metadata": {
    "slideshow": {
     "slide_type": "slide"
    }
   },
   "source": [
    "### Object-oriented programming\n",
    "\n",
    "Object-oriented programming is a paradigm that provides a means of solving programming problems by creating **objects**. Highlight is that it focuses on creating reusable and maintanable code, which is very important for software development.\n",
    "\n",
    "For instance, we have all been using the `list` data type but we have never had to physically copy the source code onto our computers to enjoy all of its functionalities: `.append`, `.remove`, `.count`, and so on. This is because someone has gone through the stress of packaging it in a reusable way, by designing a \"blueprint\" for it.\n",
    "\n",
    "```Python\n",
    "lst = list()\n",
    "# we create an object from the \"list\" blueprint\n",
    "# this \"blueprint\" is referred to as a **Class**.\n",
    "```\n",
    "\n",
    "<img src=\"imgs/house.png\" width=90%> \n",
    "\n",
    "_Image credit_ : <a href=\"https://www.tutorialrepublic.com/php-tutorial/php-classes-and-objects.php\"> Tutorial Republic </a>\n",
    "\n"
   ]
  },
  {
   "cell_type": "markdown",
   "metadata": {
    "slideshow": {
     "slide_type": "slide"
    }
   },
   "source": [
    "<br>\n",
    "\n",
    "## Class\n",
    "\n",
    "* Our goal is to solve programming problems by creating objects\n",
    "* To create an object, first we need to design the blueprint\n",
    "* To design the blueprint, we need to define a class"
   ]
  },
  {
   "cell_type": "markdown",
   "metadata": {
    "slideshow": {
     "slide_type": "slide"
    }
   },
   "source": [
    "### Defining a class\n",
    "\n",
    "* In Python, a class is defined by using the `class` keyword, followed by the name of the class and a colon.\n",
    "* Similar to how you define functions, any code that is indented below the class definition is considered part of the class's body.\n",
    "\n",
    "<div class=\"alert alert-info\"> \n",
    "    <b>NOTE</b>: By convention, Python class names should follow the CapitalisedWords notation.\n",
    "    \n",
    "</div>"
   ]
  },
  {
   "cell_type": "code",
   "execution_count": null,
   "metadata": {
    "slideshow": {
     "slide_type": "slide"
    }
   },
   "outputs": [],
   "source": [
    "class Car:    \n",
    "    # attributes\n",
    "    # methods\n",
    "    pass"
   ]
  },
  {
   "cell_type": "markdown",
   "metadata": {
    "slideshow": {
     "slide_type": "-"
    }
   },
   "source": [
    "<img src=\"imgs/car.png\" width=90%> \n",
    "\n",
    "_Image credit_ : <a href=\"https://www.faceprep.in/python/classes-and-objects-in-python/\"> Face Prep </a>"
   ]
  },
  {
   "cell_type": "code",
   "execution_count": null,
   "metadata": {
    "slideshow": {
     "slide_type": "-"
    }
   },
   "outputs": [],
   "source": [
    "dacia = Car()\n",
    "# Dacia is an object created from the class Car\n",
    "# Dacia is an **instance** of class Car"
   ]
  },
  {
   "cell_type": "code",
   "execution_count": null,
   "metadata": {
    "slideshow": {
     "slide_type": "skip"
    }
   },
   "outputs": [],
   "source": [
    "bmw = Car()\n",
    "# bmw is another object created from the class Car\n",
    "\n",
    "# From one class, we can create multiple objects"
   ]
  },
  {
   "cell_type": "markdown",
   "metadata": {
    "slideshow": {
     "slide_type": "slide"
    }
   },
   "source": [
    "<br>\n",
    "\n",
    "### Overview of class terminologies\n",
    "\n",
    "* **Object**: an entity that contains data, along with attributes and methods.\n",
    "\n",
    "* **Class**: a blueprint for an object.\n",
    "\n",
    "* **Attributes**: the properties or characteristics of the class\n",
    "\n",
    "* **Methods**: the behaviours or actions that can be performed by an object created from the class\n",
    "\n",
    "* **Instance**: an individual object of a certain class. For example, `dacia` is an instance of class `Car`."
   ]
  },
  {
   "cell_type": "markdown",
   "metadata": {
    "slideshow": {
     "slide_type": "slide"
    }
   },
   "source": [
    "### Attributes (Variables)\n",
    "\n",
    "* Instance variables\n",
    "* Class variables"
   ]
  },
  {
   "cell_type": "markdown",
   "metadata": {
    "slideshow": {
     "slide_type": "slide"
    }
   },
   "source": [
    "#### Instance variables"
   ]
  },
  {
   "cell_type": "code",
   "execution_count": null,
   "metadata": {
    "slideshow": {
     "slide_type": "-"
    }
   },
   "outputs": [],
   "source": [
    "# Instance variables\n",
    "\n",
    "class Student:\n",
    "    \n",
    "    # init method to initialise instance variables\n",
    "    def __init__(self, name, wid, group):\n",
    "        self.name = name        \n",
    "        self.wid = wid\n",
    "        self.group = group"
   ]
  },
  {
   "cell_type": "markdown",
   "metadata": {
    "slideshow": {
     "slide_type": "slide"
    }
   },
   "source": [
    "\n",
    "**Line 1.** The class `Student` is created.\n",
    "\n",
    "**Line 4.** The variables that all `Student` objects must have are defined in a method called `__init__()`. \n",
    "* `__init__()` is referred to as the **constructor** of the class. \n",
    "* Every time a new `Student` object is created, `__init__()` sets the initial state of the object by assigning the values of the object’s variables. \n",
    "* In essence, Python uses the `__init__()` method to initialize each new instance of the class.\n",
    "\n",
    "* You can give `__init__()` any number of parameters, but the first parameter will always be a variable called `self`. \n",
    "* When a new class instance is created, the instance is automatically passed to the `self` parameter in `__init__()` so that new variables can be defined on the object.\n",
    "* In our `Student` class, `__init__()` method has three variables: `name`, `wid` and `group`.\n",
    "\n",
    "**Lines 5 - 7.** Here, we have three statements under the body of `__init__()` that uses the `self` variable.\n",
    "* These variables: `self.name`, `self.wid` and `self.track` are referred to as the **instance variables**. \n",
    "* You MUST initialise all parameters within the `__init__()` method this way. \n",
    "\n",
    "* To access and update the value of an instance variable anywhere within the class, use `self.name_of_instance_variable`.\n",
    "* Just as you can call a function multiple times with different parameters, the value of an instance variable is specific to a particular instance of the class. All `Student` objects have a `name`, `wid` and `group`, but the values for these variables will vary depending on the `Student` instance.\n",
    "* Instance variables are to classes as global variables are to ordinary functions."
   ]
  },
  {
   "cell_type": "code",
   "execution_count": null,
   "metadata": {
    "slideshow": {
     "slide_type": "slide"
    }
   },
   "outputs": [],
   "source": [
    "# we create an instance from the Student class\n",
    " \n",
    "student1 = Student(\"Jaspreet Kaur\", \"PWSA001\", \"2A\")\n",
    "\n",
    "## we can access the variables using the dot notation\n",
    "student1.name, student1.group"
   ]
  },
  {
   "cell_type": "markdown",
   "metadata": {
    "slideshow": {
     "slide_type": "slide"
    }
   },
   "source": [
    "**Question**: There are four parameters in the `__init__()` method, why have we only passed three parameters in the `student1` instance above?\n",
    "\n",
    "<br>\n",
    "\n",
    "**Answer**: As soon as we created a new instance of the `Student` class and assigned it to the variable `student1`, Python automatically passed `student1` to the first parameter of `__init__()`. So, you do not have to worry about the `self` parameter when using your class, you only have to provide values for the remaining parameters; in our example:`name`, `wid` and `group`."
   ]
  },
  {
   "cell_type": "code",
   "execution_count": null,
   "metadata": {
    "slideshow": {
     "slide_type": "slide"
    }
   },
   "outputs": [],
   "source": [
    "# another instance from our Student class\n",
    "\n",
    "student2 = Student(\"Odemadighi Oye\", \"PWSA002\", \"2B\")\n",
    "\n",
    "student2.name, student2.wid"
   ]
  },
  {
   "cell_type": "markdown",
   "metadata": {
    "slideshow": {
     "slide_type": "slide"
    }
   },
   "source": [
    "#### Class variables"
   ]
  },
  {
   "cell_type": "code",
   "execution_count": 1,
   "metadata": {
    "slideshow": {
     "slide_type": "-"
    }
   },
   "outputs": [],
   "source": [
    "# Class variables\n",
    "\n",
    "class Student:\n",
    "    \n",
    "    # class variables    \n",
    "    track = \"Algorithms\"\n",
    "    total_students = 0\n",
    "    \n",
    "    # init method to initialise instance variables\n",
    "    def __init__(self, name, wid, group):\n",
    "        self.name = name        \n",
    "        self.wid = wid\n",
    "        self.group = group\n",
    "        Student.total_students += 1"
   ]
  },
  {
   "cell_type": "code",
   "execution_count": 2,
   "metadata": {},
   "outputs": [],
   "source": [
    "student1 = Student(\"Ifeoma Idk\", 14, \"first\")"
   ]
  },
  {
   "cell_type": "code",
   "execution_count": 8,
   "metadata": {},
   "outputs": [
    {
     "data": {
      "text/plain": [
       "1"
      ]
     },
     "execution_count": 8,
     "metadata": {},
     "output_type": "execute_result"
    }
   ],
   "source": [
    "Student.total_students"
   ]
  },
  {
   "cell_type": "markdown",
   "metadata": {
    "slideshow": {
     "slide_type": "slide"
    }
   },
   "source": [
    "**Lines 4 - 5.** Variables `track` and `total_students` are defined outside of the `__init__()` method because we want them to have the same value for all instances created from the class. They are referred to as **class variables**.\n",
    "* They must always be assigned an initial value\n",
    "* When an instance of `Student` is created, variables `track` and `total_students` are automatically created and assigned to their initial (or updated) values.\n",
    "\n",
    "**Line 12.** To access and update the value of a class variable anywhere within the class, use `ClassName.name_of_class_variable`."
   ]
  },
  {
   "cell_type": "code",
   "execution_count": null,
   "metadata": {
    "slideshow": {
     "slide_type": "slide"
    }
   },
   "outputs": [],
   "source": [
    "student1 = Student(\"Jaspreet Kaur\", \"PWSA001\", \"2A\")\n",
    "student2 = Student(\"Odemadighi Oye\", \"PWSA002\", \"2B\")\n",
    "\n",
    "# access student track\n",
    "# shared by all Student class\n",
    "\n",
    "print(student1.track)\n",
    "print(student2.track)"
   ]
  },
  {
   "cell_type": "code",
   "execution_count": null,
   "metadata": {
    "slideshow": {
     "slide_type": "-"
    }
   },
   "outputs": [],
   "source": [
    "# access total students\n",
    "# total students increments by 1 \n",
    "# for each object we create from the class \n",
    "\n",
    "student1.total_students"
   ]
  },
  {
   "cell_type": "code",
   "execution_count": null,
   "metadata": {
    "slideshow": {
     "slide_type": "-"
    }
   },
   "outputs": [],
   "source": [
    "student3 = Student(\"Ritah Nabunje\", \"PWSA003\", \"2B\")\n",
    "student4 = Student(\"Ufuoma Asarhasa\", \"PWSA004\", \"2C\")\n",
    "\n",
    "# confirming that total_students \n",
    "# increments as expected\n",
    "student1.total_students"
   ]
  },
  {
   "cell_type": "markdown",
   "metadata": {
    "slideshow": {
     "slide_type": "slide"
    }
   },
   "source": [
    "### Class variables Vs Instance variables\n",
    "\n",
    "* Properties:\n",
    "    * class variables: same value for every instance of the class;\n",
    "    * instance variables: value varies from one class instance to another.\n",
    "<br>\n",
    "\n",
    "* Access and update within the class:\n",
    "    * class variables: `ClassName.name_of_class_variable`;\n",
    "    * instance variables: `self.name_of_instance_variable`.\n",
    "\n",
    "* Access and update outside the class:\n",
    "    * for both: use `ObjectName.name_of_variable`.\n",
    "\n",
    "<!-- <div class=\"alert alert-info\"> \n",
    "    <b>Class variables Vs Instance variables</b>: Use class variables to define properties that should have the same value for every instance of the class. Use instance variables for properties that vary from one class instance to another.\n",
    "    \n",
    "</div> -->\n",
    "\n",
    "<div class=\"alert alert-info\"> \n",
    "    <b>NOTE</b>: Users can access the class variables outside the class, but cannot pass it as an argument to the class when creating an instance. The only parameters your user can provide are the ones within the __init__() method.\n",
    "    \n",
    "</div>\n",
    "\n",
    "<div class=\"alert alert-info\"> \n",
    "    <b>NOTE</b>: Before defining a class for a programming problem, first identify what the parameters are. Then classify them as class variables or instance variables. \n",
    "    \n",
    "</div>\n",
    "\n"
   ]
  },
  {
   "cell_type": "markdown",
   "metadata": {
    "slideshow": {
     "slide_type": "slide"
    }
   },
   "source": [
    "<br>\n",
    "\n",
    "### Instance methods\n",
    "\n",
    "* They are functions that are defined inside the body of a class.\n",
    "* They operate on the variables of a specific instance of a class. For example:\n",
    "\n",
    "```Python3\n",
    "a = \"string\"\n",
    "a.upper()\n",
    "```\n",
    "\n",
    "When we call the `.upper()` method on variable `a`, we are converting the content of `a` to upper case.\n",
    "\n",
    "* They can only be called from an instance of that class. For instance, we cannot access the `.upper()` method without first creating a string.\n",
    "\n",
    "\n"
   ]
  },
  {
   "cell_type": "code",
   "execution_count": null,
   "metadata": {
    "slideshow": {
     "slide_type": "skip"
    }
   },
   "outputs": [],
   "source": [
    "class Student:\n",
    "    \n",
    "    # class variables    \n",
    "    track = \"Algorithms\"\n",
    "    total_students = 0\n",
    "    \n",
    "    # init method to initialise instance variables\n",
    "    def __init__(self, name, wid, group):\n",
    "        self.name = name        \n",
    "        self.wid = wid\n",
    "        self.group = group\n",
    "        Student.total_students += 1\n",
    "    \n",
    "    # instance method\n",
    "    def mood(self):\n",
    "        return f\"{self.name} enjoys Python programming!\"\n",
    "    \n",
    "    # another instance method\n",
    "    def totalStudents(self):\n",
    "        return f\"Total students: {Student.total_students}\""
   ]
  },
  {
   "cell_type": "markdown",
   "metadata": {
    "slideshow": {
     "slide_type": "slide"
    }
   },
   "source": [
    "\n",
    "**Lines 15 and 19**. We define two instance methods, `mood()` and `totalStudents()` using the `def` keyword, just as we would for functions.\n",
    "* Similar to `__init__()`, the first parameter of an instance method is always `self`.\n",
    "* You can also pass additional parameters to an instance method, but the scope would only be visible within this method.\n",
    "* Usage: `objectName.method_name(...)`"
   ]
  },
  {
   "cell_type": "code",
   "execution_count": null,
   "metadata": {
    "slideshow": {
     "slide_type": "slide"
    }
   },
   "outputs": [],
   "source": [
    "student1 = Student(\"Jaspreet Kaur\", \"PWSA001\", \"2A\")\n",
    "student2 = Student(\"Odemadighi Oye\", \"PWSA002\", \"2B\")\n",
    "student3 = Student(\"Ritah Nabunje\", \"PWSA003\", \"2B\")\n",
    "student4 = Student(\"Ufuoma Asarhasa\", \"PWSA004\", \"2C\")"
   ]
  },
  {
   "cell_type": "code",
   "execution_count": null,
   "metadata": {
    "slideshow": {
     "slide_type": "-"
    }
   },
   "outputs": [],
   "source": [
    "student3.mood()"
   ]
  },
  {
   "cell_type": "code",
   "execution_count": null,
   "metadata": {
    "slideshow": {
     "slide_type": "-"
    }
   },
   "outputs": [],
   "source": [
    "student3.totalStudents()"
   ]
  },
  {
   "cell_type": "code",
   "execution_count": null,
   "metadata": {
    "slideshow": {
     "slide_type": "slide"
    }
   },
   "outputs": [],
   "source": [
    "# when you print an object, you get a cryptic message\n",
    "# which is not helpful\n",
    "\n",
    "print(student3)"
   ]
  },
  {
   "cell_type": "markdown",
   "metadata": {
    "slideshow": {
     "slide_type": "slide"
    }
   },
   "source": [
    "### Using the `__str__()` method\n",
    "\n",
    "* To return a string containing useful information about an instance of a class.\n",
    "* Python has reserved the `__str__()` method for this purpose. \n",
    "* The return value must be a string object."
   ]
  },
  {
   "cell_type": "code",
   "execution_count": null,
   "metadata": {
    "slideshow": {
     "slide_type": "slide"
    }
   },
   "outputs": [],
   "source": [
    "class Student:\n",
    "    \n",
    "    # class variables    \n",
    "    track = \"Algorithms\"\n",
    "    total_students = 0\n",
    "    \n",
    "    # init method to initialise instance variables\n",
    "    def __init__(self, name, wid, group):\n",
    "        self.name = name        \n",
    "        self.wid = wid\n",
    "        self.group = group\n",
    "        Student.total_students += 1\n",
    "    \n",
    "    # instance method\n",
    "    def mood(self):\n",
    "        return f\"{self.name} enjoys Python programming!\"\n",
    "    \n",
    "    # another instance method\n",
    "    def totalStudents(self):\n",
    "        return f\"Total students: {Student.total_students}\"\n",
    "    \n",
    "    # string method to print object of Student class\n",
    "    def __str__(self):\n",
    "        return f\"{self.name} with ID {self.wid} is in group {self.group}.\""
   ]
  },
  {
   "cell_type": "code",
   "execution_count": null,
   "metadata": {
    "slideshow": {
     "slide_type": "slide"
    }
   },
   "outputs": [],
   "source": [
    "student1 = Student(\"Jaspreet Kaur\", \"PWSA001\", \"2A\")\n",
    "student2 = Student(\"Odemadighi Oye\", \"PWSA002\", \"2B\")\n",
    "student3 = Student(\"Ritah Nabunje\", \"PWSA003\", \"2B\")\n",
    "student4 = Student(\"Ufuoma Asarhasa\", \"PWSA004\", \"2C\")\n",
    "\n",
    "print(student2)"
   ]
  },
  {
   "cell_type": "markdown",
   "metadata": {
    "slideshow": {
     "slide_type": "slide"
    }
   },
   "source": [
    "<div class=\"alert alert-info\"> \n",
    "    <b>NOTE</b>: Methods like __init__() and __str__ are special methods called <b>dunder methods</b> because they begin and end with double underscores. There are many dunder methods that you can use to customise classes in Python. \n",
    "    \n",
    "</div>"
   ]
  },
  {
   "cell_type": "markdown",
   "metadata": {
    "slideshow": {
     "slide_type": "slide"
    }
   },
   "source": [
    "<br>\n",
    "\n",
    "### Can we use `+` to add any two identical data types?\n",
    "\n",
    "* Python operators: `+`, `*`, and so on, works for built-in classes\n",
    "* The same operator works differently with different data types.\n",
    "\n",
    "```Python3\n",
    "# add two integers \n",
    "print(2  +  3)\n",
    "\n",
    "# merge two lists\n",
    "print([\"1\", \"2\"] + [\"3\"])\n",
    "\n",
    "# concatenate two strings\n",
    "print(\"Python\" *3)\n",
    "```\n",
    "\n",
    "This feature that allows the same operator to have different meaning according to the context is called **operator overloading**.\n"
   ]
  },
  {
   "cell_type": "code",
   "execution_count": null,
   "metadata": {
    "slideshow": {
     "slide_type": "skip"
    }
   },
   "outputs": [],
   "source": [
    "# add two integers \n",
    "print(2  +  3)\n",
    "\n",
    "# merge two lists\n",
    "print([\"1\", \"2\"] + [\"3\"])\n",
    "\n",
    "# concatenate two strings\n",
    "print(\"Python\" *3)"
   ]
  },
  {
   "cell_type": "markdown",
   "metadata": {
    "slideshow": {
     "slide_type": "slide"
    }
   },
   "source": [
    "### Operator overloading\n"
   ]
  },
  {
   "cell_type": "code",
   "execution_count": null,
   "metadata": {
    "slideshow": {
     "slide_type": "-"
    }
   },
   "outputs": [],
   "source": [
    "class Complex:\n",
    "    \n",
    "    # init method to initialise instance variables\n",
    "    def __init__(self, real, imag):\n",
    "        self.real = real\n",
    "        self.imag = imag\n",
    "    \n",
    "    # string method to print object of Complex class\n",
    "    def __str__(self):\n",
    "        # assuming there is always a real part\n",
    "        if self.imag == 0:\n",
    "            return f\"{self.real}\"\n",
    "        elif self.imag > 0:\n",
    "            return f\"{self.real}+{self.imag}i\"\n",
    "        # if imaginary part is negative\n",
    "        else:\n",
    "            return f\"{self.real}{self.imag}i\""
   ]
  },
  {
   "cell_type": "code",
   "execution_count": null,
   "metadata": {
    "slideshow": {
     "slide_type": "slide"
    }
   },
   "outputs": [],
   "source": [
    "c1 = Complex(2, 1)\n",
    "c2 = Complex(5, -7)\n",
    "print(f\"c1: {c1}\")\n",
    "print(f\"c2: {c2}\")\n",
    "print(f\"c1+c2: {c1+c2}\")"
   ]
  },
  {
   "cell_type": "markdown",
   "metadata": {
    "slideshow": {
     "slide_type": "slide"
    }
   },
   "source": [
    "* We cannot perform operations on any two objects of a user-defined classs unless we explicitly define a method to handle this within the class.\n",
    "* To overload operators within our class, we use the special methods below:\n",
    "\n",
    "<br>\n",
    "\n",
    "|Name &nbsp; &nbsp; &nbsp; &nbsp; &nbsp; | Symbol| Special Function |\n",
    "| --- | --- | --- |\n",
    "| Addition | `+` | `__add__(self, other)` |\n",
    "| Subtraction | `-` | `__sub__(self, other)` |\n",
    "| Division | `/` | `__truediv__(self, other)` |\n",
    "| Floor division | `//` | `__floordiv__(self, other)` |\n",
    "| Modulus | `%` | `__mod__(self, other)` |\n",
    "| Power | `**` | `__pow__(self, other)` |\n",
    "\n",
    "See section 3.3.7 in this [link](https://docs.python.org/3.2/reference/datamodel.html) for more information on operator overloading in Python."
   ]
  },
  {
   "cell_type": "markdown",
   "metadata": {
    "slideshow": {
     "slide_type": "slide"
    }
   },
   "source": [
    "**Note**\n",
    "* When you add two integers, the result is an integer. Similarly, when you add two strings, the result is a string. \n",
    "* So, when you implement the `__add__()` method in your class, it is sensible that you return the class object. "
   ]
  },
  {
   "cell_type": "code",
   "execution_count": null,
   "metadata": {
    "slideshow": {
     "slide_type": "slide"
    }
   },
   "outputs": [],
   "source": [
    "class Complex:\n",
    "    \n",
    "    # init method to initialise instance variables\n",
    "    def __init__(self, real, imag):\n",
    "        self.real = real\n",
    "        self.imag = imag\n",
    "    \n",
    "    # special method to overload the + operator for our Complex class\n",
    "    def __add__(self, other):\n",
    "        return Complex(self.real+other.real, self.imag+other.imag)\n",
    "      \n",
    "    # string method to print object of Complex class\n",
    "    def __str__(self):\n",
    "        # assuming there is always a real part\n",
    "        if self.imag == 0:\n",
    "            return f\"{self.real}\"\n",
    "        elif self.imag > 0:\n",
    "            return f\"{self.real}+{self.imag}i\"\n",
    "        # if imaginary part is negative\n",
    "        else:\n",
    "            return f\"{self.real}{self.imag}i\""
   ]
  },
  {
   "cell_type": "markdown",
   "metadata": {
    "slideshow": {
     "slide_type": "skip"
    }
   },
   "source": [
    "**Line 9.** Again, the `__add__()` method is used to tell Python what to do when we add two objects created from our `Complex` class.\n",
    "\n",
    "* `self` is the first parameter of any method defined within the class\n",
    "     \n",
    "* `other` represents the second `Complex` object\n",
    "\n",
    "**Line 10.** Return value here is `Complex`."
   ]
  },
  {
   "cell_type": "code",
   "execution_count": null,
   "metadata": {
    "slideshow": {
     "slide_type": "slide"
    }
   },
   "outputs": [],
   "source": [
    "c1 = Complex(2, 1)\n",
    "c2 = Complex(5, -7)\n",
    "print(f\"c1: {c1}\")\n",
    "print(f\"c2: {c2}\")\n",
    "# now we can use + since __add__() has been defined in our class\n",
    "print(f\"c1+c2: {c1+c2}\")"
   ]
  },
  {
   "cell_type": "code",
   "execution_count": null,
   "metadata": {
    "slideshow": {
     "slide_type": "slide"
    }
   },
   "outputs": [],
   "source": [
    "c1 = Complex(2, 1)\n",
    "c2 = Complex(5, -7)\n",
    "# can you guess the output here?\n",
    "print(c1-c2) "
   ]
  },
  {
   "cell_type": "code",
   "execution_count": null,
   "metadata": {
    "slideshow": {
     "slide_type": "slide"
    }
   },
   "outputs": [],
   "source": [
    "class Complex:\n",
    "    \n",
    "    # init method to initialise instance variables\n",
    "    def __init__(self, real, imag):\n",
    "        self.real = real\n",
    "        self.imag = imag\n",
    "    \n",
    "    # special method to overload the + operator for our Complex class\n",
    "    def __add__(self, other):\n",
    "        return Complex(self.real+other.real, self.imag+other.imag)\n",
    "\n",
    "    # special method to overload the - operator for our Complex class\n",
    "    def __sub__(self, other):\n",
    "        return Complex(self.real-other.real, self.imag-other.imag)\n",
    "    \n",
    "    # string method to print object of Complex class\n",
    "    def __str__(self):\n",
    "        # assuming there is always a real part\n",
    "        if self.imag == 0:\n",
    "            return f\"{self.real}\"\n",
    "        elif self.imag > 0:\n",
    "            return f\"{self.real}+{self.imag}i\"\n",
    "        # if imaginary part is negative\n",
    "        else:\n",
    "            return f\"{self.real}{self.imag}i\""
   ]
  },
  {
   "cell_type": "code",
   "execution_count": null,
   "metadata": {
    "slideshow": {
     "slide_type": "slide"
    }
   },
   "outputs": [],
   "source": [
    "c1 = Complex(2, 1)\n",
    "c2 = Complex(5, -7)\n",
    "print(f\"c1: {c1}\")\n",
    "print(f\"c2: {c2}\")\n",
    "# now we can use - since __sub__() has been defined in our class\n",
    "print(f\"c1-c2: {c1-c2}\")"
   ]
  },
  {
   "cell_type": "markdown",
   "metadata": {
    "slideshow": {
     "slide_type": "slide"
    }
   },
   "source": [
    "## Summary\n",
    "\n",
    "* There are several programming paradigms\n",
    "* Object-oriented programming is a paradigm for creating objects\n",
    "* Objects have data + attributes (variables) + methods (functions)\n",
    "* Everything in Python is an object\n",
    "* Class\n",
    "* Class variables and instance variables\n",
    "* Instance methods and special methods\n",
    "* Operator overloading"
   ]
  }
 ],
 "metadata": {
  "hide_input": false,
  "kernelspec": {
   "display_name": "Python 3 (ipykernel)",
   "language": "python",
   "name": "python3"
  },
  "language_info": {
   "codemirror_mode": {
    "name": "ipython",
    "version": 3
   },
   "file_extension": ".py",
   "mimetype": "text/x-python",
   "name": "python",
   "nbconvert_exporter": "python",
   "pygments_lexer": "ipython3",
   "version": "3.10.4"
  },
  "latex_envs": {
   "LaTeX_envs_menu_present": true,
   "autoclose": false,
   "autocomplete": true,
   "bibliofile": "biblio.bib",
   "cite_by": "apalike",
   "current_citInitial": 1,
   "eqLabelWithNumbers": true,
   "eqNumInitial": 1,
   "hotkeys": {
    "equation": "Ctrl-E",
    "itemize": "Ctrl-I"
   },
   "labels_anchors": false,
   "latex_user_defs": false,
   "report_style_numbering": false,
   "user_envs_cfg": false
  },
  "toc": {
   "base_numbering": 1,
   "nav_menu": {},
   "number_sections": true,
   "sideBar": true,
   "skip_h1_title": true,
   "title_cell": "Table of Contents",
   "title_sidebar": "Contents",
   "toc_cell": false,
   "toc_position": {
    "height": "calc(100% - 180px)",
    "left": "10px",
    "top": "150px",
    "width": "465.498px"
   },
   "toc_section_display": true,
   "toc_window_display": false
  }
 },
 "nbformat": 4,
 "nbformat_minor": 4
}
